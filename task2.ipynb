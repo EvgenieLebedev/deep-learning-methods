{
  "nbformat": 4,
  "nbformat_minor": 0,
  "metadata": {
    "colab": {
      "provenance": []
    },
    "kernelspec": {
      "name": "python3",
      "display_name": "Python 3"
    },
    "language_info": {
      "name": "python"
    }
  },
  "cells": [
    {
      "cell_type": "code",
      "execution_count": 42,
      "metadata": {
        "id": "OgAfyVWnlR_J"
      },
      "outputs": [],
      "source": [
        "from random import randint\n",
        "speed = 0.1\n",
        "w1 = [randint(0,100)/100, randint(0,100)/100] #Задание 1 Присвоить случаные веса\n",
        "w2 = [randint(0,100)/100, randint(0,100)/100]\n",
        "w3 = [randint(0,100)/100, randint(0,100)/100]\n",
        "x_train = [[1,1],[1,0],[0,1],[0,0]] \n",
        "y_train_X1_X2 = [0,0,1,0]\n",
        "y_train_X2_X1 = [0,1,0,0]\n",
        "y_train_Dis=[0,1,1,0]"
      ]
    },
    {
      "cell_type": "code",
      "source": [
        "def predict(x_train,w):\n",
        "  summator = x_train[0] * w[0] + x_train[1] * w[1]\n",
        "  act = 1 if summator >= 1 else 0\n",
        "  return act"
      ],
      "metadata": {
        "id": "e793maPQlmhX"
      },
      "execution_count": 58,
      "outputs": []
    },
    {
      "cell_type": "code",
      "source": [
        "def train(x_train, y_train, w):\n",
        "  for i in range(len(x_train)):\n",
        "    error = y_train[i] - predict(x_train[i],w)\n",
        "    print(w, error, y_train[i])\n",
        "    if error !=0:\n",
        "      w[0] = w[0] + error * x_train[i][0] * speed\n",
        "      w[1] = w[1] + error * x_train[i][1] * speed"
      ],
      "metadata": {
        "id": "kcKPkIg6lyCB"
      },
      "execution_count": 61,
      "outputs": []
    },
    {
      "cell_type": "code",
      "source": [
        "def epoch(count,x_train,y_train,w):\n",
        "  for i in range(count):\n",
        "    train(x_train, y_train, w)"
      ],
      "metadata": {
        "id": "r2IPcadol-so"
      },
      "execution_count": 55,
      "outputs": []
    },
    {
      "cell_type": "code",
      "source": [
        "def neural(speed,count):\n",
        "  epoch(count,x_train, y_train_X1_X2, w1)\n",
        "  epoch(count,x_train, y_train_X2_X1, w2)\n",
        "  a = []\n",
        "  for i in range(4):\n",
        "     a[len(a):] = [[predict(x_train[i],w1),predict(x_train[i],w2)]]\n",
        "  print(a)\n",
        "  epoch(count,a, y_train_Dis, w3)\n",
        "\n",
        "  \n"
      ],
      "metadata": {
        "id": "C-Hh8xXkl1Yx"
      },
      "execution_count": 71,
      "outputs": []
    },
    {
      "cell_type": "code",
      "source": [
        "neural(0.2,3)"
      ],
      "metadata": {
        "colab": {
          "base_uri": "https://localhost:8080/"
        },
        "id": "ik_zCHF6qQw2",
        "outputId": "d53db930-d989-435b-f533-6b255271c9a7"
      },
      "execution_count": 74,
      "outputs": [
        {
          "output_type": "stream",
          "name": "stdout",
          "text": [
            "[-0.08, 1.05] 0 0\n",
            "[-0.08, 1.05] 0 0\n",
            "[-0.08, 1.05] 0 1\n",
            "[-0.08, 1.05] 0 0\n",
            "[-0.08, 1.05] 0 0\n",
            "[-0.08, 1.05] 0 0\n",
            "[-0.08, 1.05] 0 1\n",
            "[-0.08, 1.05] 0 0\n",
            "[-0.08, 1.05] 0 0\n",
            "[-0.08, 1.05] 0 0\n",
            "[-0.08, 1.05] 0 1\n",
            "[-0.08, 1.05] 0 0\n",
            "[1.06, -0.09000000000000001] 0 0\n",
            "[1.06, -0.09000000000000001] 0 1\n",
            "[1.06, -0.09000000000000001] 0 0\n",
            "[1.06, -0.09000000000000001] 0 0\n",
            "[1.06, -0.09000000000000001] 0 0\n",
            "[1.06, -0.09000000000000001] 0 1\n",
            "[1.06, -0.09000000000000001] 0 0\n",
            "[1.06, -0.09000000000000001] 0 0\n",
            "[1.06, -0.09000000000000001] 0 0\n",
            "[1.06, -0.09000000000000001] 0 1\n",
            "[1.06, -0.09000000000000001] 0 0\n",
            "[1.06, -0.09000000000000001] 0 0\n",
            "[[0, 0], [0, 1], [1, 0], [0, 0]]\n",
            "[1.04, 1.0899999999999999] 0 0\n",
            "[1.04, 1.0899999999999999] 0 1\n",
            "[1.04, 1.0899999999999999] 0 1\n",
            "[1.04, 1.0899999999999999] 0 0\n",
            "[1.04, 1.0899999999999999] 0 0\n",
            "[1.04, 1.0899999999999999] 0 1\n",
            "[1.04, 1.0899999999999999] 0 1\n",
            "[1.04, 1.0899999999999999] 0 0\n",
            "[1.04, 1.0899999999999999] 0 0\n",
            "[1.04, 1.0899999999999999] 0 1\n",
            "[1.04, 1.0899999999999999] 0 1\n",
            "[1.04, 1.0899999999999999] 0 0\n"
          ]
        }
      ]
    },
    {
      "cell_type": "code",
      "source": [],
      "metadata": {
        "id": "eGv5LEddoTrn"
      },
      "execution_count": null,
      "outputs": []
    },
    {
      "cell_type": "code",
      "source": [],
      "metadata": {
        "id": "wKrXtY9zoLeh"
      },
      "execution_count": null,
      "outputs": []
    }
  ]
}