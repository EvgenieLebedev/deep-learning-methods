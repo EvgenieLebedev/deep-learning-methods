{
  "nbformat": 4,
  "nbformat_minor": 0,
  "metadata": {
    "colab": {
      "provenance": [],
      "authorship_tag": "ABX9TyO6NyeOQ94MCLQ0sjQcrDJP",
      "include_colab_link": true
    },
    "kernelspec": {
      "name": "python3",
      "display_name": "Python 3"
    },
    "language_info": {
      "name": "python"
    }
  },
  "cells": [
    {
      "cell_type": "markdown",
      "metadata": {
        "id": "view-in-github",
        "colab_type": "text"
      },
      "source": [
        "<a href=\"https://colab.research.google.com/github/EvgenieLebedev/deep-learning-methods/blob/main/%D0%97%D0%B0%D0%B4%D0%B0%D0%BD%D0%B8%D0%B5_2_%D1%80%D0%B5%D0%B3%D1%80%D0%B5%D1%81%D1%81%D0%B8%D1%8F.ipynb\" target=\"_parent\"><img src=\"https://colab.research.google.com/assets/colab-badge.svg\" alt=\"Open In Colab\"/></a>"
      ]
    },
    {
      "cell_type": "code",
      "execution_count": null,
      "metadata": {
        "colab": {
          "base_uri": "https://localhost:8080/",
          "height": 206
        },
        "id": "2-vmplMbq5A7",
        "outputId": "02b0c71f-3fac-4e41-9b91-70bb9fc9e2be"
      },
      "outputs": [
        {
          "output_type": "execute_result",
          "data": {
            "text/plain": [
              "   MedInc  HouseAge  AveRooms  AveBedrms  Population  AveOccup  Latitude  \\\n",
              "0  8.3252      41.0  6.984127   1.023810       322.0  2.555556     37.88   \n",
              "1  8.3014      21.0  6.238137   0.971880      2401.0  2.109842     37.86   \n",
              "2  7.2574      52.0  8.288136   1.073446       496.0  2.802260     37.85   \n",
              "3  5.6431      52.0  5.817352   1.073059       558.0  2.547945     37.85   \n",
              "4  3.8462      52.0  6.281853   1.081081       565.0  2.181467     37.85   \n",
              "\n",
              "   Longitude  \n",
              "0    -122.23  \n",
              "1    -122.22  \n",
              "2    -122.24  \n",
              "3    -122.25  \n",
              "4    -122.25  "
            ],
            "text/html": [
              "\n",
              "  <div id=\"df-85265170-697c-4467-a89b-3df1c8f522db\">\n",
              "    <div class=\"colab-df-container\">\n",
              "      <div>\n",
              "<style scoped>\n",
              "    .dataframe tbody tr th:only-of-type {\n",
              "        vertical-align: middle;\n",
              "    }\n",
              "\n",
              "    .dataframe tbody tr th {\n",
              "        vertical-align: top;\n",
              "    }\n",
              "\n",
              "    .dataframe thead th {\n",
              "        text-align: right;\n",
              "    }\n",
              "</style>\n",
              "<table border=\"1\" class=\"dataframe\">\n",
              "  <thead>\n",
              "    <tr style=\"text-align: right;\">\n",
              "      <th></th>\n",
              "      <th>MedInc</th>\n",
              "      <th>HouseAge</th>\n",
              "      <th>AveRooms</th>\n",
              "      <th>AveBedrms</th>\n",
              "      <th>Population</th>\n",
              "      <th>AveOccup</th>\n",
              "      <th>Latitude</th>\n",
              "      <th>Longitude</th>\n",
              "    </tr>\n",
              "  </thead>\n",
              "  <tbody>\n",
              "    <tr>\n",
              "      <th>0</th>\n",
              "      <td>8.3252</td>\n",
              "      <td>41.0</td>\n",
              "      <td>6.984127</td>\n",
              "      <td>1.023810</td>\n",
              "      <td>322.0</td>\n",
              "      <td>2.555556</td>\n",
              "      <td>37.88</td>\n",
              "      <td>-122.23</td>\n",
              "    </tr>\n",
              "    <tr>\n",
              "      <th>1</th>\n",
              "      <td>8.3014</td>\n",
              "      <td>21.0</td>\n",
              "      <td>6.238137</td>\n",
              "      <td>0.971880</td>\n",
              "      <td>2401.0</td>\n",
              "      <td>2.109842</td>\n",
              "      <td>37.86</td>\n",
              "      <td>-122.22</td>\n",
              "    </tr>\n",
              "    <tr>\n",
              "      <th>2</th>\n",
              "      <td>7.2574</td>\n",
              "      <td>52.0</td>\n",
              "      <td>8.288136</td>\n",
              "      <td>1.073446</td>\n",
              "      <td>496.0</td>\n",
              "      <td>2.802260</td>\n",
              "      <td>37.85</td>\n",
              "      <td>-122.24</td>\n",
              "    </tr>\n",
              "    <tr>\n",
              "      <th>3</th>\n",
              "      <td>5.6431</td>\n",
              "      <td>52.0</td>\n",
              "      <td>5.817352</td>\n",
              "      <td>1.073059</td>\n",
              "      <td>558.0</td>\n",
              "      <td>2.547945</td>\n",
              "      <td>37.85</td>\n",
              "      <td>-122.25</td>\n",
              "    </tr>\n",
              "    <tr>\n",
              "      <th>4</th>\n",
              "      <td>3.8462</td>\n",
              "      <td>52.0</td>\n",
              "      <td>6.281853</td>\n",
              "      <td>1.081081</td>\n",
              "      <td>565.0</td>\n",
              "      <td>2.181467</td>\n",
              "      <td>37.85</td>\n",
              "      <td>-122.25</td>\n",
              "    </tr>\n",
              "  </tbody>\n",
              "</table>\n",
              "</div>\n",
              "      <button class=\"colab-df-convert\" onclick=\"convertToInteractive('df-85265170-697c-4467-a89b-3df1c8f522db')\"\n",
              "              title=\"Convert this dataframe to an interactive table.\"\n",
              "              style=\"display:none;\">\n",
              "        \n",
              "  <svg xmlns=\"http://www.w3.org/2000/svg\" height=\"24px\"viewBox=\"0 0 24 24\"\n",
              "       width=\"24px\">\n",
              "    <path d=\"M0 0h24v24H0V0z\" fill=\"none\"/>\n",
              "    <path d=\"M18.56 5.44l.94 2.06.94-2.06 2.06-.94-2.06-.94-.94-2.06-.94 2.06-2.06.94zm-11 1L8.5 8.5l.94-2.06 2.06-.94-2.06-.94L8.5 2.5l-.94 2.06-2.06.94zm10 10l.94 2.06.94-2.06 2.06-.94-2.06-.94-.94-2.06-.94 2.06-2.06.94z\"/><path d=\"M17.41 7.96l-1.37-1.37c-.4-.4-.92-.59-1.43-.59-.52 0-1.04.2-1.43.59L10.3 9.45l-7.72 7.72c-.78.78-.78 2.05 0 2.83L4 21.41c.39.39.9.59 1.41.59.51 0 1.02-.2 1.41-.59l7.78-7.78 2.81-2.81c.8-.78.8-2.07 0-2.86zM5.41 20L4 18.59l7.72-7.72 1.47 1.35L5.41 20z\"/>\n",
              "  </svg>\n",
              "      </button>\n",
              "      \n",
              "  <style>\n",
              "    .colab-df-container {\n",
              "      display:flex;\n",
              "      flex-wrap:wrap;\n",
              "      gap: 12px;\n",
              "    }\n",
              "\n",
              "    .colab-df-convert {\n",
              "      background-color: #E8F0FE;\n",
              "      border: none;\n",
              "      border-radius: 50%;\n",
              "      cursor: pointer;\n",
              "      display: none;\n",
              "      fill: #1967D2;\n",
              "      height: 32px;\n",
              "      padding: 0 0 0 0;\n",
              "      width: 32px;\n",
              "    }\n",
              "\n",
              "    .colab-df-convert:hover {\n",
              "      background-color: #E2EBFA;\n",
              "      box-shadow: 0px 1px 2px rgba(60, 64, 67, 0.3), 0px 1px 3px 1px rgba(60, 64, 67, 0.15);\n",
              "      fill: #174EA6;\n",
              "    }\n",
              "\n",
              "    [theme=dark] .colab-df-convert {\n",
              "      background-color: #3B4455;\n",
              "      fill: #D2E3FC;\n",
              "    }\n",
              "\n",
              "    [theme=dark] .colab-df-convert:hover {\n",
              "      background-color: #434B5C;\n",
              "      box-shadow: 0px 1px 3px 1px rgba(0, 0, 0, 0.15);\n",
              "      filter: drop-shadow(0px 1px 2px rgba(0, 0, 0, 0.3));\n",
              "      fill: #FFFFFF;\n",
              "    }\n",
              "  </style>\n",
              "\n",
              "      <script>\n",
              "        const buttonEl =\n",
              "          document.querySelector('#df-85265170-697c-4467-a89b-3df1c8f522db button.colab-df-convert');\n",
              "        buttonEl.style.display =\n",
              "          google.colab.kernel.accessAllowed ? 'block' : 'none';\n",
              "\n",
              "        async function convertToInteractive(key) {\n",
              "          const element = document.querySelector('#df-85265170-697c-4467-a89b-3df1c8f522db');\n",
              "          const dataTable =\n",
              "            await google.colab.kernel.invokeFunction('convertToInteractive',\n",
              "                                                     [key], {});\n",
              "          if (!dataTable) return;\n",
              "\n",
              "          const docLinkHtml = 'Like what you see? Visit the ' +\n",
              "            '<a target=\"_blank\" href=https://colab.research.google.com/notebooks/data_table.ipynb>data table notebook</a>'\n",
              "            + ' to learn more about interactive tables.';\n",
              "          element.innerHTML = '';\n",
              "          dataTable['output_type'] = 'display_data';\n",
              "          await google.colab.output.renderOutput(dataTable, element);\n",
              "          const docLink = document.createElement('div');\n",
              "          docLink.innerHTML = docLinkHtml;\n",
              "          element.appendChild(docLink);\n",
              "        }\n",
              "      </script>\n",
              "    </div>\n",
              "  </div>\n",
              "  "
            ]
          },
          "metadata": {},
          "execution_count": 121
        }
      ],
      "source": [
        "from sklearn.datasets import fetch_california_housing\n",
        "import pandas as pd\n",
        "\n",
        "\n",
        "data = fetch_california_housing(as_frame=True)\n",
        "\n",
        "X = pd.DataFrame(data['data'], columns=data['feature_names'])\n",
        "y = data['target']\n",
        "\n",
        "X.head()"
      ]
    },
    {
      "cell_type": "code",
      "source": [
        "import matplotlib.pyplot as plt\n",
        "\n",
        "data.frame.hist(figsize=(12, 10), bins=30, edgecolor=\"black\")\n",
        "plt.subplots_adjust(hspace=0.7, wspace=0.4)"
      ],
      "metadata": {
        "colab": {
          "base_uri": "https://localhost:8080/",
          "height": 607
        },
        "id": "evGUVSxBuijb",
        "outputId": "502882e6-157e-4a48-da48-e10a12be5413"
      },
      "execution_count": null,
      "outputs": [
        {
          "output_type": "display_data",
          "data": {
            "text/plain": [
              "<Figure size 864x720 with 9 Axes>"
            ],
            "image/png": "[encoded data removed]"
          },
          "metadata": {
            "needs_background": "light"
          }
        }
      ]
    },
    {
      "cell_type": "markdown",
      "source": [
        "1.1. Разбейте данные на обучение и тест"
      ],
      "metadata": {
        "id": "oFrEsT-CrCvt"
      }
    },
    {
      "cell_type": "code",
      "source": [
        "from sklearn.model_selection import train_test_split\n",
        "\n",
        "\n",
        "X_train, X_test, y_train, y_test = train_test_split(X.values, y, test_size=0.1, random_state=123)\n",
        "\n",
        "#нормируем данные по формуле (Хi-M[x])/СКО , где M[x]-мат. ожидание СКО- средняя квадратическая ошибка\n",
        "mean = X_train.mean(axis=0)\n",
        "std = X_train.std(axis=0)\n",
        "\n",
        "X_train = (X_train - mean) / std\n",
        "X_test = (X_test - mean) / std\n",
        "\n",
        "X_train.shape, X_test.shape, y_train.shape, y_test.shape"
      ],
      "metadata": {
        "colab": {
          "base_uri": "https://localhost:8080/"
        },
        "id": "MI0v2RYTq-we",
        "outputId": "24f25b8a-c9d9-48a2-d3b9-5bca7450a006"
      },
      "execution_count": null,
      "outputs": [
        {
          "output_type": "execute_result",
          "data": {
            "text/plain": [
              "((18576, 8), (2064, 8), (18576,), (2064,))"
            ]
          },
          "metadata": {},
          "execution_count": 123
        }
      ]
    },
    {
      "cell_type": "markdown",
      "source": [
        "1.2. Создайте архитектуру для этой задачи"
      ],
      "metadata": {
        "id": "6Ox_B1oSrJbt"
      }
    },
    {
      "cell_type": "code",
      "source": [
        "from keras.models import Sequential\n",
        "from keras.layers import Dense\n",
        "\n",
        "model = Sequential()\n",
        "\n",
        "model.add(Dense(128, input_shape=(8, ), activation='relu', name='dense_1'))\n",
        "model.add(Dense(64, activation='relu', name='dense_2'))\n",
        "model.add(Dense(1, activation='linear', name='dense_output'))\n"
      ],
      "metadata": {
        "id": "SWynpUQDq_Nd"
      },
      "execution_count": null,
      "outputs": []
    },
    {
      "cell_type": "markdown",
      "source": [
        "1.3. Скомпилируйте сеть\n",
        "Подберите нужную функцию потерь и метрику. Оптимизатор можете использовать 'sgd'"
      ],
      "metadata": {
        "id": "_rlyu4EArKDk"
      }
    },
    {
      "cell_type": "code",
      "source": [
        "model.compile(optimizer='adam', loss='mse', metrics=['mae'])\n",
        "model.summary()"
      ],
      "metadata": {
        "colab": {
          "base_uri": "https://localhost:8080/"
        },
        "id": "VR_XN3IKq_af",
        "outputId": "fa19a68e-abfa-4386-b768-0067cde44f2f"
      },
      "execution_count": null,
      "outputs": [
        {
          "output_type": "stream",
          "name": "stdout",
          "text": [
            "Model: \"sequential_10\"\n",
            "_________________________________________________________________\n",
            " Layer (type)                Output Shape              Param #   \n",
            "=================================================================\n",
            " dense_1 (Dense)             (None, 128)               1152      \n",
            "                                                                 \n",
            " dense_2 (Dense)             (None, 64)                8256      \n",
            "                                                                 \n",
            " dense_output (Dense)        (None, 1)                 65        \n",
            "                                                                 \n",
            "=================================================================\n",
            "Total params: 9,473\n",
            "Trainable params: 9,473\n",
            "Non-trainable params: 0\n",
            "_________________________________________________________________\n"
          ]
        }
      ]
    },
    {
      "cell_type": "markdown",
      "source": [
        "1.4. Обучите нейросеть\n",
        "Выберите нужное количество эпох."
      ],
      "metadata": {
        "id": "ZCPNPp10rKas"
      }
    },
    {
      "cell_type": "code",
      "source": [
        "history = model.fit(X_train, y_train, epochs=100, validation_split=0.05)"
      ],
      "metadata": {
        "colab": {
          "base_uri": "https://localhost:8080/"
        },
        "id": "vrHHt-KNrKkk",
        "outputId": "6ed77eae-b780-469d-bb6a-6a781c81a841"
      },
      "execution_count": null,
      "outputs": [
        {
          "output_type": "stream",
          "name": "stdout",
          "text": [
            "Epoch 1/100\n",
            "552/552 [==============================] - 2s 2ms/step - loss: 0.6587 - mae: 0.5532 - val_loss: 0.7867 - val_mae: 0.4693\n",
            "Epoch 2/100\n",
            "552/552 [==============================] - 1s 2ms/step - loss: 0.3762 - mae: 0.4339 - val_loss: 0.3839 - val_mae: 0.4445\n",
            "Epoch 3/100\n",
            "552/552 [==============================] - 1s 2ms/step - loss: 0.3528 - mae: 0.4178 - val_loss: 0.4210 - val_mae: 0.4166\n",
            "Epoch 4/100\n",
            "552/552 [==============================] - 1s 2ms/step - loss: 0.3259 - mae: 0.4004 - val_loss: 0.3332 - val_mae: 0.3950\n",
            "Epoch 5/100\n",
            "552/552 [==============================] - 1s 2ms/step - loss: 0.3180 - mae: 0.3910 - val_loss: 0.6301 - val_mae: 0.4314\n",
            "Epoch 6/100\n",
            "552/552 [==============================] - 1s 2ms/step - loss: 0.3074 - mae: 0.3840 - val_loss: 0.3037 - val_mae: 0.3915\n",
            "Epoch 7/100\n",
            "552/552 [==============================] - 1s 2ms/step - loss: 0.3041 - mae: 0.3799 - val_loss: 0.3123 - val_mae: 0.3953\n",
            "Epoch 8/100\n",
            "552/552 [==============================] - 1s 2ms/step - loss: 0.3088 - mae: 0.3791 - val_loss: 0.4656 - val_mae: 0.3919\n",
            "Epoch 9/100\n",
            "552/552 [==============================] - 1s 2ms/step - loss: 0.2911 - mae: 0.3717 - val_loss: 0.4605 - val_mae: 0.3894\n",
            "Epoch 10/100\n",
            "552/552 [==============================] - 1s 2ms/step - loss: 0.2959 - mae: 0.3703 - val_loss: 0.5956 - val_mae: 0.4177\n",
            "Epoch 11/100\n",
            "552/552 [==============================] - 1s 2ms/step - loss: 0.2850 - mae: 0.3653 - val_loss: 0.3199 - val_mae: 0.3870\n",
            "Epoch 12/100\n",
            "552/552 [==============================] - 1s 2ms/step - loss: 0.2801 - mae: 0.3635 - val_loss: 0.4040 - val_mae: 0.3779\n",
            "Epoch 13/100\n",
            "552/552 [==============================] - 1s 2ms/step - loss: 0.2784 - mae: 0.3614 - val_loss: 0.3064 - val_mae: 0.3857\n",
            "Epoch 14/100\n",
            "552/552 [==============================] - 1s 2ms/step - loss: 0.2736 - mae: 0.3571 - val_loss: 0.4863 - val_mae: 0.4290\n",
            "Epoch 15/100\n",
            "552/552 [==============================] - 1s 2ms/step - loss: 0.2753 - mae: 0.3599 - val_loss: 0.9063 - val_mae: 0.4013\n",
            "Epoch 16/100\n",
            "552/552 [==============================] - 1s 2ms/step - loss: 0.2718 - mae: 0.3561 - val_loss: 0.4472 - val_mae: 0.3822\n",
            "Epoch 17/100\n",
            "552/552 [==============================] - 1s 2ms/step - loss: 0.2762 - mae: 0.3571 - val_loss: 0.3032 - val_mae: 0.3952\n",
            "Epoch 18/100\n",
            "552/552 [==============================] - 1s 2ms/step - loss: 0.2693 - mae: 0.3543 - val_loss: 0.4784 - val_mae: 0.3843\n",
            "Epoch 19/100\n",
            "552/552 [==============================] - 1s 2ms/step - loss: 0.2633 - mae: 0.3496 - val_loss: 0.3338 - val_mae: 0.3754\n",
            "Epoch 20/100\n",
            "552/552 [==============================] - 1s 2ms/step - loss: 0.2606 - mae: 0.3485 - val_loss: 0.2810 - val_mae: 0.3592\n",
            "Epoch 21/100\n",
            "552/552 [==============================] - 1s 2ms/step - loss: 0.2585 - mae: 0.3471 - val_loss: 0.3106 - val_mae: 0.3672\n",
            "Epoch 22/100\n",
            "552/552 [==============================] - 1s 2ms/step - loss: 0.2574 - mae: 0.3461 - val_loss: 0.3109 - val_mae: 0.3665\n",
            "Epoch 23/100\n",
            "552/552 [==============================] - 1s 2ms/step - loss: 0.2540 - mae: 0.3452 - val_loss: 0.4331 - val_mae: 0.3711\n",
            "Epoch 24/100\n",
            "552/552 [==============================] - 1s 2ms/step - loss: 0.2551 - mae: 0.3441 - val_loss: 0.2706 - val_mae: 0.3561\n",
            "Epoch 25/100\n",
            "552/552 [==============================] - 1s 2ms/step - loss: 0.2560 - mae: 0.3454 - val_loss: 0.3259 - val_mae: 0.3623\n",
            "Epoch 26/100\n",
            "552/552 [==============================] - 1s 2ms/step - loss: 0.2542 - mae: 0.3426 - val_loss: 0.2824 - val_mae: 0.3571\n",
            "Epoch 27/100\n",
            "552/552 [==============================] - 1s 2ms/step - loss: 0.2491 - mae: 0.3404 - val_loss: 0.3340 - val_mae: 0.3664\n",
            "Epoch 28/100\n",
            "552/552 [==============================] - 1s 2ms/step - loss: 0.2470 - mae: 0.3383 - val_loss: 0.3133 - val_mae: 0.3605\n",
            "Epoch 29/100\n",
            "552/552 [==============================] - 1s 2ms/step - loss: 0.2472 - mae: 0.3387 - val_loss: 0.4308 - val_mae: 0.3646\n",
            "Epoch 30/100\n",
            "552/552 [==============================] - 1s 2ms/step - loss: 0.2474 - mae: 0.3382 - val_loss: 0.3218 - val_mae: 0.3647\n",
            "Epoch 31/100\n",
            "552/552 [==============================] - 1s 2ms/step - loss: 0.2440 - mae: 0.3360 - val_loss: 0.4773 - val_mae: 0.3785\n",
            "Epoch 32/100\n",
            "552/552 [==============================] - 1s 2ms/step - loss: 0.2465 - mae: 0.3377 - val_loss: 0.3513 - val_mae: 0.3611\n",
            "Epoch 33/100\n",
            "552/552 [==============================] - 1s 2ms/step - loss: 0.2480 - mae: 0.3368 - val_loss: 0.2820 - val_mae: 0.3560\n",
            "Epoch 34/100\n",
            "552/552 [==============================] - 1s 2ms/step - loss: 0.2397 - mae: 0.3318 - val_loss: 0.3468 - val_mae: 0.3552\n",
            "Epoch 35/100\n",
            "552/552 [==============================] - 1s 2ms/step - loss: 0.2405 - mae: 0.3347 - val_loss: 0.3835 - val_mae: 0.3589\n",
            "Epoch 36/100\n",
            "552/552 [==============================] - 1s 2ms/step - loss: 0.2402 - mae: 0.3323 - val_loss: 0.3008 - val_mae: 0.3531\n",
            "Epoch 37/100\n",
            "552/552 [==============================] - 1s 2ms/step - loss: 0.2383 - mae: 0.3320 - val_loss: 0.2995 - val_mae: 0.3649\n",
            "Epoch 38/100\n",
            "552/552 [==============================] - 1s 2ms/step - loss: 0.2373 - mae: 0.3321 - val_loss: 0.2883 - val_mae: 0.3557\n",
            "Epoch 39/100\n",
            "552/552 [==============================] - 1s 2ms/step - loss: 0.2349 - mae: 0.3293 - val_loss: 0.3407 - val_mae: 0.3744\n",
            "Epoch 40/100\n",
            "552/552 [==============================] - 1s 2ms/step - loss: 0.2352 - mae: 0.3298 - val_loss: 0.2736 - val_mae: 0.3621\n",
            "Epoch 41/100\n",
            "552/552 [==============================] - 1s 2ms/step - loss: 0.2346 - mae: 0.3294 - val_loss: 0.2943 - val_mae: 0.3685\n",
            "Epoch 42/100\n",
            "552/552 [==============================] - 1s 2ms/step - loss: 0.2331 - mae: 0.3290 - val_loss: 0.3110 - val_mae: 0.3679\n",
            "Epoch 43/100\n",
            "552/552 [==============================] - 1s 2ms/step - loss: 0.2332 - mae: 0.3290 - val_loss: 0.2684 - val_mae: 0.3391\n",
            "Epoch 44/100\n",
            "552/552 [==============================] - 1s 2ms/step - loss: 0.2307 - mae: 0.3257 - val_loss: 0.3460 - val_mae: 0.3518\n",
            "Epoch 45/100\n",
            "552/552 [==============================] - 1s 2ms/step - loss: 0.2304 - mae: 0.3263 - val_loss: 0.5175 - val_mae: 0.3635\n",
            "Epoch 46/100\n",
            "552/552 [==============================] - 1s 2ms/step - loss: 0.2306 - mae: 0.3263 - val_loss: 0.2810 - val_mae: 0.3590\n",
            "Epoch 47/100\n",
            "552/552 [==============================] - 1s 2ms/step - loss: 0.2288 - mae: 0.3240 - val_loss: 0.2890 - val_mae: 0.3490\n",
            "Epoch 48/100\n",
            "552/552 [==============================] - 1s 2ms/step - loss: 0.2288 - mae: 0.3253 - val_loss: 0.2849 - val_mae: 0.3631\n",
            "Epoch 49/100\n",
            "552/552 [==============================] - 1s 3ms/step - loss: 0.2295 - mae: 0.3269 - val_loss: 0.3149 - val_mae: 0.3595\n",
            "Epoch 50/100\n",
            "552/552 [==============================] - 1s 2ms/step - loss: 0.2258 - mae: 0.3223 - val_loss: 0.2994 - val_mae: 0.3593\n",
            "Epoch 51/100\n",
            "552/552 [==============================] - 1s 2ms/step - loss: 0.2261 - mae: 0.3232 - val_loss: 0.3255 - val_mae: 0.3481\n",
            "Epoch 52/100\n",
            "552/552 [==============================] - 1s 2ms/step - loss: 0.2261 - mae: 0.3229 - val_loss: 0.2917 - val_mae: 0.3554\n",
            "Epoch 53/100\n",
            "552/552 [==============================] - 1s 2ms/step - loss: 0.2242 - mae: 0.3222 - val_loss: 0.3151 - val_mae: 0.3690\n",
            "Epoch 54/100\n",
            "552/552 [==============================] - 1s 2ms/step - loss: 0.2243 - mae: 0.3213 - val_loss: 0.3037 - val_mae: 0.3599\n",
            "Epoch 55/100\n",
            "552/552 [==============================] - 1s 2ms/step - loss: 0.2266 - mae: 0.3238 - val_loss: 0.4035 - val_mae: 0.3706\n",
            "Epoch 56/100\n",
            "552/552 [==============================] - 1s 2ms/step - loss: 0.2236 - mae: 0.3214 - val_loss: 0.3103 - val_mae: 0.3523\n",
            "Epoch 57/100\n",
            "552/552 [==============================] - 1s 2ms/step - loss: 0.2204 - mae: 0.3187 - val_loss: 0.3270 - val_mae: 0.3523\n",
            "Epoch 58/100\n",
            "552/552 [==============================] - 1s 2ms/step - loss: 0.2209 - mae: 0.3209 - val_loss: 0.3100 - val_mae: 0.3526\n",
            "Epoch 59/100\n",
            "552/552 [==============================] - 1s 2ms/step - loss: 0.2214 - mae: 0.3199 - val_loss: 0.3308 - val_mae: 0.3520\n",
            "Epoch 60/100\n",
            "552/552 [==============================] - 1s 2ms/step - loss: 0.2200 - mae: 0.3178 - val_loss: 0.2978 - val_mae: 0.3524\n",
            "Epoch 61/100\n",
            "552/552 [==============================] - 1s 2ms/step - loss: 0.2199 - mae: 0.3177 - val_loss: 0.2903 - val_mae: 0.3538\n",
            "Epoch 62/100\n",
            "552/552 [==============================] - 1s 2ms/step - loss: 0.2202 - mae: 0.3185 - val_loss: 0.2724 - val_mae: 0.3432\n",
            "Epoch 63/100\n",
            "552/552 [==============================] - 1s 2ms/step - loss: 0.2192 - mae: 0.3169 - val_loss: 0.2951 - val_mae: 0.3475\n",
            "Epoch 64/100\n",
            "552/552 [==============================] - 1s 2ms/step - loss: 0.2172 - mae: 0.3177 - val_loss: 0.2994 - val_mae: 0.3546\n",
            "Epoch 65/100\n",
            "552/552 [==============================] - 1s 2ms/step - loss: 0.2165 - mae: 0.3173 - val_loss: 0.3097 - val_mae: 0.3555\n",
            "Epoch 66/100\n",
            "552/552 [==============================] - 1s 2ms/step - loss: 0.2151 - mae: 0.3155 - val_loss: 0.3267 - val_mae: 0.3677\n",
            "Epoch 67/100\n",
            "552/552 [==============================] - 1s 2ms/step - loss: 0.2158 - mae: 0.3162 - val_loss: 0.2912 - val_mae: 0.3514\n",
            "Epoch 68/100\n",
            "552/552 [==============================] - 1s 2ms/step - loss: 0.2153 - mae: 0.3160 - val_loss: 0.3513 - val_mae: 0.3639\n",
            "Epoch 69/100\n",
            "552/552 [==============================] - 1s 2ms/step - loss: 0.2124 - mae: 0.3142 - val_loss: 0.3658 - val_mae: 0.3617\n",
            "Epoch 70/100\n",
            "552/552 [==============================] - 1s 2ms/step - loss: 0.2142 - mae: 0.3151 - val_loss: 0.3123 - val_mae: 0.3522\n",
            "Epoch 71/100\n",
            "552/552 [==============================] - 1s 2ms/step - loss: 0.2138 - mae: 0.3141 - val_loss: 0.2999 - val_mae: 0.3481\n",
            "Epoch 72/100\n",
            "552/552 [==============================] - 1s 2ms/step - loss: 0.2121 - mae: 0.3142 - val_loss: 0.3128 - val_mae: 0.3454\n",
            "Epoch 73/100\n",
            "552/552 [==============================] - 1s 2ms/step - loss: 0.2112 - mae: 0.3130 - val_loss: 0.3302 - val_mae: 0.3767\n",
            "Epoch 74/100\n",
            "552/552 [==============================] - 1s 2ms/step - loss: 0.2173 - mae: 0.3127 - val_loss: 0.2633 - val_mae: 0.3508\n",
            "Epoch 75/100\n",
            "552/552 [==============================] - 1s 2ms/step - loss: 0.2131 - mae: 0.3134 - val_loss: 0.3259 - val_mae: 0.3565\n",
            "Epoch 76/100\n",
            "552/552 [==============================] - 1s 2ms/step - loss: 0.2125 - mae: 0.3127 - val_loss: 0.4431 - val_mae: 0.3596\n",
            "Epoch 77/100\n",
            "552/552 [==============================] - 1s 2ms/step - loss: 0.2083 - mae: 0.3096 - val_loss: 0.2592 - val_mae: 0.3440\n",
            "Epoch 78/100\n",
            "552/552 [==============================] - 1s 2ms/step - loss: 0.2073 - mae: 0.3106 - val_loss: 0.5403 - val_mae: 0.3686\n",
            "Epoch 79/100\n",
            "552/552 [==============================] - 1s 2ms/step - loss: 0.2093 - mae: 0.3120 - val_loss: 0.2660 - val_mae: 0.3442\n",
            "Epoch 80/100\n",
            "552/552 [==============================] - 1s 2ms/step - loss: 0.2062 - mae: 0.3088 - val_loss: 0.3599 - val_mae: 0.3656\n",
            "Epoch 81/100\n",
            "552/552 [==============================] - 1s 2ms/step - loss: 0.2070 - mae: 0.3100 - val_loss: 0.3157 - val_mae: 0.3473\n",
            "Epoch 82/100\n",
            "552/552 [==============================] - 1s 2ms/step - loss: 0.2057 - mae: 0.3089 - val_loss: 0.4280 - val_mae: 0.3550\n",
            "Epoch 83/100\n",
            "552/552 [==============================] - 1s 2ms/step - loss: 0.2077 - mae: 0.3108 - val_loss: 0.2578 - val_mae: 0.3394\n",
            "Epoch 84/100\n",
            "552/552 [==============================] - 1s 2ms/step - loss: 0.2043 - mae: 0.3086 - val_loss: 0.6846 - val_mae: 0.3727\n",
            "Epoch 85/100\n",
            "552/552 [==============================] - 1s 2ms/step - loss: 0.2061 - mae: 0.3084 - val_loss: 0.2861 - val_mae: 0.3503\n",
            "Epoch 86/100\n",
            "552/552 [==============================] - 1s 2ms/step - loss: 0.2031 - mae: 0.3071 - val_loss: 0.3415 - val_mae: 0.3572\n",
            "Epoch 87/100\n",
            "552/552 [==============================] - 1s 2ms/step - loss: 0.2029 - mae: 0.3073 - val_loss: 0.2596 - val_mae: 0.3436\n",
            "Epoch 88/100\n",
            "552/552 [==============================] - 1s 2ms/step - loss: 0.2019 - mae: 0.3069 - val_loss: 0.4102 - val_mae: 0.3648\n",
            "Epoch 89/100\n",
            "552/552 [==============================] - 1s 2ms/step - loss: 0.2031 - mae: 0.3069 - val_loss: 0.2956 - val_mae: 0.3542\n",
            "Epoch 90/100\n",
            "552/552 [==============================] - 1s 2ms/step - loss: 0.2027 - mae: 0.3072 - val_loss: 0.3504 - val_mae: 0.3696\n",
            "Epoch 91/100\n",
            "552/552 [==============================] - 1s 2ms/step - loss: 0.2012 - mae: 0.3066 - val_loss: 0.2952 - val_mae: 0.3436\n",
            "Epoch 92/100\n",
            "552/552 [==============================] - 1s 2ms/step - loss: 0.2024 - mae: 0.3057 - val_loss: 0.3920 - val_mae: 0.3515\n",
            "Epoch 93/100\n",
            "552/552 [==============================] - 1s 2ms/step - loss: 0.2014 - mae: 0.3066 - val_loss: 0.3814 - val_mae: 0.3528\n",
            "Epoch 94/100\n",
            "552/552 [==============================] - 1s 2ms/step - loss: 0.2000 - mae: 0.3062 - val_loss: 0.3518 - val_mae: 0.3484\n",
            "Epoch 95/100\n",
            "552/552 [==============================] - 1s 2ms/step - loss: 0.1989 - mae: 0.3045 - val_loss: 0.6801 - val_mae: 0.3632\n",
            "Epoch 96/100\n",
            "552/552 [==============================] - 1s 2ms/step - loss: 0.1990 - mae: 0.3039 - val_loss: 0.2648 - val_mae: 0.3445\n",
            "Epoch 97/100\n",
            "552/552 [==============================] - 1s 2ms/step - loss: 0.1977 - mae: 0.3033 - val_loss: 0.3436 - val_mae: 0.3472\n",
            "Epoch 98/100\n",
            "552/552 [==============================] - 1s 2ms/step - loss: 0.1986 - mae: 0.3038 - val_loss: 0.3106 - val_mae: 0.3581\n",
            "Epoch 99/100\n",
            "552/552 [==============================] - 1s 2ms/step - loss: 0.1971 - mae: 0.3037 - val_loss: 0.3299 - val_mae: 0.3491\n",
            "Epoch 100/100\n",
            "552/552 [==============================] - 1s 2ms/step - loss: 0.1973 - mae: 0.3033 - val_loss: 0.2847 - val_mae: 0.3500\n"
          ]
        }
      ]
    },
    {
      "cell_type": "markdown",
      "source": [
        "1.5. Сделайте вывод, хорошо ли модель обучается?\n",
        "Если модель обучается плохо, можете внести изменения в работ"
      ],
      "metadata": {
        "id": "8OLOBeYErVyd"
      }
    },
    {
      "cell_type": "code",
      "source": [
        "import plotly.graph_objects as go\n",
        "fig = go.Figure()\n",
        "fig.add_trace(go.Scattergl(y=history.history['loss'],\n",
        "                    name='Train'))\n",
        "\n",
        "fig.add_trace(go.Scattergl(y=history.history['val_loss'],\n",
        "                    name='Valid'))\n",
        "\n",
        "\n",
        "fig.update_layout(height=500, width=700,\n",
        "                  xaxis_title='Epoch',\n",
        "                  yaxis_title='Loss')\n",
        "\n",
        "fig.show()"
      ],
      "metadata": {
        "colab": {
          "base_uri": "https://localhost:8080/",
          "height": 517
        },
        "id": "FkIKjESJrWBU",
        "outputId": "be54f898-6349-45be-afaf-28945032b2f7"
      },
      "execution_count": null,
      "outputs": [
        {
          "output_type": "display_data",
          "data": {
            "text/html": [
              "<html>\n",
              "<head><meta charset=\"utf-8\" /></head>\n",
              "<body>\n",
              "    <div>            <script src=\"https://cdnjs.cloudflare.com/ajax/libs/mathjax/2.7.5/MathJax.js?config=TeX-AMS-MML_SVG\"></script><script type=\"text/javascript\">if (window.MathJax) {MathJax.Hub.Config({SVG: {font: \"STIX-Web\"}});}</script>                <script type=\"text/javascript\">window.PlotlyConfig = {MathJaxConfig: 'local'};</script>\n",
              "        <script src=\"https://cdn.plot.ly/plotly-2.8.3.min.js\"></script>                <div id=\"2b5c1907-5cae-4afa-b0e2-fe715d1af97e\" class=\"plotly-graph-div\" style=\"height:500px; width:700px;\"></div>            <script type=\"text/javascript\">                                    window.PLOTLYENV=window.PLOTLYENV || {};                                    if (document.getElementById(\"2b5c1907-5cae-4afa-b0e2-fe715d1af97e\")) {                    Plotly.newPlot(                        \"2b5c1907-5cae-4afa-b0e2-fe715d1af97e\",                        [{\"name\":\"Train\",\"y\":[0.6586914658546448,0.37621742486953735,0.3527739644050598,0.3259184956550598,0.31795886158943176,0.30737724900245667,0.3041492700576782,0.30884501338005066,0.2911246418952942,0.2959393262863159,0.2849982976913452,0.2800696790218353,0.2784425914287567,0.2735734283924103,0.2752755582332611,0.2718486189842224,0.2761525511741638,0.2692507207393646,0.2632823586463928,0.2606455087661743,0.25850000977516174,0.25737544894218445,0.25403961539268494,0.2550901770591736,0.25599807500839233,0.2541951835155487,0.24906975030899048,0.24699290096759796,0.24722005426883698,0.24742642045021057,0.24397839605808258,0.24646811187267303,0.24796226620674133,0.2397298514842987,0.24048611521720886,0.24018648266792297,0.23828700184822083,0.23733139038085938,0.23491711914539337,0.23515254259109497,0.23456497490406036,0.23305967450141907,0.23324421048164368,0.23067039251327515,0.2303999960422516,0.23060333728790283,0.22882643342018127,0.22879822552204132,0.22946487367153168,0.22583742439746857,0.2261495590209961,0.22608380019664764,0.22415779531002045,0.22428619861602783,0.2265896201133728,0.22360588610172272,0.22042633593082428,0.22094286978244781,0.22136521339416504,0.21997910737991333,0.21987660229206085,0.22021690011024475,0.21923117339611053,0.21720868349075317,0.2164676934480667,0.21511194109916687,0.21582625806331635,0.21534140408039093,0.21240226924419403,0.21415174007415771,0.21376155316829681,0.21207772195339203,0.2111557126045227,0.21731682121753693,0.21306736767292023,0.2125331610441208,0.2082991600036621,0.20727382600307465,0.20930618047714233,0.20621103048324585,0.20699593424797058,0.20565465092658997,0.20772896707057953,0.20432543754577637,0.2061379998922348,0.203072652220726,0.2029195874929428,0.2018512785434723,0.2031448632478714,0.20268185436725616,0.20120710134506226,0.20239487290382385,0.20143407583236694,0.19998110830783844,0.19887828826904297,0.1990322470664978,0.19769304990768433,0.1985684633255005,0.1970520168542862,0.1973339170217514],\"type\":\"scattergl\"},{\"name\":\"Valid\",\"y\":[0.7867321372032166,0.3838956654071808,0.42095819115638733,0.3332291543483734,0.6301225423812866,0.30374497175216675,0.3123135566711426,0.4656159579753876,0.4605095088481903,0.5956245064735413,0.31986668705940247,0.4039939343929291,0.3064322769641876,0.4863002598285675,0.9062930345535278,0.4471893012523651,0.30321142077445984,0.4784080684185028,0.3337559700012207,0.2810334861278534,0.3106383979320526,0.3108760416507721,0.43308717012405396,0.2706032991409302,0.325941264629364,0.28237059712409973,0.33396896719932556,0.31329700350761414,0.43081310391426086,0.32183730602264404,0.4773339331150055,0.3513297140598297,0.2820395529270172,0.3467659652233124,0.38352906703948975,0.3007824718952179,0.2995287775993347,0.28834420442581177,0.3407242000102997,0.2735905647277832,0.2942963242530823,0.3109845221042633,0.26841071248054504,0.34596237540245056,0.5174522995948792,0.28097739815711975,0.28904208540916443,0.2848939001560211,0.3148682415485382,0.2994330823421478,0.32554522156715393,0.2916505038738251,0.31508249044418335,0.3036881685256958,0.40345343947410583,0.3103242516517639,0.32696694135665894,0.3099960684776306,0.3307932913303375,0.2977963089942932,0.29032033681869507,0.27236685156822205,0.29507341980934143,0.2993610203266144,0.30966058373451233,0.3267076015472412,0.2912382483482361,0.3513263761997223,0.3658381700515747,0.31229105591773987,0.29985949397087097,0.3128252327442169,0.3302197754383087,0.26326653361320496,0.32591989636421204,0.4431056082248688,0.2592147886753082,0.5403435230255127,0.26597413420677185,0.3599119782447815,0.3156735897064209,0.42803215980529785,0.25775739550590515,0.6846266388893127,0.28608590364456177,0.3415162265300751,0.25960448384284973,0.41020822525024414,0.2956491708755493,0.35039570927619934,0.29518261551856995,0.3919942080974579,0.38140159845352173,0.3518383502960205,0.6800503134727478,0.26484665274620056,0.3436107039451599,0.3106328248977661,0.3298857808113098,0.2846657931804657],\"type\":\"scattergl\"}],                        {\"template\":{\"data\":{\"bar\":[{\"error_x\":{\"color\":\"#2a3f5f\"},\"error_y\":{\"color\":\"#2a3f5f\"},\"marker\":{\"line\":{\"color\":\"#E5ECF6\",\"width\":0.5},\"pattern\":{\"fillmode\":\"overlay\",\"size\":10,\"solidity\":0.2}},\"type\":\"bar\"}],\"barpolar\":[{\"marker\":{\"line\":{\"color\":\"#E5ECF6\",\"width\":0.5},\"pattern\":{\"fillmode\":\"overlay\",\"size\":10,\"solidity\":0.2}},\"type\":\"barpolar\"}],\"carpet\":[{\"aaxis\":{\"endlinecolor\":\"#2a3f5f\",\"gridcolor\":\"white\",\"linecolor\":\"white\",\"minorgridcolor\":\"white\",\"startlinecolor\":\"#2a3f5f\"},\"baxis\":{\"endlinecolor\":\"#2a3f5f\",\"gridcolor\":\"white\",\"linecolor\":\"white\",\"minorgridcolor\":\"white\",\"startlinecolor\":\"#2a3f5f\"},\"type\":\"carpet\"}],\"choropleth\":[{\"colorbar\":{\"outlinewidth\":0,\"ticks\":\"\"},\"type\":\"choropleth\"}],\"contour\":[{\"colorbar\":{\"outlinewidth\":0,\"ticks\":\"\"},\"colorscale\":[[0.0,\"#0d0887\"],[0.1111111111111111,\"#46039f\"],[0.2222222222222222,\"#7201a8\"],[0.3333333333333333,\"#9c179e\"],[0.4444444444444444,\"#bd3786\"],[0.5555555555555556,\"#d8576b\"],[0.6666666666666666,\"#ed7953\"],[0.7777777777777778,\"#fb9f3a\"],[0.8888888888888888,\"#fdca26\"],[1.0,\"#f0f921\"]],\"type\":\"contour\"}],\"contourcarpet\":[{\"colorbar\":{\"outlinewidth\":0,\"ticks\":\"\"},\"type\":\"contourcarpet\"}],\"heatmap\":[{\"colorbar\":{\"outlinewidth\":0,\"ticks\":\"\"},\"colorscale\":[[0.0,\"#0d0887\"],[0.1111111111111111,\"#46039f\"],[0.2222222222222222,\"#7201a8\"],[0.3333333333333333,\"#9c179e\"],[0.4444444444444444,\"#bd3786\"],[0.5555555555555556,\"#d8576b\"],[0.6666666666666666,\"#ed7953\"],[0.7777777777777778,\"#fb9f3a\"],[0.8888888888888888,\"#fdca26\"],[1.0,\"#f0f921\"]],\"type\":\"heatmap\"}],\"heatmapgl\":[{\"colorbar\":{\"outlinewidth\":0,\"ticks\":\"\"},\"colorscale\":[[0.0,\"#0d0887\"],[0.1111111111111111,\"#46039f\"],[0.2222222222222222,\"#7201a8\"],[0.3333333333333333,\"#9c179e\"],[0.4444444444444444,\"#bd3786\"],[0.5555555555555556,\"#d8576b\"],[0.6666666666666666,\"#ed7953\"],[0.7777777777777778,\"#fb9f3a\"],[0.8888888888888888,\"#fdca26\"],[1.0,\"#f0f921\"]],\"type\":\"heatmapgl\"}],\"histogram\":[{\"marker\":{\"pattern\":{\"fillmode\":\"overlay\",\"size\":10,\"solidity\":0.2}},\"type\":\"histogram\"}],\"histogram2d\":[{\"colorbar\":{\"outlinewidth\":0,\"ticks\":\"\"},\"colorscale\":[[0.0,\"#0d0887\"],[0.1111111111111111,\"#46039f\"],[0.2222222222222222,\"#7201a8\"],[0.3333333333333333,\"#9c179e\"],[0.4444444444444444,\"#bd3786\"],[0.5555555555555556,\"#d8576b\"],[0.6666666666666666,\"#ed7953\"],[0.7777777777777778,\"#fb9f3a\"],[0.8888888888888888,\"#fdca26\"],[1.0,\"#f0f921\"]],\"type\":\"histogram2d\"}],\"histogram2dcontour\":[{\"colorbar\":{\"outlinewidth\":0,\"ticks\":\"\"},\"colorscale\":[[0.0,\"#0d0887\"],[0.1111111111111111,\"#46039f\"],[0.2222222222222222,\"#7201a8\"],[0.3333333333333333,\"#9c179e\"],[0.4444444444444444,\"#bd3786\"],[0.5555555555555556,\"#d8576b\"],[0.6666666666666666,\"#ed7953\"],[0.7777777777777778,\"#fb9f3a\"],[0.8888888888888888,\"#fdca26\"],[1.0,\"#f0f921\"]],\"type\":\"histogram2dcontour\"}],\"mesh3d\":[{\"colorbar\":{\"outlinewidth\":0,\"ticks\":\"\"},\"type\":\"mesh3d\"}],\"parcoords\":[{\"line\":{\"colorbar\":{\"outlinewidth\":0,\"ticks\":\"\"}},\"type\":\"parcoords\"}],\"pie\":[{\"automargin\":true,\"type\":\"pie\"}],\"scatter\":[{\"marker\":{\"colorbar\":{\"outlinewidth\":0,\"ticks\":\"\"}},\"type\":\"scatter\"}],\"scatter3d\":[{\"line\":{\"colorbar\":{\"outlinewidth\":0,\"ticks\":\"\"}},\"marker\":{\"colorbar\":{\"outlinewidth\":0,\"ticks\":\"\"}},\"type\":\"scatter3d\"}],\"scattercarpet\":[{\"marker\":{\"colorbar\":{\"outlinewidth\":0,\"ticks\":\"\"}},\"type\":\"scattercarpet\"}],\"scattergeo\":[{\"marker\":{\"colorbar\":{\"outlinewidth\":0,\"ticks\":\"\"}},\"type\":\"scattergeo\"}],\"scattergl\":[{\"marker\":{\"colorbar\":{\"outlinewidth\":0,\"ticks\":\"\"}},\"type\":\"scattergl\"}],\"scattermapbox\":[{\"marker\":{\"colorbar\":{\"outlinewidth\":0,\"ticks\":\"\"}},\"type\":\"scattermapbox\"}],\"scatterpolar\":[{\"marker\":{\"colorbar\":{\"outlinewidth\":0,\"ticks\":\"\"}},\"type\":\"scatterpolar\"}],\"scatterpolargl\":[{\"marker\":{\"colorbar\":{\"outlinewidth\":0,\"ticks\":\"\"}},\"type\":\"scatterpolargl\"}],\"scatterternary\":[{\"marker\":{\"colorbar\":{\"outlinewidth\":0,\"ticks\":\"\"}},\"type\":\"scatterternary\"}],\"surface\":[{\"colorbar\":{\"outlinewidth\":0,\"ticks\":\"\"},\"colorscale\":[[0.0,\"#0d0887\"],[0.1111111111111111,\"#46039f\"],[0.2222222222222222,\"#7201a8\"],[0.3333333333333333,\"#9c179e\"],[0.4444444444444444,\"#bd3786\"],[0.5555555555555556,\"#d8576b\"],[0.6666666666666666,\"#ed7953\"],[0.7777777777777778,\"#fb9f3a\"],[0.8888888888888888,\"#fdca26\"],[1.0,\"#f0f921\"]],\"type\":\"surface\"}],\"table\":[{\"cells\":{\"fill\":{\"color\":\"#EBF0F8\"},\"line\":{\"color\":\"white\"}},\"header\":{\"fill\":{\"color\":\"#C8D4E3\"},\"line\":{\"color\":\"white\"}},\"type\":\"table\"}]},\"layout\":{\"annotationdefaults\":{\"arrowcolor\":\"#2a3f5f\",\"arrowhead\":0,\"arrowwidth\":1},\"autotypenumbers\":\"strict\",\"coloraxis\":{\"colorbar\":{\"outlinewidth\":0,\"ticks\":\"\"}},\"colorscale\":{\"diverging\":[[0,\"#8e0152\"],[0.1,\"#c51b7d\"],[0.2,\"#de77ae\"],[0.3,\"#f1b6da\"],[0.4,\"#fde0ef\"],[0.5,\"#f7f7f7\"],[0.6,\"#e6f5d0\"],[0.7,\"#b8e186\"],[0.8,\"#7fbc41\"],[0.9,\"#4d9221\"],[1,\"#276419\"]],\"sequential\":[[0.0,\"#0d0887\"],[0.1111111111111111,\"#46039f\"],[0.2222222222222222,\"#7201a8\"],[0.3333333333333333,\"#9c179e\"],[0.4444444444444444,\"#bd3786\"],[0.5555555555555556,\"#d8576b\"],[0.6666666666666666,\"#ed7953\"],[0.7777777777777778,\"#fb9f3a\"],[0.8888888888888888,\"#fdca26\"],[1.0,\"#f0f921\"]],\"sequentialminus\":[[0.0,\"#0d0887\"],[0.1111111111111111,\"#46039f\"],[0.2222222222222222,\"#7201a8\"],[0.3333333333333333,\"#9c179e\"],[0.4444444444444444,\"#bd3786\"],[0.5555555555555556,\"#d8576b\"],[0.6666666666666666,\"#ed7953\"],[0.7777777777777778,\"#fb9f3a\"],[0.8888888888888888,\"#fdca26\"],[1.0,\"#f0f921\"]]},\"colorway\":[\"#636efa\",\"#EF553B\",\"#00cc96\",\"#ab63fa\",\"#FFA15A\",\"#19d3f3\",\"#FF6692\",\"#B6E880\",\"#FF97FF\",\"#FECB52\"],\"font\":{\"color\":\"#2a3f5f\"},\"geo\":{\"bgcolor\":\"white\",\"lakecolor\":\"white\",\"landcolor\":\"#E5ECF6\",\"showlakes\":true,\"showland\":true,\"subunitcolor\":\"white\"},\"hoverlabel\":{\"align\":\"left\"},\"hovermode\":\"closest\",\"mapbox\":{\"style\":\"light\"},\"paper_bgcolor\":\"white\",\"plot_bgcolor\":\"#E5ECF6\",\"polar\":{\"angularaxis\":{\"gridcolor\":\"white\",\"linecolor\":\"white\",\"ticks\":\"\"},\"bgcolor\":\"#E5ECF6\",\"radialaxis\":{\"gridcolor\":\"white\",\"linecolor\":\"white\",\"ticks\":\"\"}},\"scene\":{\"xaxis\":{\"backgroundcolor\":\"#E5ECF6\",\"gridcolor\":\"white\",\"gridwidth\":2,\"linecolor\":\"white\",\"showbackground\":true,\"ticks\":\"\",\"zerolinecolor\":\"white\"},\"yaxis\":{\"backgroundcolor\":\"#E5ECF6\",\"gridcolor\":\"white\",\"gridwidth\":2,\"linecolor\":\"white\",\"showbackground\":true,\"ticks\":\"\",\"zerolinecolor\":\"white\"},\"zaxis\":{\"backgroundcolor\":\"#E5ECF6\",\"gridcolor\":\"white\",\"gridwidth\":2,\"linecolor\":\"white\",\"showbackground\":true,\"ticks\":\"\",\"zerolinecolor\":\"white\"}},\"shapedefaults\":{\"line\":{\"color\":\"#2a3f5f\"}},\"ternary\":{\"aaxis\":{\"gridcolor\":\"white\",\"linecolor\":\"white\",\"ticks\":\"\"},\"baxis\":{\"gridcolor\":\"white\",\"linecolor\":\"white\",\"ticks\":\"\"},\"bgcolor\":\"#E5ECF6\",\"caxis\":{\"gridcolor\":\"white\",\"linecolor\":\"white\",\"ticks\":\"\"}},\"title\":{\"x\":0.05},\"xaxis\":{\"automargin\":true,\"gridcolor\":\"white\",\"linecolor\":\"white\",\"ticks\":\"\",\"title\":{\"standoff\":15},\"zerolinecolor\":\"white\",\"zerolinewidth\":2},\"yaxis\":{\"automargin\":true,\"gridcolor\":\"white\",\"linecolor\":\"white\",\"ticks\":\"\",\"title\":{\"standoff\":15},\"zerolinecolor\":\"white\",\"zerolinewidth\":2}}},\"height\":500,\"width\":700,\"xaxis\":{\"title\":{\"text\":\"Epoch\"}},\"yaxis\":{\"title\":{\"text\":\"Loss\"}}},                        {\"responsive\": true}                    ).then(function(){\n",
              "                            \n",
              "var gd = document.getElementById('2b5c1907-5cae-4afa-b0e2-fe715d1af97e');\n",
              "var x = new MutationObserver(function (mutations, observer) {{\n",
              "        var display = window.getComputedStyle(gd).display;\n",
              "        if (!display || display === 'none') {{\n",
              "            console.log([gd, 'removed!']);\n",
              "            Plotly.purge(gd);\n",
              "            observer.disconnect();\n",
              "        }}\n",
              "}});\n",
              "\n",
              "// Listen for the removal of the full notebook cells\n",
              "var notebookContainer = gd.closest('#notebook-container');\n",
              "if (notebookContainer) {{\n",
              "    x.observe(notebookContainer, {childList: true});\n",
              "}}\n",
              "\n",
              "// Listen for the clearing of the current output cell\n",
              "var outputEl = gd.closest('.output');\n",
              "if (outputEl) {{\n",
              "    x.observe(outputEl, {childList: true});\n",
              "}}\n",
              "\n",
              "                        })                };                            </script>        </div>\n",
              "</body>\n",
              "</html>"
            ]
          },
          "metadata": {}
        }
      ]
    },
    {
      "cell_type": "code",
      "source": [
        "fig = go.Figure()\n",
        "fig.add_trace(go.Scattergl(y=history.history['mae'],\n",
        "                    name='Train'))\n",
        "\n",
        "fig.add_trace(go.Scattergl(y=history.history['val_mae'],\n",
        "                    name='Valid'))\n",
        "\n",
        "\n",
        "fig.update_layout(height=500, width=700,\n",
        "                  xaxis_title='Epoch',\n",
        "                  yaxis_title='Mean Absolute Error')\n",
        "\n",
        "fig.show()"
      ],
      "metadata": {
        "colab": {
          "base_uri": "https://localhost:8080/",
          "height": 517
        },
        "id": "YLrcHhdkwynz",
        "outputId": "e77953a9-c8ae-42ba-89f7-90d87e3f25ed"
      },
      "execution_count": null,
      "outputs": [
        {
          "output_type": "display_data",
          "data": {
            "text/html": [
              "<html>\n",
              "<head><meta charset=\"utf-8\" /></head>\n",
              "<body>\n",
              "    <div>            <script src=\"https://cdnjs.cloudflare.com/ajax/libs/mathjax/2.7.5/MathJax.js?config=TeX-AMS-MML_SVG\"></script><script type=\"text/javascript\">if (window.MathJax) {MathJax.Hub.Config({SVG: {font: \"STIX-Web\"}});}</script>                <script type=\"text/javascript\">window.PlotlyConfig = {MathJaxConfig: 'local'};</script>\n",
              "        <script src=\"https://cdn.plot.ly/plotly-2.8.3.min.js\"></script>                <div id=\"4810529c-8eb9-492a-9709-d18d26ee19b1\" class=\"plotly-graph-div\" style=\"height:500px; width:700px;\"></div>            <script type=\"text/javascript\">                                    window.PLOTLYENV=window.PLOTLYENV || {};                                    if (document.getElementById(\"4810529c-8eb9-492a-9709-d18d26ee19b1\")) {                    Plotly.newPlot(                        \"4810529c-8eb9-492a-9709-d18d26ee19b1\",                        [{\"name\":\"Train\",\"y\":[0.5531633496284485,0.43391692638397217,0.4177745282649994,0.4004190266132355,0.39101237058639526,0.3840399980545044,0.37986746430397034,0.3791176974773407,0.3716547191143036,0.3703080713748932,0.3652562201023102,0.36350035667419434,0.36143192648887634,0.35706275701522827,0.3598783016204834,0.35613730549812317,0.3571065664291382,0.354271799325943,0.349576473236084,0.34849223494529724,0.34712761640548706,0.34610575437545776,0.3452172577381134,0.3440506160259247,0.3453769087791443,0.3425884544849396,0.3403577208518982,0.33828097581863403,0.33869150280952454,0.3382050693035126,0.3359558880329132,0.3377206027507782,0.33677446842193604,0.33176320791244507,0.33472296595573425,0.33226892352104187,0.3319796025753021,0.3320581614971161,0.32933753728866577,0.32977941632270813,0.32944390177726746,0.32898712158203125,0.3290438950061798,0.3257468640804291,0.3262689709663391,0.32627198100090027,0.32400617003440857,0.32529136538505554,0.32691386342048645,0.3222852349281311,0.32323843240737915,0.3228926658630371,0.322179913520813,0.3212684094905853,0.3237665295600891,0.32138821482658386,0.3186514973640442,0.3209384083747864,0.31985536217689514,0.31779226660728455,0.3176819980144501,0.3185367286205292,0.31693610548973083,0.31771692633628845,0.3172612190246582,0.3155338764190674,0.316195011138916,0.31598761677742004,0.3142216205596924,0.31508609652519226,0.3140695095062256,0.31415730714797974,0.3130061626434326,0.31266650557518005,0.3133819103240967,0.31265023350715637,0.3096286654472351,0.3105951249599457,0.3119722902774811,0.30881571769714355,0.3100428879261017,0.30893269181251526,0.3108024597167969,0.30861207842826843,0.30842912197113037,0.3070646822452545,0.30729493498802185,0.3069497048854828,0.30686503648757935,0.3071606755256653,0.30655500292778015,0.3057002127170563,0.30662256479263306,0.30622246861457825,0.30453455448150635,0.3038800060749054,0.30332645773887634,0.3037768304347992,0.3036912977695465,0.30330508947372437],\"type\":\"scattergl\"},{\"name\":\"Valid\",\"y\":[0.4693486988544464,0.44451195001602173,0.4165875017642975,0.39495372772216797,0.4313511252403259,0.3915291726589203,0.395302414894104,0.3918899595737457,0.38935762643814087,0.4177345335483551,0.3869674503803253,0.3778820335865021,0.38567426800727844,0.42902982234954834,0.4013180434703827,0.3822452127933502,0.3951708972454071,0.3842836320400238,0.3754158914089203,0.3591826260089874,0.36716824769973755,0.3664674758911133,0.3710799813270569,0.35612836480140686,0.36230382323265076,0.3570781350135803,0.36643046140670776,0.36049267649650574,0.36457309126853943,0.3646608293056488,0.37854713201522827,0.3611391484737396,0.3559942841529846,0.3551791310310364,0.35887083411216736,0.3531326353549957,0.364932119846344,0.35568615794181824,0.3744438588619232,0.36213159561157227,0.3684728443622589,0.367918998003006,0.3390967845916748,0.35177192091941833,0.36350902915000916,0.35898712277412415,0.3490428924560547,0.3630671799182892,0.35954105854034424,0.3593151271343231,0.34808072447776794,0.3553679287433624,0.36895936727523804,0.3598611652851105,0.37058785557746887,0.3522799611091614,0.35230326652526855,0.35262295603752136,0.35196414589881897,0.35238757729530334,0.3537944257259369,0.34323564171791077,0.3474733531475067,0.354581743478775,0.3554585874080658,0.3677322268486023,0.3514314293861389,0.3639030456542969,0.3616679608821869,0.35222020745277405,0.3481035530567169,0.3454379737377167,0.37672096490859985,0.35080763697624207,0.3564600944519043,0.3596389889717102,0.3439796268939972,0.3686140775680542,0.3441978991031647,0.3655816316604614,0.3473314046859741,0.35503682494163513,0.339361310005188,0.3726655840873718,0.35030263662338257,0.35716941952705383,0.3435969054698944,0.3648287355899811,0.35422220826148987,0.36960941553115845,0.3435695469379425,0.35146093368530273,0.3527527451515198,0.3484477400779724,0.36321359872817993,0.3445323407649994,0.34718751907348633,0.35807597637176514,0.34909430146217346,0.34997323155403137],\"type\":\"scattergl\"}],                        {\"template\":{\"data\":{\"bar\":[{\"error_x\":{\"color\":\"#2a3f5f\"},\"error_y\":{\"color\":\"#2a3f5f\"},\"marker\":{\"line\":{\"color\":\"#E5ECF6\",\"width\":0.5},\"pattern\":{\"fillmode\":\"overlay\",\"size\":10,\"solidity\":0.2}},\"type\":\"bar\"}],\"barpolar\":[{\"marker\":{\"line\":{\"color\":\"#E5ECF6\",\"width\":0.5},\"pattern\":{\"fillmode\":\"overlay\",\"size\":10,\"solidity\":0.2}},\"type\":\"barpolar\"}],\"carpet\":[{\"aaxis\":{\"endlinecolor\":\"#2a3f5f\",\"gridcolor\":\"white\",\"linecolor\":\"white\",\"minorgridcolor\":\"white\",\"startlinecolor\":\"#2a3f5f\"},\"baxis\":{\"endlinecolor\":\"#2a3f5f\",\"gridcolor\":\"white\",\"linecolor\":\"white\",\"minorgridcolor\":\"white\",\"startlinecolor\":\"#2a3f5f\"},\"type\":\"carpet\"}],\"choropleth\":[{\"colorbar\":{\"outlinewidth\":0,\"ticks\":\"\"},\"type\":\"choropleth\"}],\"contour\":[{\"colorbar\":{\"outlinewidth\":0,\"ticks\":\"\"},\"colorscale\":[[0.0,\"#0d0887\"],[0.1111111111111111,\"#46039f\"],[0.2222222222222222,\"#7201a8\"],[0.3333333333333333,\"#9c179e\"],[0.4444444444444444,\"#bd3786\"],[0.5555555555555556,\"#d8576b\"],[0.6666666666666666,\"#ed7953\"],[0.7777777777777778,\"#fb9f3a\"],[0.8888888888888888,\"#fdca26\"],[1.0,\"#f0f921\"]],\"type\":\"contour\"}],\"contourcarpet\":[{\"colorbar\":{\"outlinewidth\":0,\"ticks\":\"\"},\"type\":\"contourcarpet\"}],\"heatmap\":[{\"colorbar\":{\"outlinewidth\":0,\"ticks\":\"\"},\"colorscale\":[[0.0,\"#0d0887\"],[0.1111111111111111,\"#46039f\"],[0.2222222222222222,\"#7201a8\"],[0.3333333333333333,\"#9c179e\"],[0.4444444444444444,\"#bd3786\"],[0.5555555555555556,\"#d8576b\"],[0.6666666666666666,\"#ed7953\"],[0.7777777777777778,\"#fb9f3a\"],[0.8888888888888888,\"#fdca26\"],[1.0,\"#f0f921\"]],\"type\":\"heatmap\"}],\"heatmapgl\":[{\"colorbar\":{\"outlinewidth\":0,\"ticks\":\"\"},\"colorscale\":[[0.0,\"#0d0887\"],[0.1111111111111111,\"#46039f\"],[0.2222222222222222,\"#7201a8\"],[0.3333333333333333,\"#9c179e\"],[0.4444444444444444,\"#bd3786\"],[0.5555555555555556,\"#d8576b\"],[0.6666666666666666,\"#ed7953\"],[0.7777777777777778,\"#fb9f3a\"],[0.8888888888888888,\"#fdca26\"],[1.0,\"#f0f921\"]],\"type\":\"heatmapgl\"}],\"histogram\":[{\"marker\":{\"pattern\":{\"fillmode\":\"overlay\",\"size\":10,\"solidity\":0.2}},\"type\":\"histogram\"}],\"histogram2d\":[{\"colorbar\":{\"outlinewidth\":0,\"ticks\":\"\"},\"colorscale\":[[0.0,\"#0d0887\"],[0.1111111111111111,\"#46039f\"],[0.2222222222222222,\"#7201a8\"],[0.3333333333333333,\"#9c179e\"],[0.4444444444444444,\"#bd3786\"],[0.5555555555555556,\"#d8576b\"],[0.6666666666666666,\"#ed7953\"],[0.7777777777777778,\"#fb9f3a\"],[0.8888888888888888,\"#fdca26\"],[1.0,\"#f0f921\"]],\"type\":\"histogram2d\"}],\"histogram2dcontour\":[{\"colorbar\":{\"outlinewidth\":0,\"ticks\":\"\"},\"colorscale\":[[0.0,\"#0d0887\"],[0.1111111111111111,\"#46039f\"],[0.2222222222222222,\"#7201a8\"],[0.3333333333333333,\"#9c179e\"],[0.4444444444444444,\"#bd3786\"],[0.5555555555555556,\"#d8576b\"],[0.6666666666666666,\"#ed7953\"],[0.7777777777777778,\"#fb9f3a\"],[0.8888888888888888,\"#fdca26\"],[1.0,\"#f0f921\"]],\"type\":\"histogram2dcontour\"}],\"mesh3d\":[{\"colorbar\":{\"outlinewidth\":0,\"ticks\":\"\"},\"type\":\"mesh3d\"}],\"parcoords\":[{\"line\":{\"colorbar\":{\"outlinewidth\":0,\"ticks\":\"\"}},\"type\":\"parcoords\"}],\"pie\":[{\"automargin\":true,\"type\":\"pie\"}],\"scatter\":[{\"marker\":{\"colorbar\":{\"outlinewidth\":0,\"ticks\":\"\"}},\"type\":\"scatter\"}],\"scatter3d\":[{\"line\":{\"colorbar\":{\"outlinewidth\":0,\"ticks\":\"\"}},\"marker\":{\"colorbar\":{\"outlinewidth\":0,\"ticks\":\"\"}},\"type\":\"scatter3d\"}],\"scattercarpet\":[{\"marker\":{\"colorbar\":{\"outlinewidth\":0,\"ticks\":\"\"}},\"type\":\"scattercarpet\"}],\"scattergeo\":[{\"marker\":{\"colorbar\":{\"outlinewidth\":0,\"ticks\":\"\"}},\"type\":\"scattergeo\"}],\"scattergl\":[{\"marker\":{\"colorbar\":{\"outlinewidth\":0,\"ticks\":\"\"}},\"type\":\"scattergl\"}],\"scattermapbox\":[{\"marker\":{\"colorbar\":{\"outlinewidth\":0,\"ticks\":\"\"}},\"type\":\"scattermapbox\"}],\"scatterpolar\":[{\"marker\":{\"colorbar\":{\"outlinewidth\":0,\"ticks\":\"\"}},\"type\":\"scatterpolar\"}],\"scatterpolargl\":[{\"marker\":{\"colorbar\":{\"outlinewidth\":0,\"ticks\":\"\"}},\"type\":\"scatterpolargl\"}],\"scatterternary\":[{\"marker\":{\"colorbar\":{\"outlinewidth\":0,\"ticks\":\"\"}},\"type\":\"scatterternary\"}],\"surface\":[{\"colorbar\":{\"outlinewidth\":0,\"ticks\":\"\"},\"colorscale\":[[0.0,\"#0d0887\"],[0.1111111111111111,\"#46039f\"],[0.2222222222222222,\"#7201a8\"],[0.3333333333333333,\"#9c179e\"],[0.4444444444444444,\"#bd3786\"],[0.5555555555555556,\"#d8576b\"],[0.6666666666666666,\"#ed7953\"],[0.7777777777777778,\"#fb9f3a\"],[0.8888888888888888,\"#fdca26\"],[1.0,\"#f0f921\"]],\"type\":\"surface\"}],\"table\":[{\"cells\":{\"fill\":{\"color\":\"#EBF0F8\"},\"line\":{\"color\":\"white\"}},\"header\":{\"fill\":{\"color\":\"#C8D4E3\"},\"line\":{\"color\":\"white\"}},\"type\":\"table\"}]},\"layout\":{\"annotationdefaults\":{\"arrowcolor\":\"#2a3f5f\",\"arrowhead\":0,\"arrowwidth\":1},\"autotypenumbers\":\"strict\",\"coloraxis\":{\"colorbar\":{\"outlinewidth\":0,\"ticks\":\"\"}},\"colorscale\":{\"diverging\":[[0,\"#8e0152\"],[0.1,\"#c51b7d\"],[0.2,\"#de77ae\"],[0.3,\"#f1b6da\"],[0.4,\"#fde0ef\"],[0.5,\"#f7f7f7\"],[0.6,\"#e6f5d0\"],[0.7,\"#b8e186\"],[0.8,\"#7fbc41\"],[0.9,\"#4d9221\"],[1,\"#276419\"]],\"sequential\":[[0.0,\"#0d0887\"],[0.1111111111111111,\"#46039f\"],[0.2222222222222222,\"#7201a8\"],[0.3333333333333333,\"#9c179e\"],[0.4444444444444444,\"#bd3786\"],[0.5555555555555556,\"#d8576b\"],[0.6666666666666666,\"#ed7953\"],[0.7777777777777778,\"#fb9f3a\"],[0.8888888888888888,\"#fdca26\"],[1.0,\"#f0f921\"]],\"sequentialminus\":[[0.0,\"#0d0887\"],[0.1111111111111111,\"#46039f\"],[0.2222222222222222,\"#7201a8\"],[0.3333333333333333,\"#9c179e\"],[0.4444444444444444,\"#bd3786\"],[0.5555555555555556,\"#d8576b\"],[0.6666666666666666,\"#ed7953\"],[0.7777777777777778,\"#fb9f3a\"],[0.8888888888888888,\"#fdca26\"],[1.0,\"#f0f921\"]]},\"colorway\":[\"#636efa\",\"#EF553B\",\"#00cc96\",\"#ab63fa\",\"#FFA15A\",\"#19d3f3\",\"#FF6692\",\"#B6E880\",\"#FF97FF\",\"#FECB52\"],\"font\":{\"color\":\"#2a3f5f\"},\"geo\":{\"bgcolor\":\"white\",\"lakecolor\":\"white\",\"landcolor\":\"#E5ECF6\",\"showlakes\":true,\"showland\":true,\"subunitcolor\":\"white\"},\"hoverlabel\":{\"align\":\"left\"},\"hovermode\":\"closest\",\"mapbox\":{\"style\":\"light\"},\"paper_bgcolor\":\"white\",\"plot_bgcolor\":\"#E5ECF6\",\"polar\":{\"angularaxis\":{\"gridcolor\":\"white\",\"linecolor\":\"white\",\"ticks\":\"\"},\"bgcolor\":\"#E5ECF6\",\"radialaxis\":{\"gridcolor\":\"white\",\"linecolor\":\"white\",\"ticks\":\"\"}},\"scene\":{\"xaxis\":{\"backgroundcolor\":\"#E5ECF6\",\"gridcolor\":\"white\",\"gridwidth\":2,\"linecolor\":\"white\",\"showbackground\":true,\"ticks\":\"\",\"zerolinecolor\":\"white\"},\"yaxis\":{\"backgroundcolor\":\"#E5ECF6\",\"gridcolor\":\"white\",\"gridwidth\":2,\"linecolor\":\"white\",\"showbackground\":true,\"ticks\":\"\",\"zerolinecolor\":\"white\"},\"zaxis\":{\"backgroundcolor\":\"#E5ECF6\",\"gridcolor\":\"white\",\"gridwidth\":2,\"linecolor\":\"white\",\"showbackground\":true,\"ticks\":\"\",\"zerolinecolor\":\"white\"}},\"shapedefaults\":{\"line\":{\"color\":\"#2a3f5f\"}},\"ternary\":{\"aaxis\":{\"gridcolor\":\"white\",\"linecolor\":\"white\",\"ticks\":\"\"},\"baxis\":{\"gridcolor\":\"white\",\"linecolor\":\"white\",\"ticks\":\"\"},\"bgcolor\":\"#E5ECF6\",\"caxis\":{\"gridcolor\":\"white\",\"linecolor\":\"white\",\"ticks\":\"\"}},\"title\":{\"x\":0.05},\"xaxis\":{\"automargin\":true,\"gridcolor\":\"white\",\"linecolor\":\"white\",\"ticks\":\"\",\"title\":{\"standoff\":15},\"zerolinecolor\":\"white\",\"zerolinewidth\":2},\"yaxis\":{\"automargin\":true,\"gridcolor\":\"white\",\"linecolor\":\"white\",\"ticks\":\"\",\"title\":{\"standoff\":15},\"zerolinecolor\":\"white\",\"zerolinewidth\":2}}},\"height\":500,\"width\":700,\"xaxis\":{\"title\":{\"text\":\"Epoch\"}},\"yaxis\":{\"title\":{\"text\":\"Mean Absolute Error\"}}},                        {\"responsive\": true}                    ).then(function(){\n",
              "                            \n",
              "var gd = document.getElementById('4810529c-8eb9-492a-9709-d18d26ee19b1');\n",
              "var x = new MutationObserver(function (mutations, observer) {{\n",
              "        var display = window.getComputedStyle(gd).display;\n",
              "        if (!display || display === 'none') {{\n",
              "            console.log([gd, 'removed!']);\n",
              "            Plotly.purge(gd);\n",
              "            observer.disconnect();\n",
              "        }}\n",
              "}});\n",
              "\n",
              "// Listen for the removal of the full notebook cells\n",
              "var notebookContainer = gd.closest('#notebook-container');\n",
              "if (notebookContainer) {{\n",
              "    x.observe(notebookContainer, {childList: true});\n",
              "}}\n",
              "\n",
              "// Listen for the clearing of the current output cell\n",
              "var outputEl = gd.closest('.output');\n",
              "if (outputEl) {{\n",
              "    x.observe(outputEl, {childList: true});\n",
              "}}\n",
              "\n",
              "                        })                };                            </script>        </div>\n",
              "</body>\n",
              "</html>"
            ]
          },
          "metadata": {}
        }
      ]
    },
    {
      "cell_type": "markdown",
      "source": [
        "P.S.: Сеть скорее всего обучается плохо, так как данные не масштабированы."
      ],
      "metadata": {
        "id": "WntHjQMlrWUN"
      }
    },
    {
      "cell_type": "markdown",
      "source": [],
      "metadata": {
        "id": "l9huyqDZrjVj"
      }
    },
    {
      "cell_type": "markdown",
      "source": [
        "1.6. Сделайте предсказания на тестовых данных"
      ],
      "metadata": {
        "id": "p0_ZB7Gxriec"
      }
    },
    {
      "cell_type": "code",
      "source": [
        "from sklearn.metrics import mean_absolute_error\n",
        "\n",
        "Xnew = model.predict(X_test)\n",
        "\n",
        "print(f\"Средняя абсолютная ошибка: {int(mean_absolute_error(Xnew, y_test)*100000)}$\")"
      ],
      "metadata": {
        "colab": {
          "base_uri": "https://localhost:8080/"
        },
        "id": "GHnDD3Y0rkcc",
        "outputId": "d22ca572-3894-4956-ee3b-801602203231"
      },
      "execution_count": null,
      "outputs": [
        {
          "output_type": "stream",
          "name": "stdout",
          "text": [
            "65/65 [==============================] - 0s 1ms/step\n",
            "Средняя абсолютная ошибка: 33608$\n"
          ]
        }
      ]
    },
    {
      "cell_type": "markdown",
      "source": [
        "1.7. Посчитайте метрику качества на тестовых данных"
      ],
      "metadata": {
        "id": "PN3PXaEQrkrk"
      }
    },
    {
      "cell_type": "code",
      "source": [
        "mse_nn, mae_nn = model.evaluate(X_test, y_test)\n",
        "\n",
        "print('Mean squared error on test data: ', mse_nn)\n",
        "print('Mean absolute error on test data: ', mae_nn)"
      ],
      "metadata": {
        "colab": {
          "base_uri": "https://localhost:8080/"
        },
        "id": "fBn48DbjrnDk",
        "outputId": "805fbbcc-a4d4-4881-c40c-04908112496c"
      },
      "execution_count": null,
      "outputs": [
        {
          "output_type": "stream",
          "name": "stdout",
          "text": [
            "65/65 [==============================] - 0s 1ms/step - loss: 0.2485 - mae: 0.3361\n",
            "Mean squared error on test data:  0.24854563176631927\n",
            "Mean absolute error on test data:  0.3360888361930847\n"
          ]
        }
      ]
    },
    {
      "cell_type": "markdown",
      "source": [
        "Сравним с моделью линейной регресии"
      ],
      "metadata": {
        "id": "d3KcMtgjzInh"
      }
    },
    {
      "cell_type": "code",
      "source": [
        "from sklearn.linear_model import LinearRegression\n",
        "from sklearn.metrics import mean_squared_error,mean_absolute_error\n",
        "lr_model = LinearRegression()\n",
        "lr_model.fit(X_train, y_train)\n",
        "\n",
        "y_pred_lr = lr_model.predict(X_test)\n",
        "mse_lr = mean_squared_error(y_test, y_pred_lr)\n",
        "mae_lr = mean_absolute_error(y_test, y_pred_lr)\n",
        "\n",
        "print('Mean squared error on test data: ', mse_lr)\n",
        "print('Mean absolute error on test data: ', mae_lr)"
      ],
      "metadata": {
        "colab": {
          "base_uri": "https://localhost:8080/"
        },
        "id": "WGi43psTzMYh",
        "outputId": "dff2141e-5eca-435d-eed3-148ff065636a"
      },
      "execution_count": null,
      "outputs": [
        {
          "output_type": "stream",
          "name": "stdout",
          "text": [
            "Mean squared error on test data:  0.5276834517875307\n",
            "Mean absolute error on test data:  0.5286516568124461\n"
          ]
        }
      ]
    },
    {
      "cell_type": "markdown",
      "source": [
        "Проверим на той де модели другую нормализацию данных "
      ],
      "metadata": {
        "id": "7u6uzRFHz96I"
      }
    },
    {
      "cell_type": "code",
      "source": [
        "from sklearn.preprocessing import MinMaxScaler\n",
        "X_train, X_test, y_train, y_test = train_test_split(X.values, y, test_size=0.1, random_state=123)\n",
        "\n",
        "scaler = MinMaxScaler()\n",
        "X_train = scaler.fit_transform(X_train)\n",
        "X_test = scaler.fit_transform(X_test)\n"
      ],
      "metadata": {
        "id": "BCpisdjA0CLR"
      },
      "execution_count": null,
      "outputs": []
    },
    {
      "cell_type": "markdown",
      "source": [
        "Тренируем данные"
      ],
      "metadata": {
        "id": "ijRZ5z_n1MrY"
      }
    },
    {
      "cell_type": "code",
      "source": [
        "history = model.fit(X_train, y_train, epochs=100, validation_split=0.1)"
      ],
      "metadata": {
        "colab": {
          "base_uri": "https://localhost:8080/"
        },
        "id": "_V3xOjda1Ong",
        "outputId": "153e0dff-4455-49e5-ee90-d17a5dfd0436"
      },
      "execution_count": null,
      "outputs": [
        {
          "output_type": "stream",
          "name": "stdout",
          "text": [
            "Epoch 1/100\n",
            "523/523 [==============================] - 1s 2ms/step - loss: 0.6010 - mae: 0.5650 - val_loss: 0.4740 - val_mae: 0.4855\n",
            "Epoch 2/100\n",
            "523/523 [==============================] - 1s 3ms/step - loss: 0.4891 - mae: 0.5042 - val_loss: 0.4581 - val_mae: 0.4779\n",
            "Epoch 3/100\n",
            "523/523 [==============================] - 1s 3ms/step - loss: 0.4748 - mae: 0.4929 - val_loss: 0.4517 - val_mae: 0.4886\n",
            "Epoch 4/100\n",
            "523/523 [==============================] - 1s 2ms/step - loss: 0.4683 - mae: 0.4892 - val_loss: 0.4436 - val_mae: 0.4846\n",
            "Epoch 5/100\n",
            "523/523 [==============================] - 1s 2ms/step - loss: 0.4577 - mae: 0.4808 - val_loss: 0.4405 - val_mae: 0.4571\n",
            "Epoch 6/100\n",
            "523/523 [==============================] - 1s 2ms/step - loss: 0.4518 - mae: 0.4779 - val_loss: 0.4265 - val_mae: 0.4639\n",
            "Epoch 7/100\n",
            "523/523 [==============================] - 1s 2ms/step - loss: 0.4433 - mae: 0.4710 - val_loss: 0.4201 - val_mae: 0.4592\n",
            "Epoch 8/100\n",
            "523/523 [==============================] - 1s 2ms/step - loss: 0.4407 - mae: 0.4688 - val_loss: 0.4165 - val_mae: 0.4561\n",
            "Epoch 9/100\n",
            "523/523 [==============================] - 1s 2ms/step - loss: 0.4332 - mae: 0.4637 - val_loss: 0.4112 - val_mae: 0.4553\n",
            "Epoch 10/100\n",
            "523/523 [==============================] - 1s 2ms/step - loss: 0.4264 - mae: 0.4583 - val_loss: 0.4054 - val_mae: 0.4431\n",
            "Epoch 11/100\n",
            "523/523 [==============================] - 1s 2ms/step - loss: 0.4190 - mae: 0.4556 - val_loss: 0.4077 - val_mae: 0.4589\n",
            "Epoch 12/100\n",
            "523/523 [==============================] - 1s 2ms/step - loss: 0.4132 - mae: 0.4502 - val_loss: 0.3924 - val_mae: 0.4340\n",
            "Epoch 13/100\n",
            "523/523 [==============================] - 1s 3ms/step - loss: 0.4072 - mae: 0.4464 - val_loss: 0.3983 - val_mae: 0.4449\n",
            "Epoch 14/100\n",
            "523/523 [==============================] - 1s 2ms/step - loss: 0.4022 - mae: 0.4427 - val_loss: 0.3861 - val_mae: 0.4298\n",
            "Epoch 15/100\n",
            "523/523 [==============================] - 1s 2ms/step - loss: 0.3992 - mae: 0.4412 - val_loss: 0.4111 - val_mae: 0.4233\n",
            "Epoch 16/100\n",
            "523/523 [==============================] - 1s 2ms/step - loss: 0.3917 - mae: 0.4371 - val_loss: 0.4006 - val_mae: 0.4153\n",
            "Epoch 17/100\n",
            "523/523 [==============================] - 1s 2ms/step - loss: 0.3860 - mae: 0.4324 - val_loss: 0.3834 - val_mae: 0.4199\n",
            "Epoch 18/100\n",
            "523/523 [==============================] - 1s 2ms/step - loss: 0.3811 - mae: 0.4303 - val_loss: 0.3792 - val_mae: 0.4271\n",
            "Epoch 19/100\n",
            "523/523 [==============================] - 1s 2ms/step - loss: 0.3799 - mae: 0.4293 - val_loss: 0.3779 - val_mae: 0.4180\n",
            "Epoch 20/100\n",
            "523/523 [==============================] - 1s 2ms/step - loss: 0.3724 - mae: 0.4243 - val_loss: 0.3880 - val_mae: 0.4250\n",
            "Epoch 21/100\n",
            "523/523 [==============================] - 1s 2ms/step - loss: 0.3718 - mae: 0.4254 - val_loss: 0.3785 - val_mae: 0.4006\n",
            "Epoch 22/100\n",
            "523/523 [==============================] - 1s 2ms/step - loss: 0.3708 - mae: 0.4243 - val_loss: 0.3792 - val_mae: 0.4018\n",
            "Epoch 23/100\n",
            "523/523 [==============================] - 1s 2ms/step - loss: 0.3632 - mae: 0.4194 - val_loss: 0.3773 - val_mae: 0.3956\n",
            "Epoch 24/100\n",
            "523/523 [==============================] - 1s 3ms/step - loss: 0.3591 - mae: 0.4168 - val_loss: 0.3906 - val_mae: 0.4268\n",
            "Epoch 25/100\n",
            "523/523 [==============================] - 1s 2ms/step - loss: 0.3591 - mae: 0.4168 - val_loss: 0.3808 - val_mae: 0.3955\n",
            "Epoch 26/100\n",
            "523/523 [==============================] - 1s 2ms/step - loss: 0.3533 - mae: 0.4137 - val_loss: 0.3705 - val_mae: 0.3921\n",
            "Epoch 27/100\n",
            "523/523 [==============================] - 1s 2ms/step - loss: 0.3527 - mae: 0.4134 - val_loss: 0.3980 - val_mae: 0.4465\n",
            "Epoch 28/100\n",
            "523/523 [==============================] - 1s 2ms/step - loss: 0.3482 - mae: 0.4107 - val_loss: 0.3897 - val_mae: 0.4269\n",
            "Epoch 29/100\n",
            "523/523 [==============================] - 1s 2ms/step - loss: 0.3487 - mae: 0.4114 - val_loss: 0.4027 - val_mae: 0.4111\n",
            "Epoch 30/100\n",
            "523/523 [==============================] - 1s 2ms/step - loss: 0.3441 - mae: 0.4087 - val_loss: 0.3591 - val_mae: 0.3941\n",
            "Epoch 31/100\n",
            "523/523 [==============================] - 1s 2ms/step - loss: 0.3398 - mae: 0.4050 - val_loss: 0.3745 - val_mae: 0.3953\n",
            "Epoch 32/100\n",
            "523/523 [==============================] - 1s 2ms/step - loss: 0.3385 - mae: 0.4051 - val_loss: 0.3857 - val_mae: 0.4201\n",
            "Epoch 33/100\n",
            "523/523 [==============================] - 1s 2ms/step - loss: 0.3396 - mae: 0.4061 - val_loss: 0.3984 - val_mae: 0.4069\n",
            "Epoch 34/100\n",
            "523/523 [==============================] - 1s 3ms/step - loss: 0.3383 - mae: 0.4062 - val_loss: 0.4247 - val_mae: 0.4626\n",
            "Epoch 35/100\n",
            "523/523 [==============================] - 1s 3ms/step - loss: 0.3322 - mae: 0.4010 - val_loss: 0.3420 - val_mae: 0.3841\n",
            "Epoch 36/100\n",
            "523/523 [==============================] - 1s 2ms/step - loss: 0.3296 - mae: 0.3992 - val_loss: 0.3644 - val_mae: 0.3941\n",
            "Epoch 37/100\n",
            "523/523 [==============================] - 1s 2ms/step - loss: 0.3258 - mae: 0.3970 - val_loss: 0.3709 - val_mae: 0.4252\n",
            "Epoch 38/100\n",
            "523/523 [==============================] - 1s 2ms/step - loss: 0.3278 - mae: 0.3982 - val_loss: 0.3710 - val_mae: 0.3999\n",
            "Epoch 39/100\n",
            "523/523 [==============================] - 1s 2ms/step - loss: 0.3222 - mae: 0.3946 - val_loss: 0.3636 - val_mae: 0.3990\n",
            "Epoch 40/100\n",
            "523/523 [==============================] - 1s 2ms/step - loss: 0.3206 - mae: 0.3933 - val_loss: 0.3476 - val_mae: 0.3973\n",
            "Epoch 41/100\n",
            "523/523 [==============================] - 1s 2ms/step - loss: 0.3209 - mae: 0.3931 - val_loss: 0.4082 - val_mae: 0.4111\n",
            "Epoch 42/100\n",
            "523/523 [==============================] - 1s 2ms/step - loss: 0.3175 - mae: 0.3918 - val_loss: 0.3422 - val_mae: 0.3744\n",
            "Epoch 43/100\n",
            "523/523 [==============================] - 1s 2ms/step - loss: 0.3165 - mae: 0.3886 - val_loss: 0.3832 - val_mae: 0.3913\n",
            "Epoch 44/100\n",
            "523/523 [==============================] - 1s 2ms/step - loss: 0.3192 - mae: 0.3923 - val_loss: 0.3441 - val_mae: 0.3773\n",
            "Epoch 45/100\n",
            "523/523 [==============================] - 1s 3ms/step - loss: 0.3187 - mae: 0.3925 - val_loss: 0.3309 - val_mae: 0.3786\n",
            "Epoch 46/100\n",
            "523/523 [==============================] - 1s 2ms/step - loss: 0.3141 - mae: 0.3884 - val_loss: 0.3433 - val_mae: 0.3801\n",
            "Epoch 47/100\n",
            "523/523 [==============================] - 1s 2ms/step - loss: 0.3120 - mae: 0.3869 - val_loss: 0.3476 - val_mae: 0.3941\n",
            "Epoch 48/100\n",
            "523/523 [==============================] - 1s 2ms/step - loss: 0.3165 - mae: 0.3903 - val_loss: 0.3490 - val_mae: 0.3723\n",
            "Epoch 49/100\n",
            "523/523 [==============================] - 1s 2ms/step - loss: 0.3107 - mae: 0.3871 - val_loss: 0.3392 - val_mae: 0.3734\n",
            "Epoch 50/100\n",
            "523/523 [==============================] - 1s 2ms/step - loss: 0.3134 - mae: 0.3884 - val_loss: 0.3819 - val_mae: 0.3847\n",
            "Epoch 51/100\n",
            "523/523 [==============================] - 1s 2ms/step - loss: 0.3088 - mae: 0.3840 - val_loss: 0.3607 - val_mae: 0.3823\n",
            "Epoch 52/100\n",
            "523/523 [==============================] - 1s 2ms/step - loss: 0.3051 - mae: 0.3818 - val_loss: 0.3174 - val_mae: 0.3741\n",
            "Epoch 53/100\n",
            "523/523 [==============================] - 1s 2ms/step - loss: 0.3053 - mae: 0.3818 - val_loss: 0.3694 - val_mae: 0.3744\n",
            "Epoch 54/100\n",
            "523/523 [==============================] - 1s 2ms/step - loss: 0.3094 - mae: 0.3847 - val_loss: 0.3378 - val_mae: 0.3662\n",
            "Epoch 55/100\n",
            "523/523 [==============================] - 1s 2ms/step - loss: 0.3086 - mae: 0.3837 - val_loss: 0.3423 - val_mae: 0.4087\n",
            "Epoch 56/100\n",
            "523/523 [==============================] - 1s 3ms/step - loss: 0.3018 - mae: 0.3811 - val_loss: 0.3376 - val_mae: 0.3723\n",
            "Epoch 57/100\n",
            "523/523 [==============================] - 1s 2ms/step - loss: 0.2990 - mae: 0.3779 - val_loss: 0.3334 - val_mae: 0.3705\n",
            "Epoch 58/100\n",
            "523/523 [==============================] - 1s 2ms/step - loss: 0.3013 - mae: 0.3793 - val_loss: 0.3925 - val_mae: 0.4549\n",
            "Epoch 59/100\n",
            "523/523 [==============================] - 1s 2ms/step - loss: 0.2998 - mae: 0.3776 - val_loss: 0.3403 - val_mae: 0.3722\n",
            "Epoch 60/100\n",
            "523/523 [==============================] - 1s 2ms/step - loss: 0.2987 - mae: 0.3770 - val_loss: 0.3402 - val_mae: 0.4008\n",
            "Epoch 61/100\n",
            "523/523 [==============================] - 1s 2ms/step - loss: 0.3024 - mae: 0.3798 - val_loss: 0.3596 - val_mae: 0.3923\n",
            "Epoch 62/100\n",
            "523/523 [==============================] - 1s 2ms/step - loss: 0.2991 - mae: 0.3778 - val_loss: 0.3241 - val_mae: 0.3784\n",
            "Epoch 63/100\n",
            "523/523 [==============================] - 1s 2ms/step - loss: 0.3006 - mae: 0.3790 - val_loss: 0.3475 - val_mae: 0.3704\n",
            "Epoch 64/100\n",
            "523/523 [==============================] - 1s 2ms/step - loss: 0.2938 - mae: 0.3736 - val_loss: 0.3309 - val_mae: 0.3725\n",
            "Epoch 65/100\n",
            "523/523 [==============================] - 1s 2ms/step - loss: 0.2933 - mae: 0.3725 - val_loss: 0.3196 - val_mae: 0.3843\n",
            "Epoch 66/100\n",
            "523/523 [==============================] - 1s 2ms/step - loss: 0.2956 - mae: 0.3761 - val_loss: 0.3274 - val_mae: 0.3672\n",
            "Epoch 67/100\n",
            "523/523 [==============================] - 1s 2ms/step - loss: 0.2956 - mae: 0.3745 - val_loss: 0.3521 - val_mae: 0.3638\n",
            "Epoch 68/100\n",
            "523/523 [==============================] - 1s 2ms/step - loss: 0.2956 - mae: 0.3758 - val_loss: 0.3400 - val_mae: 0.3729\n",
            "Epoch 69/100\n",
            "523/523 [==============================] - 1s 2ms/step - loss: 0.2933 - mae: 0.3731 - val_loss: 0.4051 - val_mae: 0.3869\n",
            "Epoch 70/100\n",
            "523/523 [==============================] - 1s 2ms/step - loss: 0.2909 - mae: 0.3722 - val_loss: 0.3053 - val_mae: 0.3594\n",
            "Epoch 71/100\n",
            "523/523 [==============================] - 1s 2ms/step - loss: 0.2960 - mae: 0.3746 - val_loss: 0.4280 - val_mae: 0.4213\n",
            "Epoch 72/100\n",
            "523/523 [==============================] - 1s 2ms/step - loss: 0.2929 - mae: 0.3723 - val_loss: 0.3483 - val_mae: 0.3905\n",
            "Epoch 73/100\n",
            "523/523 [==============================] - 1s 2ms/step - loss: 0.2906 - mae: 0.3721 - val_loss: 0.3219 - val_mae: 0.3742\n",
            "Epoch 74/100\n",
            "523/523 [==============================] - 1s 2ms/step - loss: 0.2911 - mae: 0.3720 - val_loss: 0.3594 - val_mae: 0.3639\n",
            "Epoch 75/100\n",
            "523/523 [==============================] - 1s 2ms/step - loss: 0.2916 - mae: 0.3720 - val_loss: 0.3608 - val_mae: 0.3722\n",
            "Epoch 76/100\n",
            "523/523 [==============================] - 1s 2ms/step - loss: 0.2895 - mae: 0.3714 - val_loss: 0.3026 - val_mae: 0.3594\n",
            "Epoch 77/100\n",
            "523/523 [==============================] - 1s 2ms/step - loss: 0.2950 - mae: 0.3736 - val_loss: 0.3639 - val_mae: 0.3627\n",
            "Epoch 78/100\n",
            "523/523 [==============================] - 2s 3ms/step - loss: 0.2938 - mae: 0.3733 - val_loss: 0.3106 - val_mae: 0.3606\n",
            "Epoch 79/100\n",
            "523/523 [==============================] - 1s 2ms/step - loss: 0.2904 - mae: 0.3707 - val_loss: 0.3650 - val_mae: 0.3577\n",
            "Epoch 80/100\n",
            "523/523 [==============================] - 1s 2ms/step - loss: 0.2913 - mae: 0.3712 - val_loss: 0.3065 - val_mae: 0.3581\n",
            "Epoch 81/100\n",
            "523/523 [==============================] - 1s 2ms/step - loss: 0.2910 - mae: 0.3708 - val_loss: 0.3600 - val_mae: 0.4089\n",
            "Epoch 82/100\n",
            "523/523 [==============================] - 1s 2ms/step - loss: 0.2898 - mae: 0.3711 - val_loss: 0.3150 - val_mae: 0.3647\n",
            "Epoch 83/100\n",
            "523/523 [==============================] - 1s 2ms/step - loss: 0.2866 - mae: 0.3681 - val_loss: 0.3316 - val_mae: 0.3633\n",
            "Epoch 84/100\n",
            "523/523 [==============================] - 1s 2ms/step - loss: 0.2879 - mae: 0.3690 - val_loss: 0.3423 - val_mae: 0.3849\n",
            "Epoch 85/100\n",
            "523/523 [==============================] - 1s 2ms/step - loss: 0.2847 - mae: 0.3684 - val_loss: 0.3402 - val_mae: 0.3610\n",
            "Epoch 86/100\n",
            "523/523 [==============================] - 1s 2ms/step - loss: 0.2861 - mae: 0.3678 - val_loss: 0.3589 - val_mae: 0.3981\n",
            "Epoch 87/100\n",
            "523/523 [==============================] - 1s 2ms/step - loss: 0.2842 - mae: 0.3657 - val_loss: 0.3522 - val_mae: 0.3594\n",
            "Epoch 88/100\n",
            "523/523 [==============================] - 1s 2ms/step - loss: 0.2854 - mae: 0.3668 - val_loss: 0.3303 - val_mae: 0.3744\n",
            "Epoch 89/100\n",
            "523/523 [==============================] - 2s 3ms/step - loss: 0.2828 - mae: 0.3673 - val_loss: 0.3698 - val_mae: 0.3581\n",
            "Epoch 90/100\n",
            "523/523 [==============================] - 1s 2ms/step - loss: 0.2826 - mae: 0.3659 - val_loss: 0.3762 - val_mae: 0.3591\n",
            "Epoch 91/100\n",
            "523/523 [==============================] - 1s 2ms/step - loss: 0.2817 - mae: 0.3635 - val_loss: 0.3144 - val_mae: 0.3575\n",
            "Epoch 92/100\n",
            "523/523 [==============================] - 1s 2ms/step - loss: 0.2839 - mae: 0.3667 - val_loss: 0.3295 - val_mae: 0.3564\n",
            "Epoch 93/100\n",
            "523/523 [==============================] - 1s 2ms/step - loss: 0.2852 - mae: 0.3682 - val_loss: 0.3226 - val_mae: 0.3552\n",
            "Epoch 94/100\n",
            "523/523 [==============================] - 1s 2ms/step - loss: 0.2860 - mae: 0.3691 - val_loss: 0.3432 - val_mae: 0.3578\n",
            "Epoch 95/100\n",
            "523/523 [==============================] - 1s 2ms/step - loss: 0.2833 - mae: 0.3647 - val_loss: 0.3740 - val_mae: 0.3556\n",
            "Epoch 96/100\n",
            "523/523 [==============================] - 1s 2ms/step - loss: 0.2815 - mae: 0.3643 - val_loss: 0.4216 - val_mae: 0.3839\n",
            "Epoch 97/100\n",
            "523/523 [==============================] - 1s 2ms/step - loss: 0.2819 - mae: 0.3653 - val_loss: 0.3057 - val_mae: 0.3542\n",
            "Epoch 98/100\n",
            "523/523 [==============================] - 1s 2ms/step - loss: 0.2791 - mae: 0.3625 - val_loss: 0.3926 - val_mae: 0.3634\n",
            "Epoch 99/100\n",
            "523/523 [==============================] - 1s 2ms/step - loss: 0.2824 - mae: 0.3673 - val_loss: 0.3074 - val_mae: 0.3545\n",
            "Epoch 100/100\n",
            "523/523 [==============================] - 1s 3ms/step - loss: 0.2792 - mae: 0.3637 - val_loss: 0.4929 - val_mae: 0.4691\n"
          ]
        }
      ]
    },
    {
      "cell_type": "code",
      "source": [
        "import plotly.graph_objects as go\n",
        "fig = go.Figure()\n",
        "fig.add_trace(go.Scattergl(y=history.history['loss'],\n",
        "                    name='Train'))\n",
        "\n",
        "fig.add_trace(go.Scattergl(y=history.history['val_loss'],\n",
        "                    name='Valid'))\n",
        "\n",
        "\n",
        "fig.update_layout(height=500, width=700,\n",
        "                  xaxis_title='Epoch',\n",
        "                  yaxis_title='Loss')\n",
        "\n",
        "fig.show()"
      ],
      "metadata": {
        "colab": {
          "base_uri": "https://localhost:8080/",
          "height": 517
        },
        "id": "n5EiDovL3TcZ",
        "outputId": "2d0f4981-f50d-4793-8fa9-506253d90d2d"
      },
      "execution_count": null,
      "outputs": [
        {
          "output_type": "display_data",
          "data": {
            "text/html": [
              "<html>\n",
              "<head><meta charset=\"utf-8\" /></head>\n",
              "<body>\n",
              "    <div>            <script src=\"https://cdnjs.cloudflare.com/ajax/libs/mathjax/2.7.5/MathJax.js?config=TeX-AMS-MML_SVG\"></script><script type=\"text/javascript\">if (window.MathJax) {MathJax.Hub.Config({SVG: {font: \"STIX-Web\"}});}</script>                <script type=\"text/javascript\">window.PlotlyConfig = {MathJaxConfig: 'local'};</script>\n",
              "        <script src=\"https://cdn.plot.ly/plotly-2.8.3.min.js\"></script>                <div id=\"c523ae65-d27c-4483-9efd-464871edb0f6\" class=\"plotly-graph-div\" style=\"height:500px; width:700px;\"></div>            <script type=\"text/javascript\">                                    window.PLOTLYENV=window.PLOTLYENV || {};                                    if (document.getElementById(\"c523ae65-d27c-4483-9efd-464871edb0f6\")) {                    Plotly.newPlot(                        \"c523ae65-d27c-4483-9efd-464871edb0f6\",                        [{\"name\":\"Train\",\"y\":[0.6009754538536072,0.4891124963760376,0.47476357221603394,0.46830570697784424,0.4576977491378784,0.45181581377983093,0.44327685236930847,0.4406503736972809,0.43324628472328186,0.426417738199234,0.4189765751361847,0.41321098804473877,0.4071913957595825,0.4022384285926819,0.39915233850479126,0.39170798659324646,0.38603517413139343,0.3810921013355255,0.3799135088920593,0.3723726272583008,0.37177813053131104,0.37081417441368103,0.36315271258354187,0.3590756952762604,0.3590746819972992,0.35325145721435547,0.3527473211288452,0.3482059836387634,0.3486739993095398,0.34410884976387024,0.3397822380065918,0.3384932577610016,0.33957695960998535,0.33830270171165466,0.33219918608665466,0.32962682843208313,0.32583364844322205,0.3278018534183502,0.3222057521343231,0.3205535113811493,0.3208850026130676,0.31750839948654175,0.31645023822784424,0.31923335790634155,0.3187144994735718,0.31411656737327576,0.3119841516017914,0.3165166974067688,0.31074532866477966,0.3134157955646515,0.3088003098964691,0.30514049530029297,0.30530425906181335,0.30937084555625916,0.3085852563381195,0.30179211497306824,0.2990218997001648,0.3012663424015045,0.29975685477256775,0.2986939549446106,0.30238571763038635,0.2990817725658417,0.3005697727203369,0.29379355907440186,0.2933148145675659,0.29560989141464233,0.295599102973938,0.2955581843852997,0.29330119490623474,0.2909450829029083,0.2959630787372589,0.29293978214263916,0.290622353553772,0.2911019027233124,0.29157912731170654,0.28949397802352905,0.29498690366744995,0.2938316762447357,0.2903646230697632,0.29127237200737,0.2909703254699707,0.2898253798484802,0.28662171959877014,0.2879412770271301,0.2847248911857605,0.2860976457595825,0.2841542065143585,0.28543755412101746,0.28283873200416565,0.2826377749443054,0.2817322611808777,0.2838628888130188,0.28517112135887146,0.28599846363067627,0.28334665298461914,0.28151971101760864,0.281882643699646,0.2790815532207489,0.28237664699554443,0.2792227864265442],\"type\":\"scattergl\"},{\"name\":\"Valid\",\"y\":[0.474032461643219,0.45814183354377747,0.45172059535980225,0.4435984492301941,0.4404813051223755,0.4264504611492157,0.42006513476371765,0.41648995876312256,0.41124314069747925,0.40541040897369385,0.407733678817749,0.3923605978488922,0.398265540599823,0.3861164152622223,0.41114920377731323,0.40062516927719116,0.383383572101593,0.3791716992855072,0.377901166677475,0.38803282380104065,0.378540962934494,0.3792496621608734,0.377288818359375,0.3906448483467102,0.3807559311389923,0.3705231249332428,0.39798077940940857,0.3896576166152954,0.4026799499988556,0.3591327369213104,0.3744823634624481,0.3857351541519165,0.3983900547027588,0.42473769187927246,0.34199631214141846,0.3643902540206909,0.3708583414554596,0.3710141181945801,0.3635964095592499,0.3475739061832428,0.40823400020599365,0.3422073423862457,0.38318121433258057,0.3441205322742462,0.3308667242527008,0.3433038890361786,0.3476337194442749,0.34903666377067566,0.33916714787483215,0.38192999362945557,0.3607203960418701,0.3173747956752777,0.36943674087524414,0.3378375768661499,0.34230872988700867,0.33756712079048157,0.33340880274772644,0.3924730122089386,0.3402864336967468,0.3402232527732849,0.35962191224098206,0.32405659556388855,0.3474610149860382,0.3309287130832672,0.31961822509765625,0.3274299204349518,0.3520681858062744,0.3400477170944214,0.4050644338130951,0.30532315373420715,0.4279841184616089,0.3482813537120819,0.32190173864364624,0.35937783122062683,0.36081069707870483,0.30260568857192993,0.3639427423477173,0.3106372654438019,0.3649567663669586,0.3064635396003723,0.3599856495857239,0.3150089383125305,0.3315669596195221,0.3422640860080719,0.34018653631210327,0.3588508665561676,0.35221391916275024,0.3302554190158844,0.3697667717933655,0.3762446641921997,0.31435173749923706,0.3294796943664551,0.3226318657398224,0.3431782126426697,0.37402915954589844,0.4215686023235321,0.3057495653629303,0.39260873198509216,0.30743497610092163,0.49289488792419434],\"type\":\"scattergl\"}],                        {\"template\":{\"data\":{\"bar\":[{\"error_x\":{\"color\":\"#2a3f5f\"},\"error_y\":{\"color\":\"#2a3f5f\"},\"marker\":{\"line\":{\"color\":\"#E5ECF6\",\"width\":0.5},\"pattern\":{\"fillmode\":\"overlay\",\"size\":10,\"solidity\":0.2}},\"type\":\"bar\"}],\"barpolar\":[{\"marker\":{\"line\":{\"color\":\"#E5ECF6\",\"width\":0.5},\"pattern\":{\"fillmode\":\"overlay\",\"size\":10,\"solidity\":0.2}},\"type\":\"barpolar\"}],\"carpet\":[{\"aaxis\":{\"endlinecolor\":\"#2a3f5f\",\"gridcolor\":\"white\",\"linecolor\":\"white\",\"minorgridcolor\":\"white\",\"startlinecolor\":\"#2a3f5f\"},\"baxis\":{\"endlinecolor\":\"#2a3f5f\",\"gridcolor\":\"white\",\"linecolor\":\"white\",\"minorgridcolor\":\"white\",\"startlinecolor\":\"#2a3f5f\"},\"type\":\"carpet\"}],\"choropleth\":[{\"colorbar\":{\"outlinewidth\":0,\"ticks\":\"\"},\"type\":\"choropleth\"}],\"contour\":[{\"colorbar\":{\"outlinewidth\":0,\"ticks\":\"\"},\"colorscale\":[[0.0,\"#0d0887\"],[0.1111111111111111,\"#46039f\"],[0.2222222222222222,\"#7201a8\"],[0.3333333333333333,\"#9c179e\"],[0.4444444444444444,\"#bd3786\"],[0.5555555555555556,\"#d8576b\"],[0.6666666666666666,\"#ed7953\"],[0.7777777777777778,\"#fb9f3a\"],[0.8888888888888888,\"#fdca26\"],[1.0,\"#f0f921\"]],\"type\":\"contour\"}],\"contourcarpet\":[{\"colorbar\":{\"outlinewidth\":0,\"ticks\":\"\"},\"type\":\"contourcarpet\"}],\"heatmap\":[{\"colorbar\":{\"outlinewidth\":0,\"ticks\":\"\"},\"colorscale\":[[0.0,\"#0d0887\"],[0.1111111111111111,\"#46039f\"],[0.2222222222222222,\"#7201a8\"],[0.3333333333333333,\"#9c179e\"],[0.4444444444444444,\"#bd3786\"],[0.5555555555555556,\"#d8576b\"],[0.6666666666666666,\"#ed7953\"],[0.7777777777777778,\"#fb9f3a\"],[0.8888888888888888,\"#fdca26\"],[1.0,\"#f0f921\"]],\"type\":\"heatmap\"}],\"heatmapgl\":[{\"colorbar\":{\"outlinewidth\":0,\"ticks\":\"\"},\"colorscale\":[[0.0,\"#0d0887\"],[0.1111111111111111,\"#46039f\"],[0.2222222222222222,\"#7201a8\"],[0.3333333333333333,\"#9c179e\"],[0.4444444444444444,\"#bd3786\"],[0.5555555555555556,\"#d8576b\"],[0.6666666666666666,\"#ed7953\"],[0.7777777777777778,\"#fb9f3a\"],[0.8888888888888888,\"#fdca26\"],[1.0,\"#f0f921\"]],\"type\":\"heatmapgl\"}],\"histogram\":[{\"marker\":{\"pattern\":{\"fillmode\":\"overlay\",\"size\":10,\"solidity\":0.2}},\"type\":\"histogram\"}],\"histogram2d\":[{\"colorbar\":{\"outlinewidth\":0,\"ticks\":\"\"},\"colorscale\":[[0.0,\"#0d0887\"],[0.1111111111111111,\"#46039f\"],[0.2222222222222222,\"#7201a8\"],[0.3333333333333333,\"#9c179e\"],[0.4444444444444444,\"#bd3786\"],[0.5555555555555556,\"#d8576b\"],[0.6666666666666666,\"#ed7953\"],[0.7777777777777778,\"#fb9f3a\"],[0.8888888888888888,\"#fdca26\"],[1.0,\"#f0f921\"]],\"type\":\"histogram2d\"}],\"histogram2dcontour\":[{\"colorbar\":{\"outlinewidth\":0,\"ticks\":\"\"},\"colorscale\":[[0.0,\"#0d0887\"],[0.1111111111111111,\"#46039f\"],[0.2222222222222222,\"#7201a8\"],[0.3333333333333333,\"#9c179e\"],[0.4444444444444444,\"#bd3786\"],[0.5555555555555556,\"#d8576b\"],[0.6666666666666666,\"#ed7953\"],[0.7777777777777778,\"#fb9f3a\"],[0.8888888888888888,\"#fdca26\"],[1.0,\"#f0f921\"]],\"type\":\"histogram2dcontour\"}],\"mesh3d\":[{\"colorbar\":{\"outlinewidth\":0,\"ticks\":\"\"},\"type\":\"mesh3d\"}],\"parcoords\":[{\"line\":{\"colorbar\":{\"outlinewidth\":0,\"ticks\":\"\"}},\"type\":\"parcoords\"}],\"pie\":[{\"automargin\":true,\"type\":\"pie\"}],\"scatter\":[{\"marker\":{\"colorbar\":{\"outlinewidth\":0,\"ticks\":\"\"}},\"type\":\"scatter\"}],\"scatter3d\":[{\"line\":{\"colorbar\":{\"outlinewidth\":0,\"ticks\":\"\"}},\"marker\":{\"colorbar\":{\"outlinewidth\":0,\"ticks\":\"\"}},\"type\":\"scatter3d\"}],\"scattercarpet\":[{\"marker\":{\"colorbar\":{\"outlinewidth\":0,\"ticks\":\"\"}},\"type\":\"scattercarpet\"}],\"scattergeo\":[{\"marker\":{\"colorbar\":{\"outlinewidth\":0,\"ticks\":\"\"}},\"type\":\"scattergeo\"}],\"scattergl\":[{\"marker\":{\"colorbar\":{\"outlinewidth\":0,\"ticks\":\"\"}},\"type\":\"scattergl\"}],\"scattermapbox\":[{\"marker\":{\"colorbar\":{\"outlinewidth\":0,\"ticks\":\"\"}},\"type\":\"scattermapbox\"}],\"scatterpolar\":[{\"marker\":{\"colorbar\":{\"outlinewidth\":0,\"ticks\":\"\"}},\"type\":\"scatterpolar\"}],\"scatterpolargl\":[{\"marker\":{\"colorbar\":{\"outlinewidth\":0,\"ticks\":\"\"}},\"type\":\"scatterpolargl\"}],\"scatterternary\":[{\"marker\":{\"colorbar\":{\"outlinewidth\":0,\"ticks\":\"\"}},\"type\":\"scatterternary\"}],\"surface\":[{\"colorbar\":{\"outlinewidth\":0,\"ticks\":\"\"},\"colorscale\":[[0.0,\"#0d0887\"],[0.1111111111111111,\"#46039f\"],[0.2222222222222222,\"#7201a8\"],[0.3333333333333333,\"#9c179e\"],[0.4444444444444444,\"#bd3786\"],[0.5555555555555556,\"#d8576b\"],[0.6666666666666666,\"#ed7953\"],[0.7777777777777778,\"#fb9f3a\"],[0.8888888888888888,\"#fdca26\"],[1.0,\"#f0f921\"]],\"type\":\"surface\"}],\"table\":[{\"cells\":{\"fill\":{\"color\":\"#EBF0F8\"},\"line\":{\"color\":\"white\"}},\"header\":{\"fill\":{\"color\":\"#C8D4E3\"},\"line\":{\"color\":\"white\"}},\"type\":\"table\"}]},\"layout\":{\"annotationdefaults\":{\"arrowcolor\":\"#2a3f5f\",\"arrowhead\":0,\"arrowwidth\":1},\"autotypenumbers\":\"strict\",\"coloraxis\":{\"colorbar\":{\"outlinewidth\":0,\"ticks\":\"\"}},\"colorscale\":{\"diverging\":[[0,\"#8e0152\"],[0.1,\"#c51b7d\"],[0.2,\"#de77ae\"],[0.3,\"#f1b6da\"],[0.4,\"#fde0ef\"],[0.5,\"#f7f7f7\"],[0.6,\"#e6f5d0\"],[0.7,\"#b8e186\"],[0.8,\"#7fbc41\"],[0.9,\"#4d9221\"],[1,\"#276419\"]],\"sequential\":[[0.0,\"#0d0887\"],[0.1111111111111111,\"#46039f\"],[0.2222222222222222,\"#7201a8\"],[0.3333333333333333,\"#9c179e\"],[0.4444444444444444,\"#bd3786\"],[0.5555555555555556,\"#d8576b\"],[0.6666666666666666,\"#ed7953\"],[0.7777777777777778,\"#fb9f3a\"],[0.8888888888888888,\"#fdca26\"],[1.0,\"#f0f921\"]],\"sequentialminus\":[[0.0,\"#0d0887\"],[0.1111111111111111,\"#46039f\"],[0.2222222222222222,\"#7201a8\"],[0.3333333333333333,\"#9c179e\"],[0.4444444444444444,\"#bd3786\"],[0.5555555555555556,\"#d8576b\"],[0.6666666666666666,\"#ed7953\"],[0.7777777777777778,\"#fb9f3a\"],[0.8888888888888888,\"#fdca26\"],[1.0,\"#f0f921\"]]},\"colorway\":[\"#636efa\",\"#EF553B\",\"#00cc96\",\"#ab63fa\",\"#FFA15A\",\"#19d3f3\",\"#FF6692\",\"#B6E880\",\"#FF97FF\",\"#FECB52\"],\"font\":{\"color\":\"#2a3f5f\"},\"geo\":{\"bgcolor\":\"white\",\"lakecolor\":\"white\",\"landcolor\":\"#E5ECF6\",\"showlakes\":true,\"showland\":true,\"subunitcolor\":\"white\"},\"hoverlabel\":{\"align\":\"left\"},\"hovermode\":\"closest\",\"mapbox\":{\"style\":\"light\"},\"paper_bgcolor\":\"white\",\"plot_bgcolor\":\"#E5ECF6\",\"polar\":{\"angularaxis\":{\"gridcolor\":\"white\",\"linecolor\":\"white\",\"ticks\":\"\"},\"bgcolor\":\"#E5ECF6\",\"radialaxis\":{\"gridcolor\":\"white\",\"linecolor\":\"white\",\"ticks\":\"\"}},\"scene\":{\"xaxis\":{\"backgroundcolor\":\"#E5ECF6\",\"gridcolor\":\"white\",\"gridwidth\":2,\"linecolor\":\"white\",\"showbackground\":true,\"ticks\":\"\",\"zerolinecolor\":\"white\"},\"yaxis\":{\"backgroundcolor\":\"#E5ECF6\",\"gridcolor\":\"white\",\"gridwidth\":2,\"linecolor\":\"white\",\"showbackground\":true,\"ticks\":\"\",\"zerolinecolor\":\"white\"},\"zaxis\":{\"backgroundcolor\":\"#E5ECF6\",\"gridcolor\":\"white\",\"gridwidth\":2,\"linecolor\":\"white\",\"showbackground\":true,\"ticks\":\"\",\"zerolinecolor\":\"white\"}},\"shapedefaults\":{\"line\":{\"color\":\"#2a3f5f\"}},\"ternary\":{\"aaxis\":{\"gridcolor\":\"white\",\"linecolor\":\"white\",\"ticks\":\"\"},\"baxis\":{\"gridcolor\":\"white\",\"linecolor\":\"white\",\"ticks\":\"\"},\"bgcolor\":\"#E5ECF6\",\"caxis\":{\"gridcolor\":\"white\",\"linecolor\":\"white\",\"ticks\":\"\"}},\"title\":{\"x\":0.05},\"xaxis\":{\"automargin\":true,\"gridcolor\":\"white\",\"linecolor\":\"white\",\"ticks\":\"\",\"title\":{\"standoff\":15},\"zerolinecolor\":\"white\",\"zerolinewidth\":2},\"yaxis\":{\"automargin\":true,\"gridcolor\":\"white\",\"linecolor\":\"white\",\"ticks\":\"\",\"title\":{\"standoff\":15},\"zerolinecolor\":\"white\",\"zerolinewidth\":2}}},\"height\":500,\"width\":700,\"xaxis\":{\"title\":{\"text\":\"Epoch\"}},\"yaxis\":{\"title\":{\"text\":\"Loss\"}}},                        {\"responsive\": true}                    ).then(function(){\n",
              "                            \n",
              "var gd = document.getElementById('c523ae65-d27c-4483-9efd-464871edb0f6');\n",
              "var x = new MutationObserver(function (mutations, observer) {{\n",
              "        var display = window.getComputedStyle(gd).display;\n",
              "        if (!display || display === 'none') {{\n",
              "            console.log([gd, 'removed!']);\n",
              "            Plotly.purge(gd);\n",
              "            observer.disconnect();\n",
              "        }}\n",
              "}});\n",
              "\n",
              "// Listen for the removal of the full notebook cells\n",
              "var notebookContainer = gd.closest('#notebook-container');\n",
              "if (notebookContainer) {{\n",
              "    x.observe(notebookContainer, {childList: true});\n",
              "}}\n",
              "\n",
              "// Listen for the clearing of the current output cell\n",
              "var outputEl = gd.closest('.output');\n",
              "if (outputEl) {{\n",
              "    x.observe(outputEl, {childList: true});\n",
              "}}\n",
              "\n",
              "                        })                };                            </script>        </div>\n",
              "</body>\n",
              "</html>"
            ]
          },
          "metadata": {}
        }
      ]
    },
    {
      "cell_type": "code",
      "source": [
        "fig = go.Figure()\n",
        "fig.add_trace(go.Scattergl(y=history.history['mae'],\n",
        "                    name='Train'))\n",
        "\n",
        "fig.add_trace(go.Scattergl(y=history.history['val_mae'],\n",
        "                    name='Valid'))\n",
        "\n",
        "\n",
        "fig.update_layout(height=500, width=700,\n",
        "                  xaxis_title='Epoch',\n",
        "                  yaxis_title='Mean Absolute Error')\n",
        "\n",
        "fig.show()"
      ],
      "metadata": {
        "colab": {
          "base_uri": "https://localhost:8080/",
          "height": 517
        },
        "id": "kTFg8RR83XU_",
        "outputId": "029d8581-2d79-43c8-eb93-cf065469c871"
      },
      "execution_count": null,
      "outputs": [
        {
          "output_type": "display_data",
          "data": {
            "text/html": [
              "<html>\n",
              "<head><meta charset=\"utf-8\" /></head>\n",
              "<body>\n",
              "    <div>            <script src=\"https://cdnjs.cloudflare.com/ajax/libs/mathjax/2.7.5/MathJax.js?config=TeX-AMS-MML_SVG\"></script><script type=\"text/javascript\">if (window.MathJax) {MathJax.Hub.Config({SVG: {font: \"STIX-Web\"}});}</script>                <script type=\"text/javascript\">window.PlotlyConfig = {MathJaxConfig: 'local'};</script>\n",
              "        <script src=\"https://cdn.plot.ly/plotly-2.8.3.min.js\"></script>                <div id=\"20cb234c-82e7-4a5b-8a84-8a9101cc434f\" class=\"plotly-graph-div\" style=\"height:500px; width:700px;\"></div>            <script type=\"text/javascript\">                                    window.PLOTLYENV=window.PLOTLYENV || {};                                    if (document.getElementById(\"20cb234c-82e7-4a5b-8a84-8a9101cc434f\")) {                    Plotly.newPlot(                        \"20cb234c-82e7-4a5b-8a84-8a9101cc434f\",                        [{\"name\":\"Train\",\"y\":[0.5649921298027039,0.5041749477386475,0.49293509125709534,0.48918870091438293,0.48083072900772095,0.47793206572532654,0.47102072834968567,0.4688071310520172,0.4636552035808563,0.4582674503326416,0.4556429386138916,0.4501556158065796,0.4464164078235626,0.4427432715892792,0.44122540950775146,0.437094509601593,0.4323968291282654,0.430306613445282,0.42934370040893555,0.4243317246437073,0.42540356516838074,0.42426881194114685,0.41942429542541504,0.41675081849098206,0.41680461168289185,0.41365665197372437,0.41339248418807983,0.4107417166233063,0.41140055656433105,0.40872880816459656,0.40502071380615234,0.4050632417201996,0.4061242938041687,0.40618517994880676,0.40096011757850647,0.3991657495498657,0.396960586309433,0.3981606066226959,0.39463627338409424,0.3933289349079132,0.3930518627166748,0.39182403683662415,0.3886280953884125,0.39227619767189026,0.3925221264362335,0.38843947649002075,0.38692113757133484,0.39034023880958557,0.3870859146118164,0.3883638083934784,0.3840083181858063,0.38180094957351685,0.38178932666778564,0.3846786320209503,0.3836781978607178,0.38114243745803833,0.37792012095451355,0.37926122546195984,0.3775993883609772,0.37697747349739075,0.37980780005455017,0.3777715265750885,0.37900638580322266,0.3735625147819519,0.3725489377975464,0.37613147497177124,0.3744947016239166,0.3757791817188263,0.373098760843277,0.3721926510334015,0.37457990646362305,0.372289776802063,0.37211573123931885,0.3720269501209259,0.3719964325428009,0.37137141823768616,0.3736096918582916,0.3732520639896393,0.3706764578819275,0.37115150690078735,0.3707925081253052,0.3711135685443878,0.3680805563926697,0.369022399187088,0.368415504693985,0.36783838272094727,0.36566850543022156,0.36684924364089966,0.3672691881656647,0.36586982011795044,0.36353597044944763,0.36669325828552246,0.36818042397499084,0.3690936267375946,0.36467477679252625,0.3643328547477722,0.36529237031936646,0.36247217655181885,0.3672591745853424,0.36371126770973206],\"type\":\"scattergl\"},{\"name\":\"Valid\",\"y\":[0.4854848384857178,0.477918803691864,0.48855698108673096,0.4845797121524811,0.45708322525024414,0.4638851583003998,0.45918869972229004,0.4560781717300415,0.4552902281284332,0.443106472492218,0.45888403058052063,0.4340011477470398,0.44492030143737793,0.4297923445701599,0.42331910133361816,0.4152592122554779,0.41988450288772583,0.427054762840271,0.41803526878356934,0.4249947965145111,0.4006362855434418,0.4018348455429077,0.3956405818462372,0.42682749032974243,0.39554646611213684,0.3920668065547943,0.4464868903160095,0.42692795395851135,0.41108617186546326,0.3941175937652588,0.39526695013046265,0.4201302230358124,0.4068615138530731,0.46258917450904846,0.3840676546096802,0.3941059410572052,0.4251755177974701,0.39989757537841797,0.39897459745407104,0.39729246497154236,0.41109147667884827,0.3743777275085449,0.3912992775440216,0.3773479461669922,0.37856486439704895,0.38012459874153137,0.39406445622444153,0.3722964823246002,0.37338119745254517,0.38474240899086,0.38231417536735535,0.37405291199684143,0.3744056820869446,0.36617404222488403,0.4086586833000183,0.37229636311531067,0.3704964518547058,0.4549475610256195,0.37223970890045166,0.40082889795303345,0.39231330156326294,0.37836986780166626,0.37040916085243225,0.37253665924072266,0.3842501640319824,0.367211252450943,0.3637838661670685,0.3729419708251953,0.38693901896476746,0.35943087935447693,0.4213484227657318,0.3904908001422882,0.3742358386516571,0.36385640501976013,0.3722028434276581,0.35935086011886597,0.3627118766307831,0.3605533838272095,0.3577452600002289,0.35808902978897095,0.40892893075942993,0.36466535925865173,0.3632964491844177,0.38487282395362854,0.36097678542137146,0.39808323979377747,0.35937565565109253,0.37444502115249634,0.35813942551612854,0.3591461777687073,0.3574976623058319,0.3564019799232483,0.3552085757255554,0.35779720544815063,0.3556278645992279,0.3838663697242737,0.35424894094467163,0.3633892834186554,0.3545472323894501,0.4690719246864319],\"type\":\"scattergl\"}],                        {\"template\":{\"data\":{\"bar\":[{\"error_x\":{\"color\":\"#2a3f5f\"},\"error_y\":{\"color\":\"#2a3f5f\"},\"marker\":{\"line\":{\"color\":\"#E5ECF6\",\"width\":0.5},\"pattern\":{\"fillmode\":\"overlay\",\"size\":10,\"solidity\":0.2}},\"type\":\"bar\"}],\"barpolar\":[{\"marker\":{\"line\":{\"color\":\"#E5ECF6\",\"width\":0.5},\"pattern\":{\"fillmode\":\"overlay\",\"size\":10,\"solidity\":0.2}},\"type\":\"barpolar\"}],\"carpet\":[{\"aaxis\":{\"endlinecolor\":\"#2a3f5f\",\"gridcolor\":\"white\",\"linecolor\":\"white\",\"minorgridcolor\":\"white\",\"startlinecolor\":\"#2a3f5f\"},\"baxis\":{\"endlinecolor\":\"#2a3f5f\",\"gridcolor\":\"white\",\"linecolor\":\"white\",\"minorgridcolor\":\"white\",\"startlinecolor\":\"#2a3f5f\"},\"type\":\"carpet\"}],\"choropleth\":[{\"colorbar\":{\"outlinewidth\":0,\"ticks\":\"\"},\"type\":\"choropleth\"}],\"contour\":[{\"colorbar\":{\"outlinewidth\":0,\"ticks\":\"\"},\"colorscale\":[[0.0,\"#0d0887\"],[0.1111111111111111,\"#46039f\"],[0.2222222222222222,\"#7201a8\"],[0.3333333333333333,\"#9c179e\"],[0.4444444444444444,\"#bd3786\"],[0.5555555555555556,\"#d8576b\"],[0.6666666666666666,\"#ed7953\"],[0.7777777777777778,\"#fb9f3a\"],[0.8888888888888888,\"#fdca26\"],[1.0,\"#f0f921\"]],\"type\":\"contour\"}],\"contourcarpet\":[{\"colorbar\":{\"outlinewidth\":0,\"ticks\":\"\"},\"type\":\"contourcarpet\"}],\"heatmap\":[{\"colorbar\":{\"outlinewidth\":0,\"ticks\":\"\"},\"colorscale\":[[0.0,\"#0d0887\"],[0.1111111111111111,\"#46039f\"],[0.2222222222222222,\"#7201a8\"],[0.3333333333333333,\"#9c179e\"],[0.4444444444444444,\"#bd3786\"],[0.5555555555555556,\"#d8576b\"],[0.6666666666666666,\"#ed7953\"],[0.7777777777777778,\"#fb9f3a\"],[0.8888888888888888,\"#fdca26\"],[1.0,\"#f0f921\"]],\"type\":\"heatmap\"}],\"heatmapgl\":[{\"colorbar\":{\"outlinewidth\":0,\"ticks\":\"\"},\"colorscale\":[[0.0,\"#0d0887\"],[0.1111111111111111,\"#46039f\"],[0.2222222222222222,\"#7201a8\"],[0.3333333333333333,\"#9c179e\"],[0.4444444444444444,\"#bd3786\"],[0.5555555555555556,\"#d8576b\"],[0.6666666666666666,\"#ed7953\"],[0.7777777777777778,\"#fb9f3a\"],[0.8888888888888888,\"#fdca26\"],[1.0,\"#f0f921\"]],\"type\":\"heatmapgl\"}],\"histogram\":[{\"marker\":{\"pattern\":{\"fillmode\":\"overlay\",\"size\":10,\"solidity\":0.2}},\"type\":\"histogram\"}],\"histogram2d\":[{\"colorbar\":{\"outlinewidth\":0,\"ticks\":\"\"},\"colorscale\":[[0.0,\"#0d0887\"],[0.1111111111111111,\"#46039f\"],[0.2222222222222222,\"#7201a8\"],[0.3333333333333333,\"#9c179e\"],[0.4444444444444444,\"#bd3786\"],[0.5555555555555556,\"#d8576b\"],[0.6666666666666666,\"#ed7953\"],[0.7777777777777778,\"#fb9f3a\"],[0.8888888888888888,\"#fdca26\"],[1.0,\"#f0f921\"]],\"type\":\"histogram2d\"}],\"histogram2dcontour\":[{\"colorbar\":{\"outlinewidth\":0,\"ticks\":\"\"},\"colorscale\":[[0.0,\"#0d0887\"],[0.1111111111111111,\"#46039f\"],[0.2222222222222222,\"#7201a8\"],[0.3333333333333333,\"#9c179e\"],[0.4444444444444444,\"#bd3786\"],[0.5555555555555556,\"#d8576b\"],[0.6666666666666666,\"#ed7953\"],[0.7777777777777778,\"#fb9f3a\"],[0.8888888888888888,\"#fdca26\"],[1.0,\"#f0f921\"]],\"type\":\"histogram2dcontour\"}],\"mesh3d\":[{\"colorbar\":{\"outlinewidth\":0,\"ticks\":\"\"},\"type\":\"mesh3d\"}],\"parcoords\":[{\"line\":{\"colorbar\":{\"outlinewidth\":0,\"ticks\":\"\"}},\"type\":\"parcoords\"}],\"pie\":[{\"automargin\":true,\"type\":\"pie\"}],\"scatter\":[{\"marker\":{\"colorbar\":{\"outlinewidth\":0,\"ticks\":\"\"}},\"type\":\"scatter\"}],\"scatter3d\":[{\"line\":{\"colorbar\":{\"outlinewidth\":0,\"ticks\":\"\"}},\"marker\":{\"colorbar\":{\"outlinewidth\":0,\"ticks\":\"\"}},\"type\":\"scatter3d\"}],\"scattercarpet\":[{\"marker\":{\"colorbar\":{\"outlinewidth\":0,\"ticks\":\"\"}},\"type\":\"scattercarpet\"}],\"scattergeo\":[{\"marker\":{\"colorbar\":{\"outlinewidth\":0,\"ticks\":\"\"}},\"type\":\"scattergeo\"}],\"scattergl\":[{\"marker\":{\"colorbar\":{\"outlinewidth\":0,\"ticks\":\"\"}},\"type\":\"scattergl\"}],\"scattermapbox\":[{\"marker\":{\"colorbar\":{\"outlinewidth\":0,\"ticks\":\"\"}},\"type\":\"scattermapbox\"}],\"scatterpolar\":[{\"marker\":{\"colorbar\":{\"outlinewidth\":0,\"ticks\":\"\"}},\"type\":\"scatterpolar\"}],\"scatterpolargl\":[{\"marker\":{\"colorbar\":{\"outlinewidth\":0,\"ticks\":\"\"}},\"type\":\"scatterpolargl\"}],\"scatterternary\":[{\"marker\":{\"colorbar\":{\"outlinewidth\":0,\"ticks\":\"\"}},\"type\":\"scatterternary\"}],\"surface\":[{\"colorbar\":{\"outlinewidth\":0,\"ticks\":\"\"},\"colorscale\":[[0.0,\"#0d0887\"],[0.1111111111111111,\"#46039f\"],[0.2222222222222222,\"#7201a8\"],[0.3333333333333333,\"#9c179e\"],[0.4444444444444444,\"#bd3786\"],[0.5555555555555556,\"#d8576b\"],[0.6666666666666666,\"#ed7953\"],[0.7777777777777778,\"#fb9f3a\"],[0.8888888888888888,\"#fdca26\"],[1.0,\"#f0f921\"]],\"type\":\"surface\"}],\"table\":[{\"cells\":{\"fill\":{\"color\":\"#EBF0F8\"},\"line\":{\"color\":\"white\"}},\"header\":{\"fill\":{\"color\":\"#C8D4E3\"},\"line\":{\"color\":\"white\"}},\"type\":\"table\"}]},\"layout\":{\"annotationdefaults\":{\"arrowcolor\":\"#2a3f5f\",\"arrowhead\":0,\"arrowwidth\":1},\"autotypenumbers\":\"strict\",\"coloraxis\":{\"colorbar\":{\"outlinewidth\":0,\"ticks\":\"\"}},\"colorscale\":{\"diverging\":[[0,\"#8e0152\"],[0.1,\"#c51b7d\"],[0.2,\"#de77ae\"],[0.3,\"#f1b6da\"],[0.4,\"#fde0ef\"],[0.5,\"#f7f7f7\"],[0.6,\"#e6f5d0\"],[0.7,\"#b8e186\"],[0.8,\"#7fbc41\"],[0.9,\"#4d9221\"],[1,\"#276419\"]],\"sequential\":[[0.0,\"#0d0887\"],[0.1111111111111111,\"#46039f\"],[0.2222222222222222,\"#7201a8\"],[0.3333333333333333,\"#9c179e\"],[0.4444444444444444,\"#bd3786\"],[0.5555555555555556,\"#d8576b\"],[0.6666666666666666,\"#ed7953\"],[0.7777777777777778,\"#fb9f3a\"],[0.8888888888888888,\"#fdca26\"],[1.0,\"#f0f921\"]],\"sequentialminus\":[[0.0,\"#0d0887\"],[0.1111111111111111,\"#46039f\"],[0.2222222222222222,\"#7201a8\"],[0.3333333333333333,\"#9c179e\"],[0.4444444444444444,\"#bd3786\"],[0.5555555555555556,\"#d8576b\"],[0.6666666666666666,\"#ed7953\"],[0.7777777777777778,\"#fb9f3a\"],[0.8888888888888888,\"#fdca26\"],[1.0,\"#f0f921\"]]},\"colorway\":[\"#636efa\",\"#EF553B\",\"#00cc96\",\"#ab63fa\",\"#FFA15A\",\"#19d3f3\",\"#FF6692\",\"#B6E880\",\"#FF97FF\",\"#FECB52\"],\"font\":{\"color\":\"#2a3f5f\"},\"geo\":{\"bgcolor\":\"white\",\"lakecolor\":\"white\",\"landcolor\":\"#E5ECF6\",\"showlakes\":true,\"showland\":true,\"subunitcolor\":\"white\"},\"hoverlabel\":{\"align\":\"left\"},\"hovermode\":\"closest\",\"mapbox\":{\"style\":\"light\"},\"paper_bgcolor\":\"white\",\"plot_bgcolor\":\"#E5ECF6\",\"polar\":{\"angularaxis\":{\"gridcolor\":\"white\",\"linecolor\":\"white\",\"ticks\":\"\"},\"bgcolor\":\"#E5ECF6\",\"radialaxis\":{\"gridcolor\":\"white\",\"linecolor\":\"white\",\"ticks\":\"\"}},\"scene\":{\"xaxis\":{\"backgroundcolor\":\"#E5ECF6\",\"gridcolor\":\"white\",\"gridwidth\":2,\"linecolor\":\"white\",\"showbackground\":true,\"ticks\":\"\",\"zerolinecolor\":\"white\"},\"yaxis\":{\"backgroundcolor\":\"#E5ECF6\",\"gridcolor\":\"white\",\"gridwidth\":2,\"linecolor\":\"white\",\"showbackground\":true,\"ticks\":\"\",\"zerolinecolor\":\"white\"},\"zaxis\":{\"backgroundcolor\":\"#E5ECF6\",\"gridcolor\":\"white\",\"gridwidth\":2,\"linecolor\":\"white\",\"showbackground\":true,\"ticks\":\"\",\"zerolinecolor\":\"white\"}},\"shapedefaults\":{\"line\":{\"color\":\"#2a3f5f\"}},\"ternary\":{\"aaxis\":{\"gridcolor\":\"white\",\"linecolor\":\"white\",\"ticks\":\"\"},\"baxis\":{\"gridcolor\":\"white\",\"linecolor\":\"white\",\"ticks\":\"\"},\"bgcolor\":\"#E5ECF6\",\"caxis\":{\"gridcolor\":\"white\",\"linecolor\":\"white\",\"ticks\":\"\"}},\"title\":{\"x\":0.05},\"xaxis\":{\"automargin\":true,\"gridcolor\":\"white\",\"linecolor\":\"white\",\"ticks\":\"\",\"title\":{\"standoff\":15},\"zerolinecolor\":\"white\",\"zerolinewidth\":2},\"yaxis\":{\"automargin\":true,\"gridcolor\":\"white\",\"linecolor\":\"white\",\"ticks\":\"\",\"title\":{\"standoff\":15},\"zerolinecolor\":\"white\",\"zerolinewidth\":2}}},\"height\":500,\"width\":700,\"xaxis\":{\"title\":{\"text\":\"Epoch\"}},\"yaxis\":{\"title\":{\"text\":\"Mean Absolute Error\"}}},                        {\"responsive\": true}                    ).then(function(){\n",
              "                            \n",
              "var gd = document.getElementById('20cb234c-82e7-4a5b-8a84-8a9101cc434f');\n",
              "var x = new MutationObserver(function (mutations, observer) {{\n",
              "        var display = window.getComputedStyle(gd).display;\n",
              "        if (!display || display === 'none') {{\n",
              "            console.log([gd, 'removed!']);\n",
              "            Plotly.purge(gd);\n",
              "            observer.disconnect();\n",
              "        }}\n",
              "}});\n",
              "\n",
              "// Listen for the removal of the full notebook cells\n",
              "var notebookContainer = gd.closest('#notebook-container');\n",
              "if (notebookContainer) {{\n",
              "    x.observe(notebookContainer, {childList: true});\n",
              "}}\n",
              "\n",
              "// Listen for the clearing of the current output cell\n",
              "var outputEl = gd.closest('.output');\n",
              "if (outputEl) {{\n",
              "    x.observe(outputEl, {childList: true});\n",
              "}}\n",
              "\n",
              "                        })                };                            </script>        </div>\n",
              "</body>\n",
              "</html>"
            ]
          },
          "metadata": {}
        }
      ]
    },
    {
      "cell_type": "code",
      "source": [
        "Xnew = model.predict(X_test)\n",
        "\n",
        "print(f\"Средняя абсолютная ошибка: {int(mean_absolute_error(Xnew, y_test)*100000)}$\")"
      ],
      "metadata": {
        "colab": {
          "base_uri": "https://localhost:8080/"
        },
        "id": "YmM37m8E9fVO",
        "outputId": "a514a154-5f38-4f59-8432-b6a9c4855ff4"
      },
      "execution_count": null,
      "outputs": [
        {
          "output_type": "stream",
          "name": "stdout",
          "text": [
            "65/65 [==============================] - 0s 2ms/step\n",
            "Средняя абсолютная ошибка: 118481$\n"
          ]
        }
      ]
    },
    {
      "cell_type": "markdown",
      "source": [
        "Изменим оптимизатор на AdamAX, установим batch_size = 50 \n",
        "Изменим архитетктуру"
      ],
      "metadata": {
        "id": "n67GoJwN3mBH"
      }
    },
    {
      "cell_type": "code",
      "source": [
        "from keras.models import Sequential\n",
        "from keras.layers import Dense\n",
        "\n",
        "model = Sequential()\n",
        "\n",
        "model.add(Dense(256, input_shape=(8, ), activation='relu', name='dense_1'))\n",
        "model.add(Dense(64, activation='relu', name='dense_2'))\n",
        "model.add(Dense(32, activation='linear', name='dense_3'))\n",
        "model.add(Dense(1, activation='linear', name='dense_output'))"
      ],
      "metadata": {
        "id": "hH6eH0aw4Gfv"
      },
      "execution_count": null,
      "outputs": []
    },
    {
      "cell_type": "code",
      "source": [
        "from tensorflow.keras.optimizers import Adamax\n",
        "model.compile(optimizer=Adamax(learning_rate=0.05), loss='mse', metrics=['mae'])\n",
        "model.summary()"
      ],
      "metadata": {
        "colab": {
          "base_uri": "https://localhost:8080/"
        },
        "id": "JuJaL8EW5QZW",
        "outputId": "7ec3aa53-1f24-40e2-87c9-b8710e97aa33"
      },
      "execution_count": null,
      "outputs": [
        {
          "output_type": "stream",
          "name": "stdout",
          "text": [
            "Model: \"sequential_11\"\n",
            "_________________________________________________________________\n",
            " Layer (type)                Output Shape              Param #   \n",
            "=================================================================\n",
            " dense_1 (Dense)             (None, 256)               2304      \n",
            "                                                                 \n",
            " dense_2 (Dense)             (None, 64)                16448     \n",
            "                                                                 \n",
            " dense_3 (Dense)             (None, 32)                2080      \n",
            "                                                                 \n",
            " dense_output (Dense)        (None, 1)                 33        \n",
            "                                                                 \n",
            "=================================================================\n",
            "Total params: 20,865\n",
            "Trainable params: 20,865\n",
            "Non-trainable params: 0\n",
            "_________________________________________________________________\n"
          ]
        }
      ]
    },
    {
      "cell_type": "code",
      "source": [
        "history = model.fit(X_train, y_train, epochs=80,batch_size=50, validation_split=0.1)"
      ],
      "metadata": {
        "colab": {
          "base_uri": "https://localhost:8080/"
        },
        "id": "gBslWI6y5wlN",
        "outputId": "0b044c73-e244-440d-8d75-1e7d507432e4"
      },
      "execution_count": null,
      "outputs": [
        {
          "output_type": "stream",
          "name": "stdout",
          "text": [
            "Epoch 1/80\n",
            "335/335 [==============================] - 2s 5ms/step - loss: 0.3779 - mae: 0.4382 - val_loss: 0.3705 - val_mae: 0.4272\n",
            "Epoch 2/80\n",
            "335/335 [==============================] - 1s 3ms/step - loss: 0.3765 - mae: 0.4385 - val_loss: 0.4066 - val_mae: 0.4438\n",
            "Epoch 3/80\n",
            "335/335 [==============================] - 1s 2ms/step - loss: 0.3761 - mae: 0.4378 - val_loss: 0.4167 - val_mae: 0.4464\n",
            "Epoch 4/80\n",
            "335/335 [==============================] - 1s 2ms/step - loss: 0.3771 - mae: 0.4378 - val_loss: 0.3669 - val_mae: 0.4233\n",
            "Epoch 5/80\n",
            "335/335 [==============================] - 1s 2ms/step - loss: 0.3694 - mae: 0.4342 - val_loss: 0.3869 - val_mae: 0.4486\n",
            "Epoch 6/80\n",
            "335/335 [==============================] - 1s 2ms/step - loss: 0.3761 - mae: 0.4383 - val_loss: 0.3769 - val_mae: 0.4433\n",
            "Epoch 7/80\n",
            "335/335 [==============================] - 1s 3ms/step - loss: 0.3731 - mae: 0.4361 - val_loss: 0.4185 - val_mae: 0.4474\n",
            "Epoch 8/80\n",
            "335/335 [==============================] - 1s 3ms/step - loss: 0.3712 - mae: 0.4342 - val_loss: 0.3681 - val_mae: 0.4170\n",
            "Epoch 9/80\n",
            "335/335 [==============================] - 1s 2ms/step - loss: 0.3706 - mae: 0.4354 - val_loss: 0.3964 - val_mae: 0.4355\n",
            "Epoch 10/80\n",
            "335/335 [==============================] - 1s 2ms/step - loss: 0.3794 - mae: 0.4389 - val_loss: 0.4007 - val_mae: 0.4356\n",
            "Epoch 11/80\n",
            "335/335 [==============================] - 1s 2ms/step - loss: 0.3758 - mae: 0.4381 - val_loss: 0.3694 - val_mae: 0.4225\n",
            "Epoch 12/80\n",
            "335/335 [==============================] - 1s 2ms/step - loss: 0.3731 - mae: 0.4366 - val_loss: 0.3711 - val_mae: 0.4348\n",
            "Epoch 13/80\n",
            "335/335 [==============================] - 1s 2ms/step - loss: 0.3733 - mae: 0.4371 - val_loss: 0.3876 - val_mae: 0.4465\n",
            "Epoch 14/80\n",
            "335/335 [==============================] - 1s 2ms/step - loss: 0.3697 - mae: 0.4334 - val_loss: 0.4017 - val_mae: 0.4326\n",
            "Epoch 15/80\n",
            "335/335 [==============================] - 1s 2ms/step - loss: 0.3738 - mae: 0.4368 - val_loss: 0.3815 - val_mae: 0.4188\n",
            "Epoch 16/80\n",
            "335/335 [==============================] - 1s 2ms/step - loss: 0.3692 - mae: 0.4333 - val_loss: 0.3635 - val_mae: 0.4148\n",
            "Epoch 17/80\n",
            "335/335 [==============================] - 1s 2ms/step - loss: 0.3690 - mae: 0.4340 - val_loss: 0.3754 - val_mae: 0.4295\n",
            "Epoch 18/80\n",
            "335/335 [==============================] - 1s 2ms/step - loss: 0.3697 - mae: 0.4334 - val_loss: 0.3738 - val_mae: 0.4375\n",
            "Epoch 19/80\n",
            "335/335 [==============================] - 1s 2ms/step - loss: 0.3682 - mae: 0.4337 - val_loss: 0.4117 - val_mae: 0.4553\n",
            "Epoch 20/80\n",
            "335/335 [==============================] - 1s 2ms/step - loss: 0.3690 - mae: 0.4334 - val_loss: 0.3701 - val_mae: 0.4216\n",
            "Epoch 21/80\n",
            "335/335 [==============================] - 1s 2ms/step - loss: 0.3681 - mae: 0.4332 - val_loss: 0.3729 - val_mae: 0.4392\n",
            "Epoch 22/80\n",
            "335/335 [==============================] - 1s 3ms/step - loss: 0.3730 - mae: 0.4369 - val_loss: 0.3894 - val_mae: 0.4341\n",
            "Epoch 23/80\n",
            "335/335 [==============================] - 1s 3ms/step - loss: 0.3704 - mae: 0.4344 - val_loss: 0.3749 - val_mae: 0.4287\n",
            "Epoch 24/80\n",
            "335/335 [==============================] - 1s 3ms/step - loss: 0.3699 - mae: 0.4346 - val_loss: 0.3695 - val_mae: 0.4318\n",
            "Epoch 25/80\n",
            "335/335 [==============================] - 1s 2ms/step - loss: 0.3718 - mae: 0.4363 - val_loss: 0.3651 - val_mae: 0.4179\n",
            "Epoch 26/80\n",
            "335/335 [==============================] - 1s 2ms/step - loss: 0.3703 - mae: 0.4337 - val_loss: 0.3790 - val_mae: 0.4462\n",
            "Epoch 27/80\n",
            "335/335 [==============================] - 1s 2ms/step - loss: 0.3676 - mae: 0.4328 - val_loss: 0.3714 - val_mae: 0.4308\n",
            "Epoch 28/80\n",
            "335/335 [==============================] - 1s 2ms/step - loss: 0.3734 - mae: 0.4366 - val_loss: 0.3649 - val_mae: 0.4224\n",
            "Epoch 29/80\n",
            "335/335 [==============================] - 1s 2ms/step - loss: 0.3740 - mae: 0.4362 - val_loss: 0.4447 - val_mae: 0.4910\n",
            "Epoch 30/80\n",
            "335/335 [==============================] - 1s 2ms/step - loss: 0.3704 - mae: 0.4344 - val_loss: 0.3682 - val_mae: 0.4250\n",
            "Epoch 31/80\n",
            "335/335 [==============================] - 1s 2ms/step - loss: 0.3686 - mae: 0.4334 - val_loss: 0.3621 - val_mae: 0.4200\n",
            "Epoch 32/80\n",
            "335/335 [==============================] - 1s 2ms/step - loss: 0.3705 - mae: 0.4342 - val_loss: 0.3751 - val_mae: 0.4210\n",
            "Epoch 33/80\n",
            "335/335 [==============================] - 1s 2ms/step - loss: 0.3657 - mae: 0.4311 - val_loss: 0.3913 - val_mae: 0.4504\n",
            "Epoch 34/80\n",
            "335/335 [==============================] - 1s 2ms/step - loss: 0.3664 - mae: 0.4321 - val_loss: 0.3971 - val_mae: 0.4499\n",
            "Epoch 35/80\n",
            "335/335 [==============================] - 1s 2ms/step - loss: 0.3675 - mae: 0.4327 - val_loss: 0.3731 - val_mae: 0.4170\n",
            "Epoch 36/80\n",
            "335/335 [==============================] - 1s 2ms/step - loss: 0.3704 - mae: 0.4349 - val_loss: 0.4032 - val_mae: 0.4698\n",
            "Epoch 37/80\n",
            "335/335 [==============================] - 1s 2ms/step - loss: 0.3683 - mae: 0.4345 - val_loss: 0.3636 - val_mae: 0.4175\n",
            "Epoch 38/80\n",
            "335/335 [==============================] - 1s 3ms/step - loss: 0.3693 - mae: 0.4344 - val_loss: 0.3672 - val_mae: 0.4187\n",
            "Epoch 39/80\n",
            "335/335 [==============================] - 1s 3ms/step - loss: 0.3681 - mae: 0.4325 - val_loss: 0.3919 - val_mae: 0.4485\n",
            "Epoch 40/80\n",
            "335/335 [==============================] - 1s 2ms/step - loss: 0.3651 - mae: 0.4310 - val_loss: 0.3682 - val_mae: 0.4205\n",
            "Epoch 41/80\n",
            "335/335 [==============================] - 1s 2ms/step - loss: 0.3685 - mae: 0.4334 - val_loss: 0.3663 - val_mae: 0.4146\n",
            "Epoch 42/80\n",
            "335/335 [==============================] - 1s 2ms/step - loss: 0.3719 - mae: 0.4356 - val_loss: 0.4048 - val_mae: 0.4633\n",
            "Epoch 43/80\n",
            "335/335 [==============================] - 1s 2ms/step - loss: 0.3666 - mae: 0.4327 - val_loss: 0.3758 - val_mae: 0.4322\n",
            "Epoch 44/80\n",
            "335/335 [==============================] - 1s 2ms/step - loss: 0.3685 - mae: 0.4331 - val_loss: 0.3694 - val_mae: 0.4191\n",
            "Epoch 45/80\n",
            "335/335 [==============================] - 1s 2ms/step - loss: 0.3693 - mae: 0.4333 - val_loss: 0.3632 - val_mae: 0.4166\n",
            "Epoch 46/80\n",
            "335/335 [==============================] - 1s 2ms/step - loss: 0.3667 - mae: 0.4316 - val_loss: 0.3887 - val_mae: 0.4510\n",
            "Epoch 47/80\n",
            "335/335 [==============================] - 1s 2ms/step - loss: 0.3680 - mae: 0.4329 - val_loss: 0.3693 - val_mae: 0.4223\n",
            "Epoch 48/80\n",
            "335/335 [==============================] - 1s 2ms/step - loss: 0.3648 - mae: 0.4315 - val_loss: 0.3742 - val_mae: 0.4151\n",
            "Epoch 49/80\n",
            "335/335 [==============================] - 1s 2ms/step - loss: 0.3632 - mae: 0.4290 - val_loss: 0.3667 - val_mae: 0.4235\n",
            "Epoch 50/80\n",
            "335/335 [==============================] - 1s 2ms/step - loss: 0.3646 - mae: 0.4319 - val_loss: 0.3643 - val_mae: 0.4180\n",
            "Epoch 51/80\n",
            "335/335 [==============================] - 1s 2ms/step - loss: 0.3709 - mae: 0.4361 - val_loss: 0.3677 - val_mae: 0.4233\n",
            "Epoch 52/80\n",
            "335/335 [==============================] - 1s 2ms/step - loss: 0.3673 - mae: 0.4330 - val_loss: 0.4126 - val_mae: 0.4640\n",
            "Epoch 53/80\n",
            "335/335 [==============================] - 1s 3ms/step - loss: 0.3648 - mae: 0.4316 - val_loss: 0.3642 - val_mae: 0.4176\n",
            "Epoch 54/80\n",
            "335/335 [==============================] - 1s 3ms/step - loss: 0.3660 - mae: 0.4319 - val_loss: 0.3789 - val_mae: 0.4354\n",
            "Epoch 55/80\n",
            "335/335 [==============================] - 1s 2ms/step - loss: 0.3663 - mae: 0.4317 - val_loss: 0.4094 - val_mae: 0.4663\n",
            "Epoch 56/80\n",
            "335/335 [==============================] - 1s 2ms/step - loss: 0.3679 - mae: 0.4339 - val_loss: 0.3767 - val_mae: 0.4241\n",
            "Epoch 57/80\n",
            "335/335 [==============================] - 1s 2ms/step - loss: 0.3718 - mae: 0.4371 - val_loss: 0.3730 - val_mae: 0.4209\n",
            "Epoch 58/80\n",
            "335/335 [==============================] - 1s 2ms/step - loss: 0.3710 - mae: 0.4360 - val_loss: 0.3985 - val_mae: 0.4272\n",
            "Epoch 59/80\n",
            "335/335 [==============================] - 1s 2ms/step - loss: 0.3688 - mae: 0.4347 - val_loss: 0.3689 - val_mae: 0.4352\n",
            "Epoch 60/80\n",
            "335/335 [==============================] - 1s 2ms/step - loss: 0.3675 - mae: 0.4329 - val_loss: 0.3764 - val_mae: 0.4277\n",
            "Epoch 61/80\n",
            "335/335 [==============================] - 1s 2ms/step - loss: 0.3653 - mae: 0.4299 - val_loss: 0.3659 - val_mae: 0.4248\n",
            "Epoch 62/80\n",
            "335/335 [==============================] - 1s 2ms/step - loss: 0.3663 - mae: 0.4323 - val_loss: 0.3986 - val_mae: 0.4610\n",
            "Epoch 63/80\n",
            "335/335 [==============================] - 1s 2ms/step - loss: 0.3695 - mae: 0.4359 - val_loss: 0.3700 - val_mae: 0.4256\n",
            "Epoch 64/80\n",
            "335/335 [==============================] - 1s 2ms/step - loss: 0.3640 - mae: 0.4308 - val_loss: 0.3720 - val_mae: 0.4287\n",
            "Epoch 65/80\n",
            "335/335 [==============================] - 1s 2ms/step - loss: 0.3692 - mae: 0.4341 - val_loss: 0.3661 - val_mae: 0.4229\n",
            "Epoch 66/80\n",
            "335/335 [==============================] - 1s 2ms/step - loss: 0.3688 - mae: 0.4350 - val_loss: 0.3758 - val_mae: 0.4215\n",
            "Epoch 67/80\n",
            "335/335 [==============================] - 1s 2ms/step - loss: 0.3659 - mae: 0.4322 - val_loss: 0.3967 - val_mae: 0.4597\n",
            "Epoch 68/80\n",
            "335/335 [==============================] - 1s 3ms/step - loss: 0.3631 - mae: 0.4298 - val_loss: 0.3773 - val_mae: 0.4499\n",
            "Epoch 69/80\n",
            "335/335 [==============================] - 1s 3ms/step - loss: 0.3663 - mae: 0.4327 - val_loss: 0.3884 - val_mae: 0.4537\n",
            "Epoch 70/80\n",
            "335/335 [==============================] - 1s 2ms/step - loss: 0.3662 - mae: 0.4338 - val_loss: 0.3723 - val_mae: 0.4276\n",
            "Epoch 71/80\n",
            "335/335 [==============================] - 1s 2ms/step - loss: 0.3677 - mae: 0.4332 - val_loss: 0.3832 - val_mae: 0.4294\n",
            "Epoch 72/80\n",
            "335/335 [==============================] - 2s 6ms/step - loss: 0.3667 - mae: 0.4336 - val_loss: 0.3810 - val_mae: 0.4415\n",
            "Epoch 73/80\n",
            "335/335 [==============================] - 2s 5ms/step - loss: 0.3716 - mae: 0.4362 - val_loss: 0.3739 - val_mae: 0.4195\n",
            "Epoch 74/80\n",
            "335/335 [==============================] - 1s 4ms/step - loss: 0.3668 - mae: 0.4321 - val_loss: 0.3895 - val_mae: 0.4475\n",
            "Epoch 75/80\n",
            "335/335 [==============================] - 1s 2ms/step - loss: 0.3657 - mae: 0.4315 - val_loss: 0.3759 - val_mae: 0.4324\n",
            "Epoch 76/80\n",
            "335/335 [==============================] - 1s 2ms/step - loss: 0.3680 - mae: 0.4338 - val_loss: 0.3727 - val_mae: 0.4166\n",
            "Epoch 77/80\n",
            "335/335 [==============================] - 1s 2ms/step - loss: 0.3640 - mae: 0.4308 - val_loss: 0.3713 - val_mae: 0.4299\n",
            "Epoch 78/80\n",
            "335/335 [==============================] - 1s 2ms/step - loss: 0.3640 - mae: 0.4319 - val_loss: 0.3814 - val_mae: 0.4211\n",
            "Epoch 79/80\n",
            "335/335 [==============================] - 1s 3ms/step - loss: 0.3662 - mae: 0.4329 - val_loss: 0.3702 - val_mae: 0.4283\n",
            "Epoch 80/80\n",
            "335/335 [==============================] - 1s 3ms/step - loss: 0.3657 - mae: 0.4316 - val_loss: 0.4243 - val_mae: 0.4443\n"
          ]
        }
      ]
    },
    {
      "cell_type": "code",
      "source": [
        "import plotly.graph_objects as go\n",
        "fig = go.Figure()\n",
        "fig.add_trace(go.Scattergl(y=history.history['loss'],\n",
        "                    name='Train'))\n",
        "\n",
        "fig.add_trace(go.Scattergl(y=history.history['val_loss'],\n",
        "                    name='Valid'))\n",
        "\n",
        "\n",
        "fig.update_layout(height=500, width=700,\n",
        "                  xaxis_title='Epoch',\n",
        "                  yaxis_title='Loss')\n",
        "\n",
        "fig.show()"
      ],
      "metadata": {
        "colab": {
          "base_uri": "https://localhost:8080/",
          "height": 517
        },
        "id": "_2nCSHG06S0H",
        "outputId": "4ff8f072-9672-442c-9066-b7dcdebb3099"
      },
      "execution_count": null,
      "outputs": [
        {
          "output_type": "display_data",
          "data": {
            "text/html": [
              "<html>\n",
              "<head><meta charset=\"utf-8\" /></head>\n",
              "<body>\n",
              "    <div>            <script src=\"https://cdnjs.cloudflare.com/ajax/libs/mathjax/2.7.5/MathJax.js?config=TeX-AMS-MML_SVG\"></script><script type=\"text/javascript\">if (window.MathJax) {MathJax.Hub.Config({SVG: {font: \"STIX-Web\"}});}</script>                <script type=\"text/javascript\">window.PlotlyConfig = {MathJaxConfig: 'local'};</script>\n",
              "        <script src=\"https://cdn.plot.ly/plotly-2.8.3.min.js\"></script>                <div id=\"63b2fd1d-3cdd-4af9-92b9-23113c37ac8f\" class=\"plotly-graph-div\" style=\"height:500px; width:700px;\"></div>            <script type=\"text/javascript\">                                    window.PLOTLYENV=window.PLOTLYENV || {};                                    if (document.getElementById(\"63b2fd1d-3cdd-4af9-92b9-23113c37ac8f\")) {                    Plotly.newPlot(                        \"63b2fd1d-3cdd-4af9-92b9-23113c37ac8f\",                        [{\"name\":\"Train\",\"y\":[0.37791579961776733,0.3764943480491638,0.37610185146331787,0.37710487842559814,0.3694439232349396,0.37608298659324646,0.3731083571910858,0.3712036907672882,0.3706027567386627,0.379433274269104,0.3757750988006592,0.3731054663658142,0.37334534525871277,0.3697288930416107,0.3737543225288391,0.369223952293396,0.3690089285373688,0.36966192722320557,0.36815547943115234,0.3690384328365326,0.3680795133113861,0.37300124764442444,0.3704063892364502,0.36994025111198425,0.3717629611492157,0.37033703923225403,0.3675551414489746,0.3733624517917633,0.3739558458328247,0.3703685998916626,0.3685583472251892,0.3704559803009033,0.365718811750412,0.36644142866134644,0.3675021827220917,0.3704150319099426,0.36826929450035095,0.3693391978740692,0.3681342601776123,0.3651398718357086,0.3685372769832611,0.37191882729530334,0.36657530069351196,0.3684760630130768,0.3692569136619568,0.36666372418403625,0.36796829104423523,0.3647833466529846,0.36320218443870544,0.3645927309989929,0.370866984128952,0.36732542514801025,0.36483392119407654,0.3660467565059662,0.36631953716278076,0.36792659759521484,0.37179213762283325,0.37098678946495056,0.3687910735607147,0.3674754798412323,0.3652982711791992,0.3662891983985901,0.36948737502098083,0.36396050453186035,0.36920905113220215,0.36877676844596863,0.36587396264076233,0.36314985156059265,0.36630815267562866,0.3662355840206146,0.367667555809021,0.36669406294822693,0.37156206369400024,0.3668413460254669,0.3656787872314453,0.36795681715011597,0.3639761805534363,0.3639819025993347,0.3661634922027588,0.3657211661338806],\"type\":\"scattergl\"},{\"name\":\"Valid\",\"y\":[0.37048372626304626,0.406591534614563,0.4167284071445465,0.366902232170105,0.38689106702804565,0.37691929936408997,0.4184681475162506,0.3680902123451233,0.39640966057777405,0.4007425606250763,0.3694363534450531,0.3710671663284302,0.38764333724975586,0.4017111659049988,0.38153570890426636,0.3635420501232147,0.37542247772216797,0.37382349371910095,0.4117047190666199,0.37008795142173767,0.3728503882884979,0.38940250873565674,0.37489616870880127,0.36947721242904663,0.3651009798049927,0.378982275724411,0.3714381158351898,0.3648749887943268,0.4446884095668793,0.3681832253932953,0.36207661032676697,0.37506434321403503,0.3913329541683197,0.3970743715763092,0.3731185495853424,0.40324848890304565,0.36363592743873596,0.3672041594982147,0.39188575744628906,0.3682032823562622,0.3663448095321655,0.4048305153846741,0.3757536709308624,0.36941948533058167,0.3632199466228485,0.38870495557785034,0.3693475127220154,0.3741667866706848,0.36673787236213684,0.36430224776268005,0.3677426278591156,0.41256222128868103,0.36423084139823914,0.3788660168647766,0.4093707799911499,0.3767402172088623,0.3729572594165802,0.3984794616699219,0.36888453364372253,0.3764287829399109,0.3659416139125824,0.39864206314086914,0.3699606657028198,0.3720141649246216,0.36606886982917786,0.3757941722869873,0.3966711461544037,0.37734586000442505,0.3883894979953766,0.37233471870422363,0.3832050859928131,0.38100799918174744,0.37393850088119507,0.3894691467285156,0.37592995166778564,0.3727252781391144,0.3713068664073944,0.3814375698566437,0.3701884150505066,0.4242769777774811],\"type\":\"scattergl\"}],                        {\"template\":{\"data\":{\"bar\":[{\"error_x\":{\"color\":\"#2a3f5f\"},\"error_y\":{\"color\":\"#2a3f5f\"},\"marker\":{\"line\":{\"color\":\"#E5ECF6\",\"width\":0.5},\"pattern\":{\"fillmode\":\"overlay\",\"size\":10,\"solidity\":0.2}},\"type\":\"bar\"}],\"barpolar\":[{\"marker\":{\"line\":{\"color\":\"#E5ECF6\",\"width\":0.5},\"pattern\":{\"fillmode\":\"overlay\",\"size\":10,\"solidity\":0.2}},\"type\":\"barpolar\"}],\"carpet\":[{\"aaxis\":{\"endlinecolor\":\"#2a3f5f\",\"gridcolor\":\"white\",\"linecolor\":\"white\",\"minorgridcolor\":\"white\",\"startlinecolor\":\"#2a3f5f\"},\"baxis\":{\"endlinecolor\":\"#2a3f5f\",\"gridcolor\":\"white\",\"linecolor\":\"white\",\"minorgridcolor\":\"white\",\"startlinecolor\":\"#2a3f5f\"},\"type\":\"carpet\"}],\"choropleth\":[{\"colorbar\":{\"outlinewidth\":0,\"ticks\":\"\"},\"type\":\"choropleth\"}],\"contour\":[{\"colorbar\":{\"outlinewidth\":0,\"ticks\":\"\"},\"colorscale\":[[0.0,\"#0d0887\"],[0.1111111111111111,\"#46039f\"],[0.2222222222222222,\"#7201a8\"],[0.3333333333333333,\"#9c179e\"],[0.4444444444444444,\"#bd3786\"],[0.5555555555555556,\"#d8576b\"],[0.6666666666666666,\"#ed7953\"],[0.7777777777777778,\"#fb9f3a\"],[0.8888888888888888,\"#fdca26\"],[1.0,\"#f0f921\"]],\"type\":\"contour\"}],\"contourcarpet\":[{\"colorbar\":{\"outlinewidth\":0,\"ticks\":\"\"},\"type\":\"contourcarpet\"}],\"heatmap\":[{\"colorbar\":{\"outlinewidth\":0,\"ticks\":\"\"},\"colorscale\":[[0.0,\"#0d0887\"],[0.1111111111111111,\"#46039f\"],[0.2222222222222222,\"#7201a8\"],[0.3333333333333333,\"#9c179e\"],[0.4444444444444444,\"#bd3786\"],[0.5555555555555556,\"#d8576b\"],[0.6666666666666666,\"#ed7953\"],[0.7777777777777778,\"#fb9f3a\"],[0.8888888888888888,\"#fdca26\"],[1.0,\"#f0f921\"]],\"type\":\"heatmap\"}],\"heatmapgl\":[{\"colorbar\":{\"outlinewidth\":0,\"ticks\":\"\"},\"colorscale\":[[0.0,\"#0d0887\"],[0.1111111111111111,\"#46039f\"],[0.2222222222222222,\"#7201a8\"],[0.3333333333333333,\"#9c179e\"],[0.4444444444444444,\"#bd3786\"],[0.5555555555555556,\"#d8576b\"],[0.6666666666666666,\"#ed7953\"],[0.7777777777777778,\"#fb9f3a\"],[0.8888888888888888,\"#fdca26\"],[1.0,\"#f0f921\"]],\"type\":\"heatmapgl\"}],\"histogram\":[{\"marker\":{\"pattern\":{\"fillmode\":\"overlay\",\"size\":10,\"solidity\":0.2}},\"type\":\"histogram\"}],\"histogram2d\":[{\"colorbar\":{\"outlinewidth\":0,\"ticks\":\"\"},\"colorscale\":[[0.0,\"#0d0887\"],[0.1111111111111111,\"#46039f\"],[0.2222222222222222,\"#7201a8\"],[0.3333333333333333,\"#9c179e\"],[0.4444444444444444,\"#bd3786\"],[0.5555555555555556,\"#d8576b\"],[0.6666666666666666,\"#ed7953\"],[0.7777777777777778,\"#fb9f3a\"],[0.8888888888888888,\"#fdca26\"],[1.0,\"#f0f921\"]],\"type\":\"histogram2d\"}],\"histogram2dcontour\":[{\"colorbar\":{\"outlinewidth\":0,\"ticks\":\"\"},\"colorscale\":[[0.0,\"#0d0887\"],[0.1111111111111111,\"#46039f\"],[0.2222222222222222,\"#7201a8\"],[0.3333333333333333,\"#9c179e\"],[0.4444444444444444,\"#bd3786\"],[0.5555555555555556,\"#d8576b\"],[0.6666666666666666,\"#ed7953\"],[0.7777777777777778,\"#fb9f3a\"],[0.8888888888888888,\"#fdca26\"],[1.0,\"#f0f921\"]],\"type\":\"histogram2dcontour\"}],\"mesh3d\":[{\"colorbar\":{\"outlinewidth\":0,\"ticks\":\"\"},\"type\":\"mesh3d\"}],\"parcoords\":[{\"line\":{\"colorbar\":{\"outlinewidth\":0,\"ticks\":\"\"}},\"type\":\"parcoords\"}],\"pie\":[{\"automargin\":true,\"type\":\"pie\"}],\"scatter\":[{\"marker\":{\"colorbar\":{\"outlinewidth\":0,\"ticks\":\"\"}},\"type\":\"scatter\"}],\"scatter3d\":[{\"line\":{\"colorbar\":{\"outlinewidth\":0,\"ticks\":\"\"}},\"marker\":{\"colorbar\":{\"outlinewidth\":0,\"ticks\":\"\"}},\"type\":\"scatter3d\"}],\"scattercarpet\":[{\"marker\":{\"colorbar\":{\"outlinewidth\":0,\"ticks\":\"\"}},\"type\":\"scattercarpet\"}],\"scattergeo\":[{\"marker\":{\"colorbar\":{\"outlinewidth\":0,\"ticks\":\"\"}},\"type\":\"scattergeo\"}],\"scattergl\":[{\"marker\":{\"colorbar\":{\"outlinewidth\":0,\"ticks\":\"\"}},\"type\":\"scattergl\"}],\"scattermapbox\":[{\"marker\":{\"colorbar\":{\"outlinewidth\":0,\"ticks\":\"\"}},\"type\":\"scattermapbox\"}],\"scatterpolar\":[{\"marker\":{\"colorbar\":{\"outlinewidth\":0,\"ticks\":\"\"}},\"type\":\"scatterpolar\"}],\"scatterpolargl\":[{\"marker\":{\"colorbar\":{\"outlinewidth\":0,\"ticks\":\"\"}},\"type\":\"scatterpolargl\"}],\"scatterternary\":[{\"marker\":{\"colorbar\":{\"outlinewidth\":0,\"ticks\":\"\"}},\"type\":\"scatterternary\"}],\"surface\":[{\"colorbar\":{\"outlinewidth\":0,\"ticks\":\"\"},\"colorscale\":[[0.0,\"#0d0887\"],[0.1111111111111111,\"#46039f\"],[0.2222222222222222,\"#7201a8\"],[0.3333333333333333,\"#9c179e\"],[0.4444444444444444,\"#bd3786\"],[0.5555555555555556,\"#d8576b\"],[0.6666666666666666,\"#ed7953\"],[0.7777777777777778,\"#fb9f3a\"],[0.8888888888888888,\"#fdca26\"],[1.0,\"#f0f921\"]],\"type\":\"surface\"}],\"table\":[{\"cells\":{\"fill\":{\"color\":\"#EBF0F8\"},\"line\":{\"color\":\"white\"}},\"header\":{\"fill\":{\"color\":\"#C8D4E3\"},\"line\":{\"color\":\"white\"}},\"type\":\"table\"}]},\"layout\":{\"annotationdefaults\":{\"arrowcolor\":\"#2a3f5f\",\"arrowhead\":0,\"arrowwidth\":1},\"autotypenumbers\":\"strict\",\"coloraxis\":{\"colorbar\":{\"outlinewidth\":0,\"ticks\":\"\"}},\"colorscale\":{\"diverging\":[[0,\"#8e0152\"],[0.1,\"#c51b7d\"],[0.2,\"#de77ae\"],[0.3,\"#f1b6da\"],[0.4,\"#fde0ef\"],[0.5,\"#f7f7f7\"],[0.6,\"#e6f5d0\"],[0.7,\"#b8e186\"],[0.8,\"#7fbc41\"],[0.9,\"#4d9221\"],[1,\"#276419\"]],\"sequential\":[[0.0,\"#0d0887\"],[0.1111111111111111,\"#46039f\"],[0.2222222222222222,\"#7201a8\"],[0.3333333333333333,\"#9c179e\"],[0.4444444444444444,\"#bd3786\"],[0.5555555555555556,\"#d8576b\"],[0.6666666666666666,\"#ed7953\"],[0.7777777777777778,\"#fb9f3a\"],[0.8888888888888888,\"#fdca26\"],[1.0,\"#f0f921\"]],\"sequentialminus\":[[0.0,\"#0d0887\"],[0.1111111111111111,\"#46039f\"],[0.2222222222222222,\"#7201a8\"],[0.3333333333333333,\"#9c179e\"],[0.4444444444444444,\"#bd3786\"],[0.5555555555555556,\"#d8576b\"],[0.6666666666666666,\"#ed7953\"],[0.7777777777777778,\"#fb9f3a\"],[0.8888888888888888,\"#fdca26\"],[1.0,\"#f0f921\"]]},\"colorway\":[\"#636efa\",\"#EF553B\",\"#00cc96\",\"#ab63fa\",\"#FFA15A\",\"#19d3f3\",\"#FF6692\",\"#B6E880\",\"#FF97FF\",\"#FECB52\"],\"font\":{\"color\":\"#2a3f5f\"},\"geo\":{\"bgcolor\":\"white\",\"lakecolor\":\"white\",\"landcolor\":\"#E5ECF6\",\"showlakes\":true,\"showland\":true,\"subunitcolor\":\"white\"},\"hoverlabel\":{\"align\":\"left\"},\"hovermode\":\"closest\",\"mapbox\":{\"style\":\"light\"},\"paper_bgcolor\":\"white\",\"plot_bgcolor\":\"#E5ECF6\",\"polar\":{\"angularaxis\":{\"gridcolor\":\"white\",\"linecolor\":\"white\",\"ticks\":\"\"},\"bgcolor\":\"#E5ECF6\",\"radialaxis\":{\"gridcolor\":\"white\",\"linecolor\":\"white\",\"ticks\":\"\"}},\"scene\":{\"xaxis\":{\"backgroundcolor\":\"#E5ECF6\",\"gridcolor\":\"white\",\"gridwidth\":2,\"linecolor\":\"white\",\"showbackground\":true,\"ticks\":\"\",\"zerolinecolor\":\"white\"},\"yaxis\":{\"backgroundcolor\":\"#E5ECF6\",\"gridcolor\":\"white\",\"gridwidth\":2,\"linecolor\":\"white\",\"showbackground\":true,\"ticks\":\"\",\"zerolinecolor\":\"white\"},\"zaxis\":{\"backgroundcolor\":\"#E5ECF6\",\"gridcolor\":\"white\",\"gridwidth\":2,\"linecolor\":\"white\",\"showbackground\":true,\"ticks\":\"\",\"zerolinecolor\":\"white\"}},\"shapedefaults\":{\"line\":{\"color\":\"#2a3f5f\"}},\"ternary\":{\"aaxis\":{\"gridcolor\":\"white\",\"linecolor\":\"white\",\"ticks\":\"\"},\"baxis\":{\"gridcolor\":\"white\",\"linecolor\":\"white\",\"ticks\":\"\"},\"bgcolor\":\"#E5ECF6\",\"caxis\":{\"gridcolor\":\"white\",\"linecolor\":\"white\",\"ticks\":\"\"}},\"title\":{\"x\":0.05},\"xaxis\":{\"automargin\":true,\"gridcolor\":\"white\",\"linecolor\":\"white\",\"ticks\":\"\",\"title\":{\"standoff\":15},\"zerolinecolor\":\"white\",\"zerolinewidth\":2},\"yaxis\":{\"automargin\":true,\"gridcolor\":\"white\",\"linecolor\":\"white\",\"ticks\":\"\",\"title\":{\"standoff\":15},\"zerolinecolor\":\"white\",\"zerolinewidth\":2}}},\"height\":500,\"width\":700,\"xaxis\":{\"title\":{\"text\":\"Epoch\"}},\"yaxis\":{\"title\":{\"text\":\"Loss\"}}},                        {\"responsive\": true}                    ).then(function(){\n",
              "                            \n",
              "var gd = document.getElementById('63b2fd1d-3cdd-4af9-92b9-23113c37ac8f');\n",
              "var x = new MutationObserver(function (mutations, observer) {{\n",
              "        var display = window.getComputedStyle(gd).display;\n",
              "        if (!display || display === 'none') {{\n",
              "            console.log([gd, 'removed!']);\n",
              "            Plotly.purge(gd);\n",
              "            observer.disconnect();\n",
              "        }}\n",
              "}});\n",
              "\n",
              "// Listen for the removal of the full notebook cells\n",
              "var notebookContainer = gd.closest('#notebook-container');\n",
              "if (notebookContainer) {{\n",
              "    x.observe(notebookContainer, {childList: true});\n",
              "}}\n",
              "\n",
              "// Listen for the clearing of the current output cell\n",
              "var outputEl = gd.closest('.output');\n",
              "if (outputEl) {{\n",
              "    x.observe(outputEl, {childList: true});\n",
              "}}\n",
              "\n",
              "                        })                };                            </script>        </div>\n",
              "</body>\n",
              "</html>"
            ]
          },
          "metadata": {}
        }
      ]
    },
    {
      "cell_type": "code",
      "source": [
        "fig = go.Figure()\n",
        "fig.add_trace(go.Scattergl(y=history.history['mae'],\n",
        "                    name='Train'))\n",
        "\n",
        "fig.add_trace(go.Scattergl(y=history.history['val_mae'],\n",
        "                    name='Valid'))\n",
        "\n",
        "\n",
        "fig.update_layout(height=500, width=700,\n",
        "                  xaxis_title='Epoch',\n",
        "                  yaxis_title='Mean Absolute Error')\n",
        "\n",
        "fig.show()"
      ],
      "metadata": {
        "colab": {
          "base_uri": "https://localhost:8080/",
          "height": 517
        },
        "id": "cQIs8m6d6tEN",
        "outputId": "969dce53-90a1-48fc-b1ed-28dd01b08bb8"
      },
      "execution_count": null,
      "outputs": [
        {
          "output_type": "display_data",
          "data": {
            "text/html": [
              "<html>\n",
              "<head><meta charset=\"utf-8\" /></head>\n",
              "<body>\n",
              "    <div>            <script src=\"https://cdnjs.cloudflare.com/ajax/libs/mathjax/2.7.5/MathJax.js?config=TeX-AMS-MML_SVG\"></script><script type=\"text/javascript\">if (window.MathJax) {MathJax.Hub.Config({SVG: {font: \"STIX-Web\"}});}</script>                <script type=\"text/javascript\">window.PlotlyConfig = {MathJaxConfig: 'local'};</script>\n",
              "        <script src=\"https://cdn.plot.ly/plotly-2.8.3.min.js\"></script>                <div id=\"c482e091-5646-4934-a448-61739204863a\" class=\"plotly-graph-div\" style=\"height:500px; width:700px;\"></div>            <script type=\"text/javascript\">                                    window.PLOTLYENV=window.PLOTLYENV || {};                                    if (document.getElementById(\"c482e091-5646-4934-a448-61739204863a\")) {                    Plotly.newPlot(                        \"c482e091-5646-4934-a448-61739204863a\",                        [{\"name\":\"Train\",\"y\":[0.43818071484565735,0.43845927715301514,0.4378465712070465,0.4378216564655304,0.4341842234134674,0.4383188486099243,0.43605878949165344,0.4342435598373413,0.4353868067264557,0.4389134645462036,0.4381060004234314,0.4365665912628174,0.43707841634750366,0.4333767890930176,0.43681421875953674,0.4332628548145294,0.4339875280857086,0.4333971440792084,0.43368616700172424,0.4334089457988739,0.4331638216972351,0.43694359064102173,0.43441295623779297,0.4345966875553131,0.4363216459751129,0.43373337388038635,0.4328160881996155,0.43658724427223206,0.43623337149620056,0.43435758352279663,0.43344104290008545,0.43420708179473877,0.43106135725975037,0.43208467960357666,0.4327165484428406,0.434858113527298,0.43450039625167847,0.43439391255378723,0.4324781000614166,0.4309697449207306,0.4334169030189514,0.4355781376361847,0.4326900839805603,0.43306785821914673,0.43332439661026,0.4316493272781372,0.4328725337982178,0.43145138025283813,0.42898669838905334,0.4318687915802002,0.4361128807067871,0.4330240786075592,0.43164268136024475,0.43191245198249817,0.4316558837890625,0.43392258882522583,0.43714582920074463,0.4359946846961975,0.43466395139694214,0.4329015612602234,0.4298716187477112,0.43232205510139465,0.43591514229774475,0.4308112561702728,0.43407270312309265,0.4349842667579651,0.4321829378604889,0.42976832389831543,0.43274226784706116,0.43377017974853516,0.4331608712673187,0.43359050154685974,0.43620070815086365,0.43209612369537354,0.43153929710388184,0.43375784158706665,0.43077394366264343,0.4318622946739197,0.4328904449939728,0.43162429332733154],\"type\":\"scattergl\"},{\"name\":\"Valid\",\"y\":[0.4272455871105194,0.44383761286735535,0.4463692903518677,0.42325258255004883,0.4485592842102051,0.44334834814071655,0.4473715126514435,0.4169788956642151,0.4354865849018097,0.43557196855545044,0.4224678874015808,0.43477416038513184,0.4465116262435913,0.43264055252075195,0.418804407119751,0.4147574007511139,0.4295179843902588,0.4375018775463104,0.45529821515083313,0.42158398032188416,0.43916305899620056,0.43408364057540894,0.4287493824958801,0.431831419467926,0.41794219613075256,0.44623810052871704,0.43075424432754517,0.42242151498794556,0.4909690022468567,0.42496562004089355,0.42002639174461365,0.4210023880004883,0.45039647817611694,0.4498705565929413,0.4170478284358978,0.4697757661342621,0.4175308346748352,0.41866880655288696,0.4484734833240509,0.4205421507358551,0.4146048128604889,0.46334993839263916,0.4321517050266266,0.4191133677959442,0.41660383343696594,0.450971782207489,0.4223317801952362,0.4151044189929962,0.4234723150730133,0.41800668835639954,0.42327696084976196,0.4639778137207031,0.41760098934173584,0.43539172410964966,0.4663265347480774,0.42406830191612244,0.42087048292160034,0.42720460891723633,0.43519091606140137,0.4277031123638153,0.42476174235343933,0.4610328674316406,0.4255509674549103,0.4286655783653259,0.42294347286224365,0.4214601516723633,0.4596615135669708,0.44988366961479187,0.45368364453315735,0.42764025926589966,0.4293808043003082,0.44154682755470276,0.4195186495780945,0.44754859805107117,0.43241751194000244,0.41658899188041687,0.429855078458786,0.42113083600997925,0.4282781779766083,0.44430840015411377],\"type\":\"scattergl\"}],                        {\"template\":{\"data\":{\"bar\":[{\"error_x\":{\"color\":\"#2a3f5f\"},\"error_y\":{\"color\":\"#2a3f5f\"},\"marker\":{\"line\":{\"color\":\"#E5ECF6\",\"width\":0.5},\"pattern\":{\"fillmode\":\"overlay\",\"size\":10,\"solidity\":0.2}},\"type\":\"bar\"}],\"barpolar\":[{\"marker\":{\"line\":{\"color\":\"#E5ECF6\",\"width\":0.5},\"pattern\":{\"fillmode\":\"overlay\",\"size\":10,\"solidity\":0.2}},\"type\":\"barpolar\"}],\"carpet\":[{\"aaxis\":{\"endlinecolor\":\"#2a3f5f\",\"gridcolor\":\"white\",\"linecolor\":\"white\",\"minorgridcolor\":\"white\",\"startlinecolor\":\"#2a3f5f\"},\"baxis\":{\"endlinecolor\":\"#2a3f5f\",\"gridcolor\":\"white\",\"linecolor\":\"white\",\"minorgridcolor\":\"white\",\"startlinecolor\":\"#2a3f5f\"},\"type\":\"carpet\"}],\"choropleth\":[{\"colorbar\":{\"outlinewidth\":0,\"ticks\":\"\"},\"type\":\"choropleth\"}],\"contour\":[{\"colorbar\":{\"outlinewidth\":0,\"ticks\":\"\"},\"colorscale\":[[0.0,\"#0d0887\"],[0.1111111111111111,\"#46039f\"],[0.2222222222222222,\"#7201a8\"],[0.3333333333333333,\"#9c179e\"],[0.4444444444444444,\"#bd3786\"],[0.5555555555555556,\"#d8576b\"],[0.6666666666666666,\"#ed7953\"],[0.7777777777777778,\"#fb9f3a\"],[0.8888888888888888,\"#fdca26\"],[1.0,\"#f0f921\"]],\"type\":\"contour\"}],\"contourcarpet\":[{\"colorbar\":{\"outlinewidth\":0,\"ticks\":\"\"},\"type\":\"contourcarpet\"}],\"heatmap\":[{\"colorbar\":{\"outlinewidth\":0,\"ticks\":\"\"},\"colorscale\":[[0.0,\"#0d0887\"],[0.1111111111111111,\"#46039f\"],[0.2222222222222222,\"#7201a8\"],[0.3333333333333333,\"#9c179e\"],[0.4444444444444444,\"#bd3786\"],[0.5555555555555556,\"#d8576b\"],[0.6666666666666666,\"#ed7953\"],[0.7777777777777778,\"#fb9f3a\"],[0.8888888888888888,\"#fdca26\"],[1.0,\"#f0f921\"]],\"type\":\"heatmap\"}],\"heatmapgl\":[{\"colorbar\":{\"outlinewidth\":0,\"ticks\":\"\"},\"colorscale\":[[0.0,\"#0d0887\"],[0.1111111111111111,\"#46039f\"],[0.2222222222222222,\"#7201a8\"],[0.3333333333333333,\"#9c179e\"],[0.4444444444444444,\"#bd3786\"],[0.5555555555555556,\"#d8576b\"],[0.6666666666666666,\"#ed7953\"],[0.7777777777777778,\"#fb9f3a\"],[0.8888888888888888,\"#fdca26\"],[1.0,\"#f0f921\"]],\"type\":\"heatmapgl\"}],\"histogram\":[{\"marker\":{\"pattern\":{\"fillmode\":\"overlay\",\"size\":10,\"solidity\":0.2}},\"type\":\"histogram\"}],\"histogram2d\":[{\"colorbar\":{\"outlinewidth\":0,\"ticks\":\"\"},\"colorscale\":[[0.0,\"#0d0887\"],[0.1111111111111111,\"#46039f\"],[0.2222222222222222,\"#7201a8\"],[0.3333333333333333,\"#9c179e\"],[0.4444444444444444,\"#bd3786\"],[0.5555555555555556,\"#d8576b\"],[0.6666666666666666,\"#ed7953\"],[0.7777777777777778,\"#fb9f3a\"],[0.8888888888888888,\"#fdca26\"],[1.0,\"#f0f921\"]],\"type\":\"histogram2d\"}],\"histogram2dcontour\":[{\"colorbar\":{\"outlinewidth\":0,\"ticks\":\"\"},\"colorscale\":[[0.0,\"#0d0887\"],[0.1111111111111111,\"#46039f\"],[0.2222222222222222,\"#7201a8\"],[0.3333333333333333,\"#9c179e\"],[0.4444444444444444,\"#bd3786\"],[0.5555555555555556,\"#d8576b\"],[0.6666666666666666,\"#ed7953\"],[0.7777777777777778,\"#fb9f3a\"],[0.8888888888888888,\"#fdca26\"],[1.0,\"#f0f921\"]],\"type\":\"histogram2dcontour\"}],\"mesh3d\":[{\"colorbar\":{\"outlinewidth\":0,\"ticks\":\"\"},\"type\":\"mesh3d\"}],\"parcoords\":[{\"line\":{\"colorbar\":{\"outlinewidth\":0,\"ticks\":\"\"}},\"type\":\"parcoords\"}],\"pie\":[{\"automargin\":true,\"type\":\"pie\"}],\"scatter\":[{\"marker\":{\"colorbar\":{\"outlinewidth\":0,\"ticks\":\"\"}},\"type\":\"scatter\"}],\"scatter3d\":[{\"line\":{\"colorbar\":{\"outlinewidth\":0,\"ticks\":\"\"}},\"marker\":{\"colorbar\":{\"outlinewidth\":0,\"ticks\":\"\"}},\"type\":\"scatter3d\"}],\"scattercarpet\":[{\"marker\":{\"colorbar\":{\"outlinewidth\":0,\"ticks\":\"\"}},\"type\":\"scattercarpet\"}],\"scattergeo\":[{\"marker\":{\"colorbar\":{\"outlinewidth\":0,\"ticks\":\"\"}},\"type\":\"scattergeo\"}],\"scattergl\":[{\"marker\":{\"colorbar\":{\"outlinewidth\":0,\"ticks\":\"\"}},\"type\":\"scattergl\"}],\"scattermapbox\":[{\"marker\":{\"colorbar\":{\"outlinewidth\":0,\"ticks\":\"\"}},\"type\":\"scattermapbox\"}],\"scatterpolar\":[{\"marker\":{\"colorbar\":{\"outlinewidth\":0,\"ticks\":\"\"}},\"type\":\"scatterpolar\"}],\"scatterpolargl\":[{\"marker\":{\"colorbar\":{\"outlinewidth\":0,\"ticks\":\"\"}},\"type\":\"scatterpolargl\"}],\"scatterternary\":[{\"marker\":{\"colorbar\":{\"outlinewidth\":0,\"ticks\":\"\"}},\"type\":\"scatterternary\"}],\"surface\":[{\"colorbar\":{\"outlinewidth\":0,\"ticks\":\"\"},\"colorscale\":[[0.0,\"#0d0887\"],[0.1111111111111111,\"#46039f\"],[0.2222222222222222,\"#7201a8\"],[0.3333333333333333,\"#9c179e\"],[0.4444444444444444,\"#bd3786\"],[0.5555555555555556,\"#d8576b\"],[0.6666666666666666,\"#ed7953\"],[0.7777777777777778,\"#fb9f3a\"],[0.8888888888888888,\"#fdca26\"],[1.0,\"#f0f921\"]],\"type\":\"surface\"}],\"table\":[{\"cells\":{\"fill\":{\"color\":\"#EBF0F8\"},\"line\":{\"color\":\"white\"}},\"header\":{\"fill\":{\"color\":\"#C8D4E3\"},\"line\":{\"color\":\"white\"}},\"type\":\"table\"}]},\"layout\":{\"annotationdefaults\":{\"arrowcolor\":\"#2a3f5f\",\"arrowhead\":0,\"arrowwidth\":1},\"autotypenumbers\":\"strict\",\"coloraxis\":{\"colorbar\":{\"outlinewidth\":0,\"ticks\":\"\"}},\"colorscale\":{\"diverging\":[[0,\"#8e0152\"],[0.1,\"#c51b7d\"],[0.2,\"#de77ae\"],[0.3,\"#f1b6da\"],[0.4,\"#fde0ef\"],[0.5,\"#f7f7f7\"],[0.6,\"#e6f5d0\"],[0.7,\"#b8e186\"],[0.8,\"#7fbc41\"],[0.9,\"#4d9221\"],[1,\"#276419\"]],\"sequential\":[[0.0,\"#0d0887\"],[0.1111111111111111,\"#46039f\"],[0.2222222222222222,\"#7201a8\"],[0.3333333333333333,\"#9c179e\"],[0.4444444444444444,\"#bd3786\"],[0.5555555555555556,\"#d8576b\"],[0.6666666666666666,\"#ed7953\"],[0.7777777777777778,\"#fb9f3a\"],[0.8888888888888888,\"#fdca26\"],[1.0,\"#f0f921\"]],\"sequentialminus\":[[0.0,\"#0d0887\"],[0.1111111111111111,\"#46039f\"],[0.2222222222222222,\"#7201a8\"],[0.3333333333333333,\"#9c179e\"],[0.4444444444444444,\"#bd3786\"],[0.5555555555555556,\"#d8576b\"],[0.6666666666666666,\"#ed7953\"],[0.7777777777777778,\"#fb9f3a\"],[0.8888888888888888,\"#fdca26\"],[1.0,\"#f0f921\"]]},\"colorway\":[\"#636efa\",\"#EF553B\",\"#00cc96\",\"#ab63fa\",\"#FFA15A\",\"#19d3f3\",\"#FF6692\",\"#B6E880\",\"#FF97FF\",\"#FECB52\"],\"font\":{\"color\":\"#2a3f5f\"},\"geo\":{\"bgcolor\":\"white\",\"lakecolor\":\"white\",\"landcolor\":\"#E5ECF6\",\"showlakes\":true,\"showland\":true,\"subunitcolor\":\"white\"},\"hoverlabel\":{\"align\":\"left\"},\"hovermode\":\"closest\",\"mapbox\":{\"style\":\"light\"},\"paper_bgcolor\":\"white\",\"plot_bgcolor\":\"#E5ECF6\",\"polar\":{\"angularaxis\":{\"gridcolor\":\"white\",\"linecolor\":\"white\",\"ticks\":\"\"},\"bgcolor\":\"#E5ECF6\",\"radialaxis\":{\"gridcolor\":\"white\",\"linecolor\":\"white\",\"ticks\":\"\"}},\"scene\":{\"xaxis\":{\"backgroundcolor\":\"#E5ECF6\",\"gridcolor\":\"white\",\"gridwidth\":2,\"linecolor\":\"white\",\"showbackground\":true,\"ticks\":\"\",\"zerolinecolor\":\"white\"},\"yaxis\":{\"backgroundcolor\":\"#E5ECF6\",\"gridcolor\":\"white\",\"gridwidth\":2,\"linecolor\":\"white\",\"showbackground\":true,\"ticks\":\"\",\"zerolinecolor\":\"white\"},\"zaxis\":{\"backgroundcolor\":\"#E5ECF6\",\"gridcolor\":\"white\",\"gridwidth\":2,\"linecolor\":\"white\",\"showbackground\":true,\"ticks\":\"\",\"zerolinecolor\":\"white\"}},\"shapedefaults\":{\"line\":{\"color\":\"#2a3f5f\"}},\"ternary\":{\"aaxis\":{\"gridcolor\":\"white\",\"linecolor\":\"white\",\"ticks\":\"\"},\"baxis\":{\"gridcolor\":\"white\",\"linecolor\":\"white\",\"ticks\":\"\"},\"bgcolor\":\"#E5ECF6\",\"caxis\":{\"gridcolor\":\"white\",\"linecolor\":\"white\",\"ticks\":\"\"}},\"title\":{\"x\":0.05},\"xaxis\":{\"automargin\":true,\"gridcolor\":\"white\",\"linecolor\":\"white\",\"ticks\":\"\",\"title\":{\"standoff\":15},\"zerolinecolor\":\"white\",\"zerolinewidth\":2},\"yaxis\":{\"automargin\":true,\"gridcolor\":\"white\",\"linecolor\":\"white\",\"ticks\":\"\",\"title\":{\"standoff\":15},\"zerolinecolor\":\"white\",\"zerolinewidth\":2}}},\"height\":500,\"width\":700,\"xaxis\":{\"title\":{\"text\":\"Epoch\"}},\"yaxis\":{\"title\":{\"text\":\"Mean Absolute Error\"}}},                        {\"responsive\": true}                    ).then(function(){\n",
              "                            \n",
              "var gd = document.getElementById('c482e091-5646-4934-a448-61739204863a');\n",
              "var x = new MutationObserver(function (mutations, observer) {{\n",
              "        var display = window.getComputedStyle(gd).display;\n",
              "        if (!display || display === 'none') {{\n",
              "            console.log([gd, 'removed!']);\n",
              "            Plotly.purge(gd);\n",
              "            observer.disconnect();\n",
              "        }}\n",
              "}});\n",
              "\n",
              "// Listen for the removal of the full notebook cells\n",
              "var notebookContainer = gd.closest('#notebook-container');\n",
              "if (notebookContainer) {{\n",
              "    x.observe(notebookContainer, {childList: true});\n",
              "}}\n",
              "\n",
              "// Listen for the clearing of the current output cell\n",
              "var outputEl = gd.closest('.output');\n",
              "if (outputEl) {{\n",
              "    x.observe(outputEl, {childList: true});\n",
              "}}\n",
              "\n",
              "                        })                };                            </script>        </div>\n",
              "</body>\n",
              "</html>"
            ]
          },
          "metadata": {}
        }
      ]
    },
    {
      "cell_type": "code",
      "source": [
        "from sklearn.metrics import mean_absolute_error\n",
        "\n",
        "Xnew = model.predict(X_test)\n",
        "\n",
        "print(f\"Средняя абсолютная ошибка: {int(mean_absolute_error(Xnew, y_test)*100000)}$\")"
      ],
      "metadata": {
        "colab": {
          "base_uri": "https://localhost:8080/"
        },
        "id": "1tp9MWJ78nec",
        "outputId": "b7e7f292-1979-40a8-c1a9-7604973c12f0"
      },
      "execution_count": null,
      "outputs": [
        {
          "output_type": "stream",
          "name": "stdout",
          "text": [
            "65/65 [==============================] - 0s 1ms/step\n",
            "Средняя абсолютная ошибка: 52865$\n"
          ]
        }
      ]
    }
  ]
}